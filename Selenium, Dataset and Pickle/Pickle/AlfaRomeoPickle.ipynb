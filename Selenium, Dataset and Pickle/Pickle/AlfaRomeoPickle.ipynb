{
 "cells": [
  {
   "cell_type": "code",
   "execution_count": 1,
   "metadata": {},
   "outputs": [],
   "source": [
    "import pandas as pnd\n",
    "import numpy as nmp\n",
    "from sklearn.model_selection import train_test_split ,GridSearchCV,cross_val_score\n",
    "from sklearn.metrics import r2_score , mean_squared_error , mean_absolute_error\n",
    "import xgboost as xgb"
   ]
  },
  {
   "cell_type": "code",
   "execution_count": 9,
   "metadata": {},
   "outputs": [],
   "source": [
    "data = pnd.read_excel(r\"C:\\Users\\sbura\\Desktop\\Bitirme Projesi\\Model Tabloları\\Audi.xlsx\")"
   ]
  },
  {
   "cell_type": "code",
   "execution_count": 3,
   "metadata": {},
   "outputs": [],
   "source": [
    "data.drop([\"Unnamed: 0\"],axis=1,inplace=True)"
   ]
  },
  {
   "cell_type": "code",
   "execution_count": 4,
   "metadata": {},
   "outputs": [
    {
     "data": {
      "text/html": [
       "<div>\n",
       "<style scoped>\n",
       "    .dataframe tbody tr th:only-of-type {\n",
       "        vertical-align: middle;\n",
       "    }\n",
       "\n",
       "    .dataframe tbody tr th {\n",
       "        vertical-align: top;\n",
       "    }\n",
       "\n",
       "    .dataframe thead th {\n",
       "        text-align: right;\n",
       "    }\n",
       "</style>\n",
       "<table border=\"1\" class=\"dataframe\">\n",
       "  <thead>\n",
       "    <tr style=\"text-align: right;\">\n",
       "      <th></th>\n",
       "      <th>Fiyat</th>\n",
       "      <th>Yıl</th>\n",
       "      <th>Motor Gücü</th>\n",
       "      <th>Motor Hacmi</th>\n",
       "      <th>Kilometre</th>\n",
       "      <th>Boya</th>\n",
       "      <th>Değişen</th>\n",
       "      <th>Yakıt_Benzin</th>\n",
       "      <th>Yakıt_Dizel</th>\n",
       "      <th>Yakıt_LPG &amp; Benzin</th>\n",
       "      <th>...</th>\n",
       "      <th>Model_1.6 JTDM-2 Super</th>\n",
       "      <th>Model_1.6 TS</th>\n",
       "      <th>Model_1.6 TS Black Line</th>\n",
       "      <th>Model_1.6 TS Distinctive</th>\n",
       "      <th>Model_1.6 TS Progression</th>\n",
       "      <th>Model_2.0 TS</th>\n",
       "      <th>Model_2.0 TS Distinctive</th>\n",
       "      <th>Model_2.0 TS Executive</th>\n",
       "      <th>Model_2.0 TS Selespeed</th>\n",
       "      <th>Model_2.0 TS Selespeed Distinctive</th>\n",
       "    </tr>\n",
       "  </thead>\n",
       "  <tbody>\n",
       "    <tr>\n",
       "      <th>0</th>\n",
       "      <td>68000</td>\n",
       "      <td>1998</td>\n",
       "      <td>155</td>\n",
       "      <td>1970</td>\n",
       "      <td>400000</td>\n",
       "      <td>13</td>\n",
       "      <td>0</td>\n",
       "      <td>0</td>\n",
       "      <td>0</td>\n",
       "      <td>1</td>\n",
       "      <td>...</td>\n",
       "      <td>0</td>\n",
       "      <td>0</td>\n",
       "      <td>0</td>\n",
       "      <td>0</td>\n",
       "      <td>0</td>\n",
       "      <td>1</td>\n",
       "      <td>0</td>\n",
       "      <td>0</td>\n",
       "      <td>0</td>\n",
       "      <td>0</td>\n",
       "    </tr>\n",
       "    <tr>\n",
       "      <th>1</th>\n",
       "      <td>423000</td>\n",
       "      <td>2017</td>\n",
       "      <td>170</td>\n",
       "      <td>1368</td>\n",
       "      <td>63000</td>\n",
       "      <td>0</td>\n",
       "      <td>0</td>\n",
       "      <td>1</td>\n",
       "      <td>0</td>\n",
       "      <td>0</td>\n",
       "      <td>...</td>\n",
       "      <td>0</td>\n",
       "      <td>0</td>\n",
       "      <td>0</td>\n",
       "      <td>0</td>\n",
       "      <td>0</td>\n",
       "      <td>0</td>\n",
       "      <td>0</td>\n",
       "      <td>0</td>\n",
       "      <td>0</td>\n",
       "      <td>0</td>\n",
       "    </tr>\n",
       "    <tr>\n",
       "      <th>2</th>\n",
       "      <td>72500</td>\n",
       "      <td>1998</td>\n",
       "      <td>155</td>\n",
       "      <td>1970</td>\n",
       "      <td>289766</td>\n",
       "      <td>6</td>\n",
       "      <td>0</td>\n",
       "      <td>0</td>\n",
       "      <td>0</td>\n",
       "      <td>1</td>\n",
       "      <td>...</td>\n",
       "      <td>0</td>\n",
       "      <td>0</td>\n",
       "      <td>0</td>\n",
       "      <td>0</td>\n",
       "      <td>0</td>\n",
       "      <td>1</td>\n",
       "      <td>0</td>\n",
       "      <td>0</td>\n",
       "      <td>0</td>\n",
       "      <td>0</td>\n",
       "    </tr>\n",
       "    <tr>\n",
       "      <th>3</th>\n",
       "      <td>89000</td>\n",
       "      <td>2004</td>\n",
       "      <td>120</td>\n",
       "      <td>1598</td>\n",
       "      <td>298000</td>\n",
       "      <td>1</td>\n",
       "      <td>13</td>\n",
       "      <td>0</td>\n",
       "      <td>0</td>\n",
       "      <td>1</td>\n",
       "      <td>...</td>\n",
       "      <td>0</td>\n",
       "      <td>0</td>\n",
       "      <td>0</td>\n",
       "      <td>0</td>\n",
       "      <td>1</td>\n",
       "      <td>0</td>\n",
       "      <td>0</td>\n",
       "      <td>0</td>\n",
       "      <td>0</td>\n",
       "      <td>0</td>\n",
       "    </tr>\n",
       "    <tr>\n",
       "      <th>4</th>\n",
       "      <td>160000</td>\n",
       "      <td>2005</td>\n",
       "      <td>120</td>\n",
       "      <td>1598</td>\n",
       "      <td>175000</td>\n",
       "      <td>0</td>\n",
       "      <td>0</td>\n",
       "      <td>0</td>\n",
       "      <td>0</td>\n",
       "      <td>1</td>\n",
       "      <td>...</td>\n",
       "      <td>0</td>\n",
       "      <td>0</td>\n",
       "      <td>0</td>\n",
       "      <td>1</td>\n",
       "      <td>0</td>\n",
       "      <td>0</td>\n",
       "      <td>0</td>\n",
       "      <td>0</td>\n",
       "      <td>0</td>\n",
       "      <td>0</td>\n",
       "    </tr>\n",
       "    <tr>\n",
       "      <th>...</th>\n",
       "      <td>...</td>\n",
       "      <td>...</td>\n",
       "      <td>...</td>\n",
       "      <td>...</td>\n",
       "      <td>...</td>\n",
       "      <td>...</td>\n",
       "      <td>...</td>\n",
       "      <td>...</td>\n",
       "      <td>...</td>\n",
       "      <td>...</td>\n",
       "      <td>...</td>\n",
       "      <td>...</td>\n",
       "      <td>...</td>\n",
       "      <td>...</td>\n",
       "      <td>...</td>\n",
       "      <td>...</td>\n",
       "      <td>...</td>\n",
       "      <td>...</td>\n",
       "      <td>...</td>\n",
       "      <td>...</td>\n",
       "      <td>...</td>\n",
       "    </tr>\n",
       "    <tr>\n",
       "      <th>173</th>\n",
       "      <td>277750</td>\n",
       "      <td>2015</td>\n",
       "      <td>105</td>\n",
       "      <td>1598</td>\n",
       "      <td>184000</td>\n",
       "      <td>0</td>\n",
       "      <td>0</td>\n",
       "      <td>0</td>\n",
       "      <td>1</td>\n",
       "      <td>0</td>\n",
       "      <td>...</td>\n",
       "      <td>0</td>\n",
       "      <td>0</td>\n",
       "      <td>0</td>\n",
       "      <td>0</td>\n",
       "      <td>0</td>\n",
       "      <td>0</td>\n",
       "      <td>0</td>\n",
       "      <td>0</td>\n",
       "      <td>0</td>\n",
       "      <td>0</td>\n",
       "    </tr>\n",
       "    <tr>\n",
       "      <th>174</th>\n",
       "      <td>80001</td>\n",
       "      <td>2000</td>\n",
       "      <td>120</td>\n",
       "      <td>1598</td>\n",
       "      <td>200000</td>\n",
       "      <td>0</td>\n",
       "      <td>0</td>\n",
       "      <td>0</td>\n",
       "      <td>0</td>\n",
       "      <td>1</td>\n",
       "      <td>...</td>\n",
       "      <td>0</td>\n",
       "      <td>1</td>\n",
       "      <td>0</td>\n",
       "      <td>0</td>\n",
       "      <td>0</td>\n",
       "      <td>0</td>\n",
       "      <td>0</td>\n",
       "      <td>0</td>\n",
       "      <td>0</td>\n",
       "      <td>0</td>\n",
       "    </tr>\n",
       "    <tr>\n",
       "      <th>175</th>\n",
       "      <td>120000</td>\n",
       "      <td>2004</td>\n",
       "      <td>120</td>\n",
       "      <td>1598</td>\n",
       "      <td>214000</td>\n",
       "      <td>0</td>\n",
       "      <td>0</td>\n",
       "      <td>0</td>\n",
       "      <td>0</td>\n",
       "      <td>1</td>\n",
       "      <td>...</td>\n",
       "      <td>0</td>\n",
       "      <td>0</td>\n",
       "      <td>0</td>\n",
       "      <td>0</td>\n",
       "      <td>1</td>\n",
       "      <td>0</td>\n",
       "      <td>0</td>\n",
       "      <td>0</td>\n",
       "      <td>0</td>\n",
       "      <td>0</td>\n",
       "    </tr>\n",
       "    <tr>\n",
       "      <th>176</th>\n",
       "      <td>430000</td>\n",
       "      <td>2016</td>\n",
       "      <td>170</td>\n",
       "      <td>1368</td>\n",
       "      <td>98000</td>\n",
       "      <td>0</td>\n",
       "      <td>0</td>\n",
       "      <td>1</td>\n",
       "      <td>0</td>\n",
       "      <td>0</td>\n",
       "      <td>...</td>\n",
       "      <td>0</td>\n",
       "      <td>0</td>\n",
       "      <td>0</td>\n",
       "      <td>0</td>\n",
       "      <td>0</td>\n",
       "      <td>0</td>\n",
       "      <td>0</td>\n",
       "      <td>0</td>\n",
       "      <td>0</td>\n",
       "      <td>0</td>\n",
       "    </tr>\n",
       "    <tr>\n",
       "      <th>177</th>\n",
       "      <td>161500</td>\n",
       "      <td>2005</td>\n",
       "      <td>120</td>\n",
       "      <td>1598</td>\n",
       "      <td>240000</td>\n",
       "      <td>0</td>\n",
       "      <td>1</td>\n",
       "      <td>0</td>\n",
       "      <td>0</td>\n",
       "      <td>1</td>\n",
       "      <td>...</td>\n",
       "      <td>0</td>\n",
       "      <td>0</td>\n",
       "      <td>0</td>\n",
       "      <td>1</td>\n",
       "      <td>0</td>\n",
       "      <td>0</td>\n",
       "      <td>0</td>\n",
       "      <td>0</td>\n",
       "      <td>0</td>\n",
       "      <td>0</td>\n",
       "    </tr>\n",
       "  </tbody>\n",
       "</table>\n",
       "<p>178 rows × 36 columns</p>\n",
       "</div>"
      ],
      "text/plain": [
       "      Fiyat   Yıl  Motor Gücü  Motor Hacmi  Kilometre  Boya  Değişen  \\\n",
       "0     68000  1998         155         1970     400000    13        0   \n",
       "1    423000  2017         170         1368      63000     0        0   \n",
       "2     72500  1998         155         1970     289766     6        0   \n",
       "3     89000  2004         120         1598     298000     1       13   \n",
       "4    160000  2005         120         1598     175000     0        0   \n",
       "..      ...   ...         ...          ...        ...   ...      ...   \n",
       "173  277750  2015         105         1598     184000     0        0   \n",
       "174   80001  2000         120         1598     200000     0        0   \n",
       "175  120000  2004         120         1598     214000     0        0   \n",
       "176  430000  2016         170         1368      98000     0        0   \n",
       "177  161500  2005         120         1598     240000     0        1   \n",
       "\n",
       "     Yakıt_Benzin  Yakıt_Dizel  Yakıt_LPG & Benzin  ...  \\\n",
       "0               0            0                   1  ...   \n",
       "1               1            0                   0  ...   \n",
       "2               0            0                   1  ...   \n",
       "3               0            0                   1  ...   \n",
       "4               0            0                   1  ...   \n",
       "..            ...          ...                 ...  ...   \n",
       "173             0            1                   0  ...   \n",
       "174             0            0                   1  ...   \n",
       "175             0            0                   1  ...   \n",
       "176             1            0                   0  ...   \n",
       "177             0            0                   1  ...   \n",
       "\n",
       "     Model_1.6 JTDM-2 Super  Model_1.6 TS  Model_1.6 TS Black Line  \\\n",
       "0                         0             0                        0   \n",
       "1                         0             0                        0   \n",
       "2                         0             0                        0   \n",
       "3                         0             0                        0   \n",
       "4                         0             0                        0   \n",
       "..                      ...           ...                      ...   \n",
       "173                       0             0                        0   \n",
       "174                       0             1                        0   \n",
       "175                       0             0                        0   \n",
       "176                       0             0                        0   \n",
       "177                       0             0                        0   \n",
       "\n",
       "     Model_1.6 TS Distinctive  Model_1.6 TS Progression  Model_2.0 TS  \\\n",
       "0                           0                         0             1   \n",
       "1                           0                         0             0   \n",
       "2                           0                         0             1   \n",
       "3                           0                         1             0   \n",
       "4                           1                         0             0   \n",
       "..                        ...                       ...           ...   \n",
       "173                         0                         0             0   \n",
       "174                         0                         0             0   \n",
       "175                         0                         1             0   \n",
       "176                         0                         0             0   \n",
       "177                         1                         0             0   \n",
       "\n",
       "     Model_2.0 TS Distinctive  Model_2.0 TS Executive  Model_2.0 TS Selespeed  \\\n",
       "0                           0                       0                       0   \n",
       "1                           0                       0                       0   \n",
       "2                           0                       0                       0   \n",
       "3                           0                       0                       0   \n",
       "4                           0                       0                       0   \n",
       "..                        ...                     ...                     ...   \n",
       "173                         0                       0                       0   \n",
       "174                         0                       0                       0   \n",
       "175                         0                       0                       0   \n",
       "176                         0                       0                       0   \n",
       "177                         0                       0                       0   \n",
       "\n",
       "     Model_2.0 TS Selespeed Distinctive  \n",
       "0                                     0  \n",
       "1                                     0  \n",
       "2                                     0  \n",
       "3                                     0  \n",
       "4                                     0  \n",
       "..                                  ...  \n",
       "173                                   0  \n",
       "174                                   0  \n",
       "175                                   0  \n",
       "176                                   0  \n",
       "177                                   0  \n",
       "\n",
       "[178 rows x 36 columns]"
      ]
     },
     "execution_count": 4,
     "metadata": {},
     "output_type": "execute_result"
    }
   ],
   "source": [
    "data"
   ]
  },
  {
   "cell_type": "code",
   "execution_count": 5,
   "metadata": {},
   "outputs": [],
   "source": [
    "x = data.drop(\"Fiyat\",axis=1)\n",
    "y = data[\"Fiyat\"]\n",
    "x_train, x_test , y_train, y_test = train_test_split(x,y,test_size=0.30,random_state=42)"
   ]
  },
  {
   "cell_type": "code",
   "execution_count": 6,
   "metadata": {},
   "outputs": [],
   "source": [
    "xgb_tuned = xgb.XGBRegressor(colsample_bytree = 0.9,learning_rate = 0.01,max_depth = 4,n_estimators = 600)"
   ]
  },
  {
   "cell_type": "code",
   "execution_count": 7,
   "metadata": {},
   "outputs": [],
   "source": [
    "xgb_tuned.fit(x_train,y_train)\n",
    "pred = xgb_tuned.predict(x_test)"
   ]
  },
  {
   "cell_type": "code",
   "execution_count": null,
   "metadata": {},
   "outputs": [],
   "source": []
  },
  {
   "cell_type": "code",
   "execution_count": 10,
   "metadata": {},
   "outputs": [],
   "source": [
    "def get_column_names(col_name:str):\n",
    "    columns = data.columns\n",
    "    liste = []\n",
    "    for col in columns:\n",
    "        if col_name in col:\n",
    "            liste.append(col)\n",
    "    return liste"
   ]
  },
  {
   "cell_type": "code",
   "execution_count": 11,
   "metadata": {},
   "outputs": [],
   "source": [
    "def converting(column:str,col_name:str):\n",
    "    liste = get_column_names(column)\n",
    "    predict_list = list(nmp.zeros(len(liste),dtype=int))\n",
    "    for item in liste:\n",
    "      index=0\n",
    "      if item.endswith(col_name):\n",
    "        itemindex = liste.index(item)\n",
    "        predict_list[index] = 1\n",
    "        index+=1\n",
    "    return predict_list"
   ]
  },
  {
   "cell_type": "markdown",
   "metadata": {},
   "source": [
    "# Pickle"
   ]
  },
  {
   "cell_type": "code",
   "execution_count": 2,
   "metadata": {},
   "outputs": [],
   "source": [
    "import pickle"
   ]
  },
  {
   "cell_type": "code",
   "execution_count": 3,
   "metadata": {},
   "outputs": [],
   "source": [
    "model_dosyasi= \"Alfa Romeo.pickle\""
   ]
  },
  {
   "cell_type": "code",
   "execution_count": 4,
   "metadata": {
    "scrolled": true
   },
   "outputs": [
    {
     "ename": "NameError",
     "evalue": "name 'xgb_tuned' is not defined",
     "output_type": "error",
     "traceback": [
      "\u001b[1;31m---------------------------------------------------------------------------\u001b[0m",
      "\u001b[1;31mNameError\u001b[0m                                 Traceback (most recent call last)",
      "\u001b[1;32m<ipython-input-4-2a1687182769>\u001b[0m in \u001b[0;36m<module>\u001b[1;34m\u001b[0m\n\u001b[1;32m----> 1\u001b[1;33m \u001b[0mpickle\u001b[0m\u001b[1;33m.\u001b[0m\u001b[0mdump\u001b[0m\u001b[1;33m(\u001b[0m\u001b[0mxgb_tuned\u001b[0m\u001b[1;33m,\u001b[0m \u001b[0mopen\u001b[0m\u001b[1;33m(\u001b[0m\u001b[0mmodel_dosyasi\u001b[0m\u001b[1;33m,\u001b[0m \u001b[1;34m'wb'\u001b[0m\u001b[1;33m)\u001b[0m\u001b[1;33m)\u001b[0m\u001b[1;33m\u001b[0m\u001b[1;33m\u001b[0m\u001b[0m\n\u001b[0m",
      "\u001b[1;31mNameError\u001b[0m: name 'xgb_tuned' is not defined"
     ]
    }
   ],
   "source": [
    "pickle.dump(xgb_tuned, open(model_dosyasi, 'wb'))"
   ]
  },
  {
   "cell_type": "code",
   "execution_count": 12,
   "metadata": {},
   "outputs": [],
   "source": [
    "tahmin_verisi = [2015,251,2501,40000,0,0]"
   ]
  },
  {
   "cell_type": "code",
   "execution_count": 13,
   "metadata": {},
   "outputs": [],
   "source": [
    "tahmin_verisi.extend(converting(\"Yakıt\",\"Dizel\"))"
   ]
  },
  {
   "cell_type": "code",
   "execution_count": 14,
   "metadata": {},
   "outputs": [],
   "source": [
    "tahmin_verisi.extend(converting(\"Vites\",\"Otomatik\"))"
   ]
  },
  {
   "cell_type": "code",
   "execution_count": 15,
   "metadata": {},
   "outputs": [],
   "source": [
    "tahmin_verisi.extend(converting(\"Seri\",\"A8\"))"
   ]
  },
  {
   "cell_type": "code",
   "execution_count": 16,
   "metadata": {},
   "outputs": [],
   "source": [
    "tahmin_verisi.extend(converting(\"Model\",\"4.2 Quattro\"))"
   ]
  },
  {
   "cell_type": "code",
   "execution_count": null,
   "metadata": {},
   "outputs": [],
   "source": [
    "len(tahmin_verisi)"
   ]
  },
  {
   "cell_type": "code",
   "execution_count": null,
   "metadata": {},
   "outputs": [],
   "source": []
  },
  {
   "cell_type": "code",
   "execution_count": null,
   "metadata": {},
   "outputs": [],
   "source": []
  },
  {
   "cell_type": "code",
   "execution_count": 5,
   "metadata": {},
   "outputs": [],
   "source": [
    "mymodel = pickle.load(open(\"Audi.pickle\", 'rb'))"
   ]
  },
  {
   "cell_type": "code",
   "execution_count": 18,
   "metadata": {},
   "outputs": [
    {
     "data": {
      "text/plain": [
       "array([1470445.], dtype=float32)"
      ]
     },
     "execution_count": 18,
     "metadata": {},
     "output_type": "execute_result"
    }
   ],
   "source": [
    "mymodel.predict(nmp.array(tahmin_verisi).reshape(1,-1))   "
   ]
  },
  {
   "cell_type": "code",
   "execution_count": 6,
   "metadata": {},
   "outputs": [
    {
     "ename": "NameError",
     "evalue": "name 'data' is not defined",
     "output_type": "error",
     "traceback": [
      "\u001b[1;31m---------------------------------------------------------------------------\u001b[0m",
      "\u001b[1;31mNameError\u001b[0m                                 Traceback (most recent call last)",
      "\u001b[1;32m<ipython-input-6-c5d84736ba45>\u001b[0m in \u001b[0;36m<module>\u001b[1;34m\u001b[0m\n\u001b[1;32m----> 1\u001b[1;33m \u001b[0mdata\u001b[0m\u001b[1;33m\u001b[0m\u001b[1;33m\u001b[0m\u001b[0m\n\u001b[0m",
      "\u001b[1;31mNameError\u001b[0m: name 'data' is not defined"
     ]
    }
   ],
   "source": [
    "data"
   ]
  },
  {
   "cell_type": "code",
   "execution_count": null,
   "metadata": {},
   "outputs": [],
   "source": []
  }
 ],
 "metadata": {
  "kernelspec": {
   "display_name": "Python 3",
   "language": "python",
   "name": "python3"
  },
  "language_info": {
   "codemirror_mode": {
    "name": "ipython",
    "version": 3
   },
   "file_extension": ".py",
   "mimetype": "text/x-python",
   "name": "python",
   "nbconvert_exporter": "python",
   "pygments_lexer": "ipython3",
   "version": "3.8.3"
  }
 },
 "nbformat": 4,
 "nbformat_minor": 4
}
