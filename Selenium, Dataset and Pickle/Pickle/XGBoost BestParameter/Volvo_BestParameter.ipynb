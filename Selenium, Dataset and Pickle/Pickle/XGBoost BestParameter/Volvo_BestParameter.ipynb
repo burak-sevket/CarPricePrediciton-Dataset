{
 "cells": [
  {
   "cell_type": "code",
   "execution_count": 1,
   "metadata": {
    "colab": {
     "base_uri": "https://localhost:8080/"
    },
    "executionInfo": {
     "elapsed": 18014,
     "status": "ok",
     "timestamp": 1653062388962,
     "user": {
      "displayName": "deneme denemem",
      "userId": "03690392615169329005"
     },
     "user_tz": -180
    },
    "id": "eszwqJBrLuQv",
    "outputId": "97a0ad01-9ab8-46a5-a73b-948749b04ff1"
   },
   "outputs": [
    {
     "name": "stdout",
     "output_type": "stream",
     "text": [
      "Mounted at /content/drive\n"
     ]
    }
   ],
   "source": [
    "from google.colab import drive\n",
    "drive.mount('/content/drive')"
   ]
  },
  {
   "cell_type": "code",
   "execution_count": 2,
   "metadata": {
    "colab": {
     "base_uri": "https://localhost:8080/"
    },
    "executionInfo": {
     "elapsed": 5034,
     "status": "ok",
     "timestamp": 1653062397797,
     "user": {
      "displayName": "deneme denemem",
      "userId": "03690392615169329005"
     },
     "user_tz": -180
    },
    "id": "bvn1anjwLxz2",
    "outputId": "41b0f3cc-0603-4123-8d47-0621d3cede09"
   },
   "outputs": [
    {
     "name": "stdout",
     "output_type": "stream",
     "text": [
      "Requirement already satisfied: sklearn in /usr/local/lib/python3.7/dist-packages (0.0)\n",
      "Requirement already satisfied: scikit-learn in /usr/local/lib/python3.7/dist-packages (from sklearn) (1.0.2)\n",
      "Requirement already satisfied: numpy>=1.14.6 in /usr/local/lib/python3.7/dist-packages (from scikit-learn->sklearn) (1.21.6)\n",
      "Requirement already satisfied: scipy>=1.1.0 in /usr/local/lib/python3.7/dist-packages (from scikit-learn->sklearn) (1.4.1)\n",
      "Requirement already satisfied: threadpoolctl>=2.0.0 in /usr/local/lib/python3.7/dist-packages (from scikit-learn->sklearn) (3.1.0)\n",
      "Requirement already satisfied: joblib>=0.11 in /usr/local/lib/python3.7/dist-packages (from scikit-learn->sklearn) (1.1.0)\n"
     ]
    }
   ],
   "source": [
    "pip install sklearn"
   ]
  },
  {
   "cell_type": "code",
   "execution_count": 3,
   "metadata": {
    "colab": {
     "base_uri": "https://localhost:8080/"
    },
    "executionInfo": {
     "elapsed": 3321,
     "status": "ok",
     "timestamp": 1653062401110,
     "user": {
      "displayName": "deneme denemem",
      "userId": "03690392615169329005"
     },
     "user_tz": -180
    },
    "id": "7D2CYpcWLx3g",
    "outputId": "bfbfc471-65dd-42c5-9b44-bcb89fe4f452"
   },
   "outputs": [
    {
     "name": "stdout",
     "output_type": "stream",
     "text": [
      "Requirement already satisfied: xgboost in /usr/local/lib/python3.7/dist-packages (0.90)\n",
      "Requirement already satisfied: scipy in /usr/local/lib/python3.7/dist-packages (from xgboost) (1.4.1)\n",
      "Requirement already satisfied: numpy in /usr/local/lib/python3.7/dist-packages (from xgboost) (1.21.6)\n"
     ]
    }
   ],
   "source": [
    "pip install xgboost"
   ]
  },
  {
   "cell_type": "code",
   "execution_count": 4,
   "metadata": {
    "executionInfo": {
     "elapsed": 848,
     "status": "ok",
     "timestamp": 1653062402364,
     "user": {
      "displayName": "deneme denemem",
      "userId": "03690392615169329005"
     },
     "user_tz": -180
    },
    "id": "NHpixGOiLx4v"
   },
   "outputs": [],
   "source": [
    "import pandas as pd\n",
    "import numpy as np\n",
    "\n",
    "import xgboost as xgb\n",
    "from sklearn.model_selection import train_test_split,GridSearchCV,cross_val_score\n",
    "from sklearn.linear_model import LinearRegression\n",
    "from sklearn.metrics import mean_absolute_error \n",
    "from sklearn.metrics import r2_score"
   ]
  },
  {
   "cell_type": "code",
   "execution_count": 5,
   "metadata": {
    "colab": {
     "base_uri": "https://localhost:8080/"
    },
    "executionInfo": {
     "elapsed": 1025,
     "status": "ok",
     "timestamp": 1653062406484,
     "user": {
      "displayName": "deneme denemem",
      "userId": "03690392615169329005"
     },
     "user_tz": -180
    },
    "id": "LpIMXFrfLx6s",
    "outputId": "73389218-3bc1-4f7c-a611-37892602c61f"
   },
   "outputs": [
    {
     "data": {
      "text/plain": [
       "0.8340572396762009"
      ]
     },
     "execution_count": 5,
     "metadata": {},
     "output_type": "execute_result"
    }
   ],
   "source": [
    "BMW_df = pd.read_excel(\"/content/sample_data/Volvo.xlsx\")\n",
    "BMW_df\n",
    "BMW_df.drop(\"Unnamed: 0\",axis=1,inplace=True)\n",
    "\n",
    "ds2 = BMW_df\n",
    "x = ds2.drop(\"Fiyat\",axis=1)\n",
    "y = ds2[\"Fiyat\"]\n",
    "\n",
    "x = BMW_df.drop(\"Fiyat\",axis=1)\n",
    "y = BMW_df[\"Fiyat\"]\n",
    "train_x, test_x ,train_y, test_y = train_test_split(x,y,test_size=0.3,random_state=33)\n",
    "model = LinearRegression()\n",
    "model.fit(train_x,train_y)\n",
    "predict = model.predict(test_x)\n",
    "test_x\n",
    "\n",
    "r2_score(test_y, predict)\n"
   ]
  },
  {
   "cell_type": "code",
   "execution_count": 9,
   "metadata": {
    "colab": {
     "base_uri": "https://localhost:8080/"
    },
    "executionInfo": {
     "elapsed": 517,
     "status": "ok",
     "timestamp": 1653062785536,
     "user": {
      "displayName": "deneme denemem",
      "userId": "03690392615169329005"
     },
     "user_tz": -180
    },
    "id": "uCL1BZ9HLx9A",
    "outputId": "f4a6be2d-0748-441d-d45a-5bd3ccd8c044"
   },
   "outputs": [
    {
     "name": "stdout",
     "output_type": "stream",
     "text": [
      "[16:06:22] WARNING: /workspace/src/objective/regression_obj.cu:152: reg:linear is now deprecated in favor of reg:squarederror.\n"
     ]
    }
   ],
   "source": [
    "\n",
    "bst = xgb.XGBRegressor()\n",
    "bst\n",
    "model = bst.fit(train_x,train_y)\n",
    "model\n",
    "pred_xgb = bst.predict(test_x)\n",
    "r2_score(test_y,pred_xgb)\n",
    "pred_xgb\n",
    "\n",
    "xgb_grid = {\n",
    "            'colsample_bytree':[1], \n",
    "            'n_estimators':[300,350,400,450,500], \n",
    "            'max_depth':[2], \n",
    "            'learning_rate':[0.1]\n",
    "           }\n",
    "\t\t   \n",
    "bst_cv = GridSearchCV(bst,\n",
    "                     param_grid=xgb_grid,\n",
    "                     cv = 10,\n",
    "                     n_jobs = -1,\n",
    "                     verbose = 2)\n"
   ]
  },
  {
   "cell_type": "code",
   "execution_count": 10,
   "metadata": {
    "colab": {
     "base_uri": "https://localhost:8080/"
    },
    "executionInfo": {
     "elapsed": 9783,
     "status": "ok",
     "timestamp": 1653062796006,
     "user": {
      "displayName": "deneme denemem",
      "userId": "03690392615169329005"
     },
     "user_tz": -180
    },
    "id": "QUr5UAewLx_V",
    "outputId": "4592ed4a-2b0f-4383-b8d2-4190c8af9fbd"
   },
   "outputs": [
    {
     "name": "stdout",
     "output_type": "stream",
     "text": [
      "Fitting 10 folds for each of 5 candidates, totalling 50 fits\n",
      "[16:06:32] WARNING: /workspace/src/objective/regression_obj.cu:152: reg:linear is now deprecated in favor of reg:squarederror.\n"
     ]
    }
   ],
   "source": [
    "bst_cv.fit(train_x,train_y)\n",
    "pred = bst_cv.predict(test_x)\n"
   ]
  },
  {
   "cell_type": "code",
   "execution_count": 11,
   "metadata": {
    "colab": {
     "base_uri": "https://localhost:8080/"
    },
    "executionInfo": {
     "elapsed": 5,
     "status": "ok",
     "timestamp": 1653062796007,
     "user": {
      "displayName": "deneme denemem",
      "userId": "03690392615169329005"
     },
     "user_tz": -180
    },
    "id": "9Lz16FAvLyBt",
    "outputId": "a0a6ab78-9dcc-40eb-b4d5-e4ce19ac4764"
   },
   "outputs": [
    {
     "data": {
      "text/plain": [
       "{'colsample_bytree': 1,\n",
       " 'learning_rate': 0.1,\n",
       " 'max_depth': 2,\n",
       " 'n_estimators': 300}"
      ]
     },
     "execution_count": 11,
     "metadata": {},
     "output_type": "execute_result"
    }
   ],
   "source": [
    "bst_cv.best_params_"
   ]
  },
  {
   "cell_type": "code",
   "execution_count": null,
   "metadata": {
    "id": "NL3k_7wbLyDx"
   },
   "outputs": [],
   "source": []
  }
 ],
 "metadata": {
  "accelerator": "GPU",
  "colab": {
   "authorship_tag": "ABX9TyMjnRY8mHaUR79I47FKhaUv",
   "name": "Volvo.ipynb",
   "provenance": []
  },
  "kernelspec": {
   "display_name": "Python 3",
   "language": "python",
   "name": "python3"
  },
  "language_info": {
   "codemirror_mode": {
    "name": "ipython",
    "version": 3
   },
   "file_extension": ".py",
   "mimetype": "text/x-python",
   "name": "python",
   "nbconvert_exporter": "python",
   "pygments_lexer": "ipython3",
   "version": "3.8.3"
  }
 },
 "nbformat": 4,
 "nbformat_minor": 1
}
