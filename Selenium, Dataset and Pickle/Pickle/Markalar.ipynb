{
 "cells": [
  {
   "cell_type": "markdown",
   "metadata": {},
   "source": [
    "# Kütüphanelerin Dahil Edilmesi"
   ]
  },
  {
   "cell_type": "code",
   "execution_count": 1,
   "metadata": {},
   "outputs": [],
   "source": [
    "import pandas as pnd\n",
    "import numpy as nmp\n",
    "from sklearn.model_selection import train_test_split ,GridSearchCV,cross_val_score\n",
    "from sklearn.linear_model import LinearRegression\n",
    "from sklearn.metrics import r2_score , mean_squared_error , mean_absolute_error\n",
    "from matplotlib import pyplot as plt"
   ]
  },
  {
   "cell_type": "markdown",
   "metadata": {},
   "source": [
    "# Verisetinin Yüklenmesi"
   ]
  },
  {
   "cell_type": "code",
   "execution_count": 2,
   "metadata": {},
   "outputs": [
    {
     "data": {
      "text/html": [
       "<div>\n",
       "<style scoped>\n",
       "    .dataframe tbody tr th:only-of-type {\n",
       "        vertical-align: middle;\n",
       "    }\n",
       "\n",
       "    .dataframe tbody tr th {\n",
       "        vertical-align: top;\n",
       "    }\n",
       "\n",
       "    .dataframe thead th {\n",
       "        text-align: right;\n",
       "    }\n",
       "</style>\n",
       "<table border=\"1\" class=\"dataframe\">\n",
       "  <thead>\n",
       "    <tr style=\"text-align: right;\">\n",
       "      <th></th>\n",
       "      <th>Fiyat</th>\n",
       "      <th>Marka</th>\n",
       "      <th>Seri</th>\n",
       "      <th>Model</th>\n",
       "      <th>Yıl</th>\n",
       "      <th>Yakıt Tipi</th>\n",
       "      <th>Vites Tipi</th>\n",
       "      <th>Motor Gücü</th>\n",
       "      <th>Motor Hacmi</th>\n",
       "      <th>Kilometre</th>\n",
       "      <th>Boya-değişen</th>\n",
       "    </tr>\n",
       "  </thead>\n",
       "  <tbody>\n",
       "    <tr>\n",
       "      <th>0</th>\n",
       "      <td>68000</td>\n",
       "      <td>Alfa Romeo</td>\n",
       "      <td>156</td>\n",
       "      <td>2.0 TS</td>\n",
       "      <td>1998</td>\n",
       "      <td>LPG &amp; Benzin</td>\n",
       "      <td>Düz</td>\n",
       "      <td>155</td>\n",
       "      <td>1970</td>\n",
       "      <td>400000</td>\n",
       "      <td>12 boyalı</td>\n",
       "    </tr>\n",
       "    <tr>\n",
       "      <th>1</th>\n",
       "      <td>423000</td>\n",
       "      <td>Alfa Romeo</td>\n",
       "      <td>Giulietta</td>\n",
       "      <td>1.4 TB MultiAir Super TCT</td>\n",
       "      <td>2017</td>\n",
       "      <td>Benzin</td>\n",
       "      <td>Otomatik</td>\n",
       "      <td>170</td>\n",
       "      <td>1368</td>\n",
       "      <td>63000</td>\n",
       "      <td>Belirtilmemiş</td>\n",
       "    </tr>\n",
       "    <tr>\n",
       "      <th>2</th>\n",
       "      <td>280000</td>\n",
       "      <td>Alfa Romeo</td>\n",
       "      <td>MiTo</td>\n",
       "      <td>1.4 T MultiAir Quadrifoglio Verde</td>\n",
       "      <td>2011</td>\n",
       "      <td>LPG &amp; Benzin</td>\n",
       "      <td>Düz</td>\n",
       "      <td>170</td>\n",
       "      <td>1368</td>\n",
       "      <td>189000</td>\n",
       "      <td>Belirtilmemiş</td>\n",
       "    </tr>\n",
       "    <tr>\n",
       "      <th>3</th>\n",
       "      <td>185000</td>\n",
       "      <td>Alfa Romeo</td>\n",
       "      <td>166</td>\n",
       "      <td>2.0 TS</td>\n",
       "      <td>1999</td>\n",
       "      <td>LPG &amp; Benzin</td>\n",
       "      <td>Düz</td>\n",
       "      <td>155</td>\n",
       "      <td>1970</td>\n",
       "      <td>280000</td>\n",
       "      <td>Tamamı boyalı</td>\n",
       "    </tr>\n",
       "    <tr>\n",
       "      <th>4</th>\n",
       "      <td>280000</td>\n",
       "      <td>Alfa Romeo</td>\n",
       "      <td>MiTo</td>\n",
       "      <td>1.4 T MultiAir Quadrifoglio Verde</td>\n",
       "      <td>2011</td>\n",
       "      <td>LPG &amp; Benzin</td>\n",
       "      <td>Düz</td>\n",
       "      <td>170</td>\n",
       "      <td>1368</td>\n",
       "      <td>182000</td>\n",
       "      <td>Belirtilmemiş</td>\n",
       "    </tr>\n",
       "    <tr>\n",
       "      <th>...</th>\n",
       "      <td>...</td>\n",
       "      <td>...</td>\n",
       "      <td>...</td>\n",
       "      <td>...</td>\n",
       "      <td>...</td>\n",
       "      <td>...</td>\n",
       "      <td>...</td>\n",
       "      <td>...</td>\n",
       "      <td>...</td>\n",
       "      <td>...</td>\n",
       "      <td>...</td>\n",
       "    </tr>\n",
       "    <tr>\n",
       "      <th>44724</th>\n",
       "      <td>308000</td>\n",
       "      <td>Volvo</td>\n",
       "      <td>S60</td>\n",
       "      <td>2.0 D Premium</td>\n",
       "      <td>2011</td>\n",
       "      <td>Dizel</td>\n",
       "      <td>Otomatik</td>\n",
       "      <td>163</td>\n",
       "      <td>1984</td>\n",
       "      <td>278000</td>\n",
       "      <td>1 değişen, 1 boyalı</td>\n",
       "    </tr>\n",
       "    <tr>\n",
       "      <th>44725</th>\n",
       "      <td>1550000</td>\n",
       "      <td>Volvo</td>\n",
       "      <td>S90</td>\n",
       "      <td>2.0 D5 Inscription</td>\n",
       "      <td>2018</td>\n",
       "      <td>Dizel</td>\n",
       "      <td>Otomatik</td>\n",
       "      <td>226</td>\n",
       "      <td>1801</td>\n",
       "      <td>89000</td>\n",
       "      <td>Belirtilmemiş</td>\n",
       "    </tr>\n",
       "    <tr>\n",
       "      <th>44726</th>\n",
       "      <td>542000</td>\n",
       "      <td>Volvo</td>\n",
       "      <td>V40</td>\n",
       "      <td>1.5 T3 Inscription</td>\n",
       "      <td>2018</td>\n",
       "      <td>Benzin</td>\n",
       "      <td>Otomatik</td>\n",
       "      <td>152</td>\n",
       "      <td>1498</td>\n",
       "      <td>39000</td>\n",
       "      <td>2 boyalı</td>\n",
       "    </tr>\n",
       "    <tr>\n",
       "      <th>44727</th>\n",
       "      <td>137000</td>\n",
       "      <td>Volvo</td>\n",
       "      <td>S40</td>\n",
       "      <td>1.6</td>\n",
       "      <td>2004</td>\n",
       "      <td>LPG &amp; Benzin</td>\n",
       "      <td>Düz</td>\n",
       "      <td>109</td>\n",
       "      <td>1587</td>\n",
       "      <td>245000</td>\n",
       "      <td>12 boyalı</td>\n",
       "    </tr>\n",
       "    <tr>\n",
       "      <th>44728</th>\n",
       "      <td>295000</td>\n",
       "      <td>Volvo</td>\n",
       "      <td>S80</td>\n",
       "      <td>2.4 D5 VIP</td>\n",
       "      <td>2007</td>\n",
       "      <td>Dizel</td>\n",
       "      <td>Otomatik</td>\n",
       "      <td>176</td>\n",
       "      <td>2001</td>\n",
       "      <td>275000</td>\n",
       "      <td>1 değişen, 8 boyalı</td>\n",
       "    </tr>\n",
       "  </tbody>\n",
       "</table>\n",
       "<p>44729 rows × 11 columns</p>\n",
       "</div>"
      ],
      "text/plain": [
       "         Fiyat       Marka       Seri                              Model  \\\n",
       "0        68000  Alfa Romeo        156                             2.0 TS   \n",
       "1       423000  Alfa Romeo  Giulietta          1.4 TB MultiAir Super TCT   \n",
       "2       280000  Alfa Romeo       MiTo  1.4 T MultiAir Quadrifoglio Verde   \n",
       "3       185000  Alfa Romeo        166                             2.0 TS   \n",
       "4       280000  Alfa Romeo       MiTo  1.4 T MultiAir Quadrifoglio Verde   \n",
       "...        ...         ...        ...                                ...   \n",
       "44724   308000       Volvo        S60                      2.0 D Premium   \n",
       "44725  1550000       Volvo        S90                 2.0 D5 Inscription   \n",
       "44726   542000       Volvo        V40                 1.5 T3 Inscription   \n",
       "44727   137000       Volvo        S40                                1.6   \n",
       "44728   295000       Volvo        S80                         2.4 D5 VIP   \n",
       "\n",
       "        Yıl    Yakıt Tipi Vites Tipi  Motor Gücü  Motor Hacmi  Kilometre  \\\n",
       "0      1998  LPG & Benzin        Düz         155         1970     400000   \n",
       "1      2017        Benzin   Otomatik         170         1368      63000   \n",
       "2      2011  LPG & Benzin        Düz         170         1368     189000   \n",
       "3      1999  LPG & Benzin        Düz         155         1970     280000   \n",
       "4      2011  LPG & Benzin        Düz         170         1368     182000   \n",
       "...     ...           ...        ...         ...          ...        ...   \n",
       "44724  2011         Dizel   Otomatik         163         1984     278000   \n",
       "44725  2018         Dizel   Otomatik         226         1801      89000   \n",
       "44726  2018        Benzin   Otomatik         152         1498      39000   \n",
       "44727  2004  LPG & Benzin        Düz         109         1587     245000   \n",
       "44728  2007         Dizel   Otomatik         176         2001     275000   \n",
       "\n",
       "              Boya-değişen  \n",
       "0                12 boyalı  \n",
       "1            Belirtilmemiş  \n",
       "2            Belirtilmemiş  \n",
       "3            Tamamı boyalı  \n",
       "4            Belirtilmemiş  \n",
       "...                    ...  \n",
       "44724  1 değişen, 1 boyalı  \n",
       "44725        Belirtilmemiş  \n",
       "44726             2 boyalı  \n",
       "44727            12 boyalı  \n",
       "44728  1 değişen, 8 boyalı  \n",
       "\n",
       "[44729 rows x 11 columns]"
      ]
     },
     "execution_count": 2,
     "metadata": {},
     "output_type": "execute_result"
    }
   ],
   "source": [
    "data = pnd.read_csv(r\"C:\\Users\\sbura\\Desktop\\denemeler\\araba02\\output.csv\",encoding=\"utf-16\")\n",
    "data.drop(\"Unnamed: 0\",axis=1,inplace=True)\n",
    "data"
   ]
  },
  {
   "cell_type": "markdown",
   "metadata": {},
   "source": [
    "# Veriyi Tanıma"
   ]
  },
  {
   "cell_type": "code",
   "execution_count": 3,
   "metadata": {},
   "outputs": [
    {
     "data": {
      "text/plain": [
       "Fiyat          1.000000\n",
       "Yıl            0.265570\n",
       "Motor Gücü     0.706387\n",
       "Motor Hacmi    0.439958\n",
       "Kilometre     -0.221555\n",
       "Name: Fiyat, dtype: float64"
      ]
     },
     "execution_count": 3,
     "metadata": {},
     "output_type": "execute_result"
    }
   ],
   "source": [
    "data.corr()[\"Fiyat\"]"
   ]
  },
  {
   "cell_type": "code",
   "execution_count": 4,
   "metadata": {},
   "outputs": [
    {
     "data": {
      "text/plain": [
       "<matplotlib.axes._subplots.AxesSubplot at 0x16ed53a4700>"
      ]
     },
     "execution_count": 4,
     "metadata": {},
     "output_type": "execute_result"
    },
    {
     "data": {
      "image/png": "[encoded data removed]",
      "text/plain": [
       "<Figure size 432x288 with 1 Axes>"
      ]
     },
     "metadata": {
      "needs_background": "light"
     },
     "output_type": "display_data"
    }
   ],
   "source": [
    "data[\"Yakıt Tipi\"].value_counts().plot.bar()"
   ]
  },
  {
   "cell_type": "code",
   "execution_count": 5,
   "metadata": {},
   "outputs": [
    {
     "data": {
      "text/plain": [
       "<matplotlib.axes._subplots.AxesSubplot at 0x16ed5483340>"
      ]
     },
     "execution_count": 5,
     "metadata": {},
     "output_type": "execute_result"
    },
    {
     "data": {
      "image/png": "[encoded data removed]",
      "text/plain": [
       "<Figure size 1080x1440 with 1 Axes>"
      ]
     },
     "metadata": {
      "needs_background": "light"
     },
     "output_type": "display_data"
    }
   ],
   "source": [
    "data.Marka.value_counts().plot.barh(figsize=(15,20))"
   ]
  },
  {
   "cell_type": "code",
   "execution_count": 6,
   "metadata": {},
   "outputs": [
    {
     "data": {
      "text/plain": [
       "Audi               2484\n",
       "BMW                2478\n",
       "Honda              2476\n",
       "Citroen            2476\n",
       "Hyundai            2467\n",
       "Volkswagen         2467\n",
       "Fiat               2466\n",
       "Peugeot            2463\n",
       "Opel               2462\n",
       "Renault            2462\n",
       "Skoda              2461\n",
       "Ford               2452\n",
       "Mercedes - Benz    2449\n",
       "Toyota             2444\n",
       "Seat               2277\n",
       "Dacia              1638\n",
       "Chevrolet          1589\n",
       "Kia                1199\n",
       "Volvo               785\n",
       "Nissan              747\n",
       "Mazda               412\n",
       "Mitsubishi          263\n",
       "Alfa Romeo          252\n",
       "MINI                224\n",
       "Suzuki              191\n",
       "Porsche             172\n",
       "Subaru               79\n",
       "Rover                77\n",
       "Chrysler             72\n",
       "Ferrari              53\n",
       "Proton               50\n",
       "Chery                49\n",
       "Aston Martin         31\n",
       "Saab                 22\n",
       "Smart                17\n",
       "Rolls-Royce           7\n",
       "Cadillac              6\n",
       "Pontiac               4\n",
       "MG                    2\n",
       "Plymouth              2\n",
       "Anadol                1\n",
       "Oldsmobile            1\n",
       "Name: Marka, dtype: int64"
      ]
     },
     "execution_count": 6,
     "metadata": {},
     "output_type": "execute_result"
    }
   ],
   "source": [
    "data.Marka.value_counts()"
   ]
  },
  {
   "cell_type": "markdown",
   "metadata": {},
   "source": [
    "# Aykırı Değer Analizi"
   ]
  },
  {
   "cell_type": "code",
   "execution_count": 7,
   "metadata": {
    "scrolled": false
   },
   "outputs": [
    {
     "data": {
      "text/plain": [
       "array(['Alfa Romeo', 'Anadol', 'Aston Martin', 'Audi', 'BMW', 'Cadillac',\n",
       "       'Chery', 'Chevrolet', 'Chrysler', 'Citroen', 'Dacia', 'Ferrari',\n",
       "       'Fiat', 'Ford', 'Honda', 'Hyundai', 'Kia', 'Mazda',\n",
       "       'Mercedes - Benz', 'MG', 'MINI', 'Mitsubishi', 'Nissan',\n",
       "       'Oldsmobile', 'Opel', 'Peugeot', 'Plymouth', 'Pontiac', 'Porsche',\n",
       "       'Proton', 'Renault', 'Rolls-Royce', 'Rover', 'Saab', 'Seat',\n",
       "       'Skoda', 'Smart', 'Subaru', 'Suzuki', 'Toyota', 'Volkswagen',\n",
       "       'Volvo'], dtype=object)"
      ]
     },
     "execution_count": 7,
     "metadata": {},
     "output_type": "execute_result"
    }
   ],
   "source": [
    "marka_columns = data[\"Marka\"].unique()\n",
    "marka_columns"
   ]
  },
  {
   "cell_type": "code",
   "execution_count": 8,
   "metadata": {},
   "outputs": [],
   "source": [
    "def data_manipulation(column:list,group:str,kriter:int,marka:str):\n",
    "    for col in column:\n",
    "        arac_sayisi = len(data[data[\"Marka\"] == marka].groupby(group).get_group(col))\n",
    "        index = data.groupby(group).get_group(col).index\n",
    "        if arac_sayisi < kriter:\n",
    "            data.drop(index,axis=0,inplace=True)"
   ]
  },
  {
   "cell_type": "markdown",
   "metadata": {},
   "source": [
    "Yazılan fonksiyonda farklı markalara ait aynı özellikleri birbirine denk döndürdüğü için marka sütunu için ayrı fonksiyon yazılmıştır."
   ]
  },
  {
   "cell_type": "code",
   "execution_count": 9,
   "metadata": {},
   "outputs": [],
   "source": [
    "def data_marka(column:list,group:str,kriter:int):\n",
    "    for col in column:\n",
    "        arac_sayisi = len(data.groupby(group).get_group(col))\n",
    "        index = data.groupby(group).get_group(col).index\n",
    "        if arac_sayisi < kriter:\n",
    "            data.drop(index,axis=0,inplace=True)"
   ]
  },
  {
   "cell_type": "code",
   "execution_count": 10,
   "metadata": {
    "scrolled": true
   },
   "outputs": [],
   "source": [
    "data_marka(column=marka_columns,group=\"Marka\",kriter=80)"
   ]
  },
  {
   "cell_type": "code",
   "execution_count": 11,
   "metadata": {
    "scrolled": true
   },
   "outputs": [
    {
     "data": {
      "text/plain": [
       "26"
      ]
     },
     "execution_count": 11,
     "metadata": {},
     "output_type": "execute_result"
    }
   ],
   "source": [
    "len(data.Marka.unique())"
   ]
  },
  {
   "cell_type": "code",
   "execution_count": 12,
   "metadata": {},
   "outputs": [],
   "source": [
    "silinecekler = [33993,33998,33999,34000,11096,11080,11110,11091,31221,261,258,31374,5251,43949,44501,31262,31256,10388,38835,15019,38129,35085,12393,17385,6841,1382,1830,23779,23927,35212,11913,26794,33929,11574,11904,20587,3473,4330,13605,19535,11311,12167,12448,12499,13621,23113,23976,27725,27763,32520,32527,33627,3905,4540,7385,9176,10952,11367,11430,12347,12993,13236,13354,13445,13547,16000,19952,25629,26478,27824,28384,29845,31078,32137,32353,38920,39030,40345,4579,33955,3284,3317,4247,8220,10480,11163,11234,11608,11662,12062,12844,17592,23109,25924,27016,30718,31432,31571,33342,33474,33928,35336,37096,39281,39437,39636,42007,42193,24604,10583,11901,13962,19383,21661,28546,32759,33464,39274,5282,5545,8325,8615,10131,11238,11268,11568,12610,12659,12669,13392,13447,13538,13803,15714,15715,15716,20629,20718,23252,27004,27281,27808,29490,29792,32323,32900,33943,37421,38203,39282,25463,30005,39040,5290,6956,8368,8750,8860,9422,10039,10070,10662,11718,11867,12404,12784,12843,13082,13149,13154,14651,14657,14715,14903,15012,17152,17286,18667,20576,21748,22155,22421,22473,23199,25470,26673,27454,28015,28737,29422,29820,30343,30549,30980,31039,31061,31104,31598,32135,32638,33228,33353,33921,33949,33973,34653,37540,37860,38891,39723,40749,41559,11332,12201,13801,19684,24381,26541,26576,3722,9143,9507,11418,11561,12198,13456,14035,15836,17860,18090,18626,18841,19344,22708,23442,25511,26789,29583,30192,31391,31620,32695,33138,33396,33912,35021,36237,39388,43035,43392,30929,11898,25646,4292,6944,7397,9640,9835,11013,12092,12118,12279,12809,13338,18760,19411,19478,21603,22342,22453,22466,25366,25547,26307,27368,27834,28699,29781,30042,31553,31794,31846,31912,32138,32160,33935,35255,36595,37117,38164,38488,40744,8786,17647,20445,7656,12294,12689,14323,18529,19004,19660,28724,41164,29415,30826,2243,8397,10839,11231,11519,11540,11855,12618,12650,12823,13661,16465,16850,19800,20143,21445,22216,22284,22416,25472,27237,28795,28903,29448,29895,31024,32897,33330,33974,33976,40737,40883,41128,44193,20257,12764,30128,29597,12061,22126,22282,22387,30520,32815,9838,11547,13359,14494,15332,15636,17528,19828,21664,23437,27118,29914,32315,32674,33987,10046,226,1693,1978,4072,5728,8169,8369,8602,8692,9495,9535,10456,10518,11036,11214,11862,12072,12398,12463,12473,12505,12724,12992,13003,13073,13122,13173,13613,13821,13922,14063,14201,14519,15501,15594,17764,18739,18751,18758,19267,19440,19755,20416,20523,20661,20701,20704,20796,20916,21079,21124,22255,22359,22517,22585,22641,23416,24409,24634,25289,25396,25425,25612,25726,25829,26109,26246,26490,26565,26827,27424,27574,27718,28292,28689,28933,29549,29581,30118,30185,30580,30598,31064,31536,32530,32546,32761,33007,33153,33176,33524,33575,33990,34035,35208,35929,36235,37056,37853,38651,39248,39580,41607,42887,42940,43432,43778,44027,26333,33975,19679,28649,32432,16072,40479,16171,19538,25400,32731,37472,7412,9164,11351,12737,14644,16690,16862,22215,28828,28908,34043,26759,11381,11530,12532,12676,21939,22233,22505,24665,25502,27761,28319,29005,33224,33432,33603,33604,33611,33915,33939,35679,38957,20972,22951,13567,27728,7258,11997,32765,4207,9605,11514,12897,13446,14303,19997,23032,24803,25751,26509,27445,30152,31048,31744,32157,32849,37385,42092,12853,14496,26970,6542,10932,11210,11213,11726,12050,12671,12862,14168,14366,15790,16731,17272,19852,19936,20733,21636,22103,22310,22319,22392,22561,23631,24975,27813,28991,30599,30931,31421,31896,31960,32633,32634,33956,34725,37910,41203,42034,14038,31149,40584,13474,15005,17157,31396,34796,38281,20400,1768,8854,9157,10594,10628,11196,12481,12497,12746,13265,13570,13769,13989,14821,19781,20497,21154,21751,22417,26115,26523,27048,27348,28204,28411,28802,31044,31612,32265,32392,33017,33329,33620,37275,38914,39057,40627,44016,170,200,1670,5102,9082,11511,11702,12293,12359,12477,12545,13128,13169,13409,13536,15048,15493,18283,18684,18691,19427,21745,22227,22446]"
   ]
  },
  {
   "cell_type": "code",
   "execution_count": 13,
   "metadata": {},
   "outputs": [],
   "source": [
    "data.drop(data.sort_values(\"Fiyat\",ascending=True).head(500).index,axis=0,inplace=True)"
   ]
  },
  {
   "cell_type": "code",
   "execution_count": 14,
   "metadata": {},
   "outputs": [],
   "source": [
    "data.drop(data[(data[\"Kilometre\"] == 0) & (data[\"Yıl\"] <=2015)].index,axis=0,inplace=True)"
   ]
  },
  {
   "cell_type": "code",
   "execution_count": 15,
   "metadata": {},
   "outputs": [],
   "source": [
    "data.drop(9967,axis=0,inplace=True)"
   ]
  },
  {
   "cell_type": "code",
   "execution_count": 16,
   "metadata": {},
   "outputs": [
    {
     "data": {
      "text/html": [
       "<div>\n",
       "<style scoped>\n",
       "    .dataframe tbody tr th:only-of-type {\n",
       "        vertical-align: middle;\n",
       "    }\n",
       "\n",
       "    .dataframe tbody tr th {\n",
       "        vertical-align: top;\n",
       "    }\n",
       "\n",
       "    .dataframe thead th {\n",
       "        text-align: right;\n",
       "    }\n",
       "</style>\n",
       "<table border=\"1\" class=\"dataframe\">\n",
       "  <thead>\n",
       "    <tr style=\"text-align: right;\">\n",
       "      <th></th>\n",
       "      <th>Fiyat</th>\n",
       "      <th>Marka</th>\n",
       "      <th>Seri</th>\n",
       "      <th>Model</th>\n",
       "      <th>Yıl</th>\n",
       "      <th>Yakıt Tipi</th>\n",
       "      <th>Vites Tipi</th>\n",
       "      <th>Motor Gücü</th>\n",
       "      <th>Motor Hacmi</th>\n",
       "      <th>Kilometre</th>\n",
       "      <th>Boya-değişen</th>\n",
       "    </tr>\n",
       "  </thead>\n",
       "  <tbody>\n",
       "    <tr>\n",
       "      <th>31349</th>\n",
       "      <td>15500000</td>\n",
       "      <td>Porsche</td>\n",
       "      <td>911</td>\n",
       "      <td>GT3 RS</td>\n",
       "      <td>2016</td>\n",
       "      <td>Benzin</td>\n",
       "      <td>Otomatik</td>\n",
       "      <td>500</td>\n",
       "      <td>3996</td>\n",
       "      <td>0</td>\n",
       "      <td>Belirtilmemiş</td>\n",
       "    </tr>\n",
       "  </tbody>\n",
       "</table>\n",
       "</div>"
      ],
      "text/plain": [
       "          Fiyat    Marka Seri   Model   Yıl Yakıt Tipi Vites Tipi  Motor Gücü  \\\n",
       "31349  15500000  Porsche  911  GT3 RS  2016     Benzin   Otomatik         500   \n",
       "\n",
       "       Motor Hacmi  Kilometre   Boya-değişen  \n",
       "31349         3996          0  Belirtilmemiş  "
      ]
     },
     "execution_count": 16,
     "metadata": {},
     "output_type": "execute_result"
    }
   ],
   "source": [
    "data[(data[\"Kilometre\"] == 0) & (data[\"Yıl\"] <=2016)]"
   ]
  },
  {
   "cell_type": "code",
   "execution_count": 17,
   "metadata": {},
   "outputs": [],
   "source": [
    "data.drop(data.sort_values(\"Fiyat\",ascending=True).head(500).index,axis=0,inplace=True)"
   ]
  },
  {
   "cell_type": "code",
   "execution_count": 18,
   "metadata": {
    "scrolled": false
   },
   "outputs": [
    {
     "data": {
      "text/html": [
       "<div>\n",
       "<style scoped>\n",
       "    .dataframe tbody tr th:only-of-type {\n",
       "        vertical-align: middle;\n",
       "    }\n",
       "\n",
       "    .dataframe tbody tr th {\n",
       "        vertical-align: top;\n",
       "    }\n",
       "\n",
       "    .dataframe thead th {\n",
       "        text-align: right;\n",
       "    }\n",
       "</style>\n",
       "<table border=\"1\" class=\"dataframe\">\n",
       "  <thead>\n",
       "    <tr style=\"text-align: right;\">\n",
       "      <th></th>\n",
       "      <th>Fiyat</th>\n",
       "      <th>Marka</th>\n",
       "      <th>Seri</th>\n",
       "      <th>Model</th>\n",
       "      <th>Yıl</th>\n",
       "      <th>Yakıt Tipi</th>\n",
       "      <th>Vites Tipi</th>\n",
       "      <th>Motor Gücü</th>\n",
       "      <th>Motor Hacmi</th>\n",
       "      <th>Kilometre</th>\n",
       "      <th>Boya-değişen</th>\n",
       "    </tr>\n",
       "  </thead>\n",
       "  <tbody>\n",
       "    <tr>\n",
       "      <th>0</th>\n",
       "      <td>68000</td>\n",
       "      <td>Alfa Romeo</td>\n",
       "      <td>156</td>\n",
       "      <td>2.0 TS</td>\n",
       "      <td>1998</td>\n",
       "      <td>LPG &amp; Benzin</td>\n",
       "      <td>Düz</td>\n",
       "      <td>155</td>\n",
       "      <td>1970</td>\n",
       "      <td>400000</td>\n",
       "      <td>12 boyalı</td>\n",
       "    </tr>\n",
       "    <tr>\n",
       "      <th>1</th>\n",
       "      <td>423000</td>\n",
       "      <td>Alfa Romeo</td>\n",
       "      <td>Giulietta</td>\n",
       "      <td>1.4 TB MultiAir Super TCT</td>\n",
       "      <td>2017</td>\n",
       "      <td>Benzin</td>\n",
       "      <td>Otomatik</td>\n",
       "      <td>170</td>\n",
       "      <td>1368</td>\n",
       "      <td>63000</td>\n",
       "      <td>Belirtilmemiş</td>\n",
       "    </tr>\n",
       "    <tr>\n",
       "      <th>2</th>\n",
       "      <td>280000</td>\n",
       "      <td>Alfa Romeo</td>\n",
       "      <td>MiTo</td>\n",
       "      <td>1.4 T MultiAir Quadrifoglio Verde</td>\n",
       "      <td>2011</td>\n",
       "      <td>LPG &amp; Benzin</td>\n",
       "      <td>Düz</td>\n",
       "      <td>170</td>\n",
       "      <td>1368</td>\n",
       "      <td>189000</td>\n",
       "      <td>Belirtilmemiş</td>\n",
       "    </tr>\n",
       "    <tr>\n",
       "      <th>3</th>\n",
       "      <td>185000</td>\n",
       "      <td>Alfa Romeo</td>\n",
       "      <td>166</td>\n",
       "      <td>2.0 TS</td>\n",
       "      <td>1999</td>\n",
       "      <td>LPG &amp; Benzin</td>\n",
       "      <td>Düz</td>\n",
       "      <td>155</td>\n",
       "      <td>1970</td>\n",
       "      <td>280000</td>\n",
       "      <td>Tamamı boyalı</td>\n",
       "    </tr>\n",
       "    <tr>\n",
       "      <th>4</th>\n",
       "      <td>280000</td>\n",
       "      <td>Alfa Romeo</td>\n",
       "      <td>MiTo</td>\n",
       "      <td>1.4 T MultiAir Quadrifoglio Verde</td>\n",
       "      <td>2011</td>\n",
       "      <td>LPG &amp; Benzin</td>\n",
       "      <td>Düz</td>\n",
       "      <td>170</td>\n",
       "      <td>1368</td>\n",
       "      <td>182000</td>\n",
       "      <td>Belirtilmemiş</td>\n",
       "    </tr>\n",
       "    <tr>\n",
       "      <th>...</th>\n",
       "      <td>...</td>\n",
       "      <td>...</td>\n",
       "      <td>...</td>\n",
       "      <td>...</td>\n",
       "      <td>...</td>\n",
       "      <td>...</td>\n",
       "      <td>...</td>\n",
       "      <td>...</td>\n",
       "      <td>...</td>\n",
       "      <td>...</td>\n",
       "      <td>...</td>\n",
       "    </tr>\n",
       "    <tr>\n",
       "      <th>44724</th>\n",
       "      <td>308000</td>\n",
       "      <td>Volvo</td>\n",
       "      <td>S60</td>\n",
       "      <td>2.0 D Premium</td>\n",
       "      <td>2011</td>\n",
       "      <td>Dizel</td>\n",
       "      <td>Otomatik</td>\n",
       "      <td>163</td>\n",
       "      <td>1984</td>\n",
       "      <td>278000</td>\n",
       "      <td>1 değişen, 1 boyalı</td>\n",
       "    </tr>\n",
       "    <tr>\n",
       "      <th>44725</th>\n",
       "      <td>1550000</td>\n",
       "      <td>Volvo</td>\n",
       "      <td>S90</td>\n",
       "      <td>2.0 D5 Inscription</td>\n",
       "      <td>2018</td>\n",
       "      <td>Dizel</td>\n",
       "      <td>Otomatik</td>\n",
       "      <td>226</td>\n",
       "      <td>1801</td>\n",
       "      <td>89000</td>\n",
       "      <td>Belirtilmemiş</td>\n",
       "    </tr>\n",
       "    <tr>\n",
       "      <th>44726</th>\n",
       "      <td>542000</td>\n",
       "      <td>Volvo</td>\n",
       "      <td>V40</td>\n",
       "      <td>1.5 T3 Inscription</td>\n",
       "      <td>2018</td>\n",
       "      <td>Benzin</td>\n",
       "      <td>Otomatik</td>\n",
       "      <td>152</td>\n",
       "      <td>1498</td>\n",
       "      <td>39000</td>\n",
       "      <td>2 boyalı</td>\n",
       "    </tr>\n",
       "    <tr>\n",
       "      <th>44727</th>\n",
       "      <td>137000</td>\n",
       "      <td>Volvo</td>\n",
       "      <td>S40</td>\n",
       "      <td>1.6</td>\n",
       "      <td>2004</td>\n",
       "      <td>LPG &amp; Benzin</td>\n",
       "      <td>Düz</td>\n",
       "      <td>109</td>\n",
       "      <td>1587</td>\n",
       "      <td>245000</td>\n",
       "      <td>12 boyalı</td>\n",
       "    </tr>\n",
       "    <tr>\n",
       "      <th>44728</th>\n",
       "      <td>295000</td>\n",
       "      <td>Volvo</td>\n",
       "      <td>S80</td>\n",
       "      <td>2.4 D5 VIP</td>\n",
       "      <td>2007</td>\n",
       "      <td>Dizel</td>\n",
       "      <td>Otomatik</td>\n",
       "      <td>176</td>\n",
       "      <td>2001</td>\n",
       "      <td>275000</td>\n",
       "      <td>1 değişen, 8 boyalı</td>\n",
       "    </tr>\n",
       "  </tbody>\n",
       "</table>\n",
       "<p>43248 rows × 11 columns</p>\n",
       "</div>"
      ],
      "text/plain": [
       "         Fiyat       Marka       Seri                              Model  \\\n",
       "0        68000  Alfa Romeo        156                             2.0 TS   \n",
       "1       423000  Alfa Romeo  Giulietta          1.4 TB MultiAir Super TCT   \n",
       "2       280000  Alfa Romeo       MiTo  1.4 T MultiAir Quadrifoglio Verde   \n",
       "3       185000  Alfa Romeo        166                             2.0 TS   \n",
       "4       280000  Alfa Romeo       MiTo  1.4 T MultiAir Quadrifoglio Verde   \n",
       "...        ...         ...        ...                                ...   \n",
       "44724   308000       Volvo        S60                      2.0 D Premium   \n",
       "44725  1550000       Volvo        S90                 2.0 D5 Inscription   \n",
       "44726   542000       Volvo        V40                 1.5 T3 Inscription   \n",
       "44727   137000       Volvo        S40                                1.6   \n",
       "44728   295000       Volvo        S80                         2.4 D5 VIP   \n",
       "\n",
       "        Yıl    Yakıt Tipi Vites Tipi  Motor Gücü  Motor Hacmi  Kilometre  \\\n",
       "0      1998  LPG & Benzin        Düz         155         1970     400000   \n",
       "1      2017        Benzin   Otomatik         170         1368      63000   \n",
       "2      2011  LPG & Benzin        Düz         170         1368     189000   \n",
       "3      1999  LPG & Benzin        Düz         155         1970     280000   \n",
       "4      2011  LPG & Benzin        Düz         170         1368     182000   \n",
       "...     ...           ...        ...         ...          ...        ...   \n",
       "44724  2011         Dizel   Otomatik         163         1984     278000   \n",
       "44725  2018         Dizel   Otomatik         226         1801      89000   \n",
       "44726  2018        Benzin   Otomatik         152         1498      39000   \n",
       "44727  2004  LPG & Benzin        Düz         109         1587     245000   \n",
       "44728  2007         Dizel   Otomatik         176         2001     275000   \n",
       "\n",
       "              Boya-değişen  \n",
       "0                12 boyalı  \n",
       "1            Belirtilmemiş  \n",
       "2            Belirtilmemiş  \n",
       "3            Tamamı boyalı  \n",
       "4            Belirtilmemiş  \n",
       "...                    ...  \n",
       "44724  1 değişen, 1 boyalı  \n",
       "44725        Belirtilmemiş  \n",
       "44726             2 boyalı  \n",
       "44727            12 boyalı  \n",
       "44728  1 değişen, 8 boyalı  \n",
       "\n",
       "[43248 rows x 11 columns]"
      ]
     },
     "execution_count": 18,
     "metadata": {},
     "output_type": "execute_result"
    }
   ],
   "source": [
    "data.reindex()"
   ]
  },
  {
   "cell_type": "code",
   "execution_count": 19,
   "metadata": {
    "scrolled": true
   },
   "outputs": [
    {
     "data": {
      "text/plain": [
       "<matplotlib.axes._subplots.AxesSubplot at 0x16ed556c430>"
      ]
     },
     "execution_count": 19,
     "metadata": {},
     "output_type": "execute_result"
    },
    {
     "data": {
      "image/png": "[encoded data removed]",
      "text/plain": [
       "<Figure size 432x288 with 1 Axes>"
      ]
     },
     "metadata": {
      "needs_background": "light"
     },
     "output_type": "display_data"
    }
   ],
   "source": [
    "data[data[\"Marka\"] == \"Alfa Romeo\"].Seri.value_counts().plot.barh()"
   ]
  },
  {
   "cell_type": "code",
   "execution_count": 20,
   "metadata": {},
   "outputs": [
    {
     "data": {
      "text/plain": [
       "Giulietta    85\n",
       "156          74\n",
       "147          38\n",
       "159          13\n",
       "MiTo         11\n",
       "146           9\n",
       "166           4\n",
       "GT            1\n",
       "Spider        1\n",
       "Giulia        1\n",
       "145           1\n",
       "Name: Seri, dtype: int64"
      ]
     },
     "execution_count": 20,
     "metadata": {},
     "output_type": "execute_result"
    }
   ],
   "source": [
    "data[data[\"Marka\"] == \"Alfa Romeo\"].Seri.value_counts()"
   ]
  },
  {
   "cell_type": "code",
   "execution_count": 21,
   "metadata": {},
   "outputs": [],
   "source": [
    "data_manipulation(column=data[data[\"Marka\"] == \"Alfa Romeo\"].Seri.unique(),group=\"Seri\",kriter=30,marka=\"Alfa Romeo\")"
   ]
  },
  {
   "cell_type": "code",
   "execution_count": 22,
   "metadata": {},
   "outputs": [
    {
     "data": {
      "text/plain": [
       "<matplotlib.axes._subplots.AxesSubplot at 0x16ed5606dc0>"
      ]
     },
     "execution_count": 22,
     "metadata": {},
     "output_type": "execute_result"
    },
    {
     "data": {
      "image/png": "[encoded data removed]",
      "text/plain": [
       "<Figure size 432x288 with 1 Axes>"
      ]
     },
     "metadata": {
      "needs_background": "light"
     },
     "output_type": "display_data"
    }
   ],
   "source": [
    "data[data[\"Marka\"] == \"Alfa Romeo\"][\"Motor Hacmi\"].value_counts().plot.barh()"
   ]
  },
  {
   "cell_type": "code",
   "execution_count": 23,
   "metadata": {},
   "outputs": [],
   "source": [
    "data_manipulation(column=data[data[\"Marka\"] == \"Alfa Romeo\"][\"Motor Hacmi\"].unique(),group=\"Motor Hacmi\",kriter=8,marka=\"Alfa Romeo\")"
   ]
  },
  {
   "cell_type": "code",
   "execution_count": 24,
   "metadata": {
    "scrolled": false
   },
   "outputs": [
    {
     "data": {
      "text/plain": [
       "A3            882\n",
       "A4            544\n",
       "A6            334\n",
       "A5             83\n",
       "A8             36\n",
       "RS             26\n",
       "A1             25\n",
       "A7             21\n",
       "S              20\n",
       "TT             16\n",
       "80 Serisi       9\n",
       "100 Serisi      1\n",
       "Name: Seri, dtype: int64"
      ]
     },
     "execution_count": 24,
     "metadata": {},
     "output_type": "execute_result"
    }
   ],
   "source": [
    "data[data[\"Marka\"] == \"Audi\"].Seri.value_counts()"
   ]
  },
  {
   "cell_type": "code",
   "execution_count": 25,
   "metadata": {},
   "outputs": [],
   "source": [
    "data_manipulation(column=data[data[\"Marka\"] == \"Audi\"].Seri.unique(),group=\"Seri\",kriter=30,marka=\"Audi\")"
   ]
  },
  {
   "cell_type": "code",
   "execution_count": 26,
   "metadata": {
    "scrolled": true
   },
   "outputs": [
    {
     "data": {
      "text/plain": [
       "<matplotlib.axes._subplots.AxesSubplot at 0x16ed56a0310>"
      ]
     },
     "execution_count": 26,
     "metadata": {},
     "output_type": "execute_result"
    },
    {
     "data": {
      "image/png": "[encoded data removed]",
      "text/plain": [
       "<Figure size 432x288 with 1 Axes>"
      ]
     },
     "metadata": {
      "needs_background": "light"
     },
     "output_type": "display_data"
    }
   ],
   "source": [
    "data[data[\"Marka\"] == \"BMW\"].Seri.value_counts().plot.barh()"
   ]
  },
  {
   "cell_type": "code",
   "execution_count": 27,
   "metadata": {},
   "outputs": [
    {
     "data": {
      "text/plain": [
       "3 Serisi    875\n",
       "5 Serisi    545\n",
       "1 Serisi    221\n",
       "4 Serisi     54\n",
       "7 Serisi     54\n",
       "2 Serisi     49\n",
       "M Serisi     17\n",
       "Z Serisi      7\n",
       "6 Serisi      6\n",
       "8 Serisi      6\n",
       "i Serisi      2\n",
       "Name: Seri, dtype: int64"
      ]
     },
     "execution_count": 27,
     "metadata": {},
     "output_type": "execute_result"
    }
   ],
   "source": [
    "data[data[\"Marka\"] == \"BMW\"].Seri.value_counts()"
   ]
  },
  {
   "cell_type": "code",
   "execution_count": 28,
   "metadata": {},
   "outputs": [],
   "source": [
    "data_manipulation(column=data[data[\"Marka\"] == \"BMW\"].Seri.unique(),group=\"Seri\",kriter=48,marka=\"BMW\")"
   ]
  },
  {
   "cell_type": "code",
   "execution_count": 29,
   "metadata": {
    "scrolled": true
   },
   "outputs": [
    {
     "data": {
      "text/plain": [
       "<matplotlib.axes._subplots.AxesSubplot at 0x16ed557a700>"
      ]
     },
     "execution_count": 29,
     "metadata": {},
     "output_type": "execute_result"
    },
    {
     "data": {
      "image/png": "[encoded data removed]",
      "text/plain": [
       "<Figure size 432x288 with 1 Axes>"
      ]
     },
     "metadata": {
      "needs_background": "light"
     },
     "output_type": "display_data"
    }
   ],
   "source": [
    "data[data[\"Marka\"] == \"Chevrolet\"].Seri.value_counts().plot.barh()"
   ]
  },
  {
   "cell_type": "code",
   "execution_count": 30,
   "metadata": {},
   "outputs": [
    {
     "data": {
      "text/plain": [
       "Cruze       710\n",
       "Aveo        410\n",
       "Lacetti     172\n",
       "Kalos       159\n",
       "Spark        26\n",
       "Rezzo        13\n",
       "Corvette     10\n",
       "Camaro       10\n",
       "Epica         8\n",
       "Evanda        7\n",
       "Impala        2\n",
       "Caprice       1\n",
       "Name: Seri, dtype: int64"
      ]
     },
     "execution_count": 30,
     "metadata": {},
     "output_type": "execute_result"
    }
   ],
   "source": [
    "data[data[\"Marka\"] == \"Chevrolet\"].Seri.value_counts()"
   ]
  },
  {
   "cell_type": "code",
   "execution_count": 31,
   "metadata": {},
   "outputs": [],
   "source": [
    "data_manipulation(column=data[data[\"Marka\"] == \"Chevrolet\"].Seri.unique(),group=\"Seri\",kriter=50,marka=\"Chevrolet\")"
   ]
  },
  {
   "cell_type": "code",
   "execution_count": 32,
   "metadata": {
    "scrolled": true
   },
   "outputs": [
    {
     "data": {
      "text/plain": [
       "<matplotlib.axes._subplots.AxesSubplot at 0x16ed5b58a90>"
      ]
     },
     "execution_count": 32,
     "metadata": {},
     "output_type": "execute_result"
    },
    {
     "data": {
      "image/png": "[encoded data removed]",
      "text/plain": [
       "<Figure size 432x288 with 1 Axes>"
      ]
     },
     "metadata": {
      "needs_background": "light"
     },
     "output_type": "display_data"
    }
   ],
   "source": [
    "data[data[\"Marka\"] == \"Citroen\"].Seri.value_counts().plot.barh()"
   ]
  },
  {
   "cell_type": "code",
   "execution_count": 33,
   "metadata": {},
   "outputs": [
    {
     "data": {
      "text/plain": [
       "C-Elysee            845\n",
       "C4                  499\n",
       "C3                  447\n",
       "C5                  281\n",
       "Xsara                65\n",
       "Saxo                 40\n",
       "C4 Grand Picasso     34\n",
       "C1                   24\n",
       "C4 Picasso           19\n",
       "C2                   17\n",
       "C3 Picasso           12\n",
       "Xantia                4\n",
       "C8                    3\n",
       "C6                    2\n",
       "Name: Seri, dtype: int64"
      ]
     },
     "execution_count": 33,
     "metadata": {},
     "output_type": "execute_result"
    }
   ],
   "source": [
    "data[data[\"Marka\"] == \"Citroen\"].Seri.value_counts()"
   ]
  },
  {
   "cell_type": "code",
   "execution_count": 34,
   "metadata": {},
   "outputs": [],
   "source": [
    "data_manipulation(column=data[data[\"Marka\"] == \"Citroen\"].Seri.unique(),group=\"Seri\",kriter=50,marka=\"Citroen\")"
   ]
  },
  {
   "cell_type": "code",
   "execution_count": 35,
   "metadata": {},
   "outputs": [
    {
     "data": {
      "text/plain": [
       "<matplotlib.axes._subplots.AxesSubplot at 0x16ed5983be0>"
      ]
     },
     "execution_count": 35,
     "metadata": {},
     "output_type": "execute_result"
    },
    {
     "data": {
      "image/png": "[encoded data removed]",
      "text/plain": [
       "<Figure size 432x288 with 1 Axes>"
      ]
     },
     "metadata": {
      "needs_background": "light"
     },
     "output_type": "display_data"
    }
   ],
   "source": [
    "data[data[\"Marka\"] == \"Dacia\"].Seri.value_counts().plot.barh()"
   ]
  },
  {
   "cell_type": "code",
   "execution_count": 36,
   "metadata": {},
   "outputs": [
    {
     "data": {
      "text/plain": [
       "Sandero    943\n",
       "Logan      349\n",
       "Lodgy      138\n",
       "Solenza     46\n",
       "Name: Seri, dtype: int64"
      ]
     },
     "execution_count": 36,
     "metadata": {},
     "output_type": "execute_result"
    }
   ],
   "source": [
    "data[data[\"Marka\"] == \"Dacia\"].Seri.value_counts()"
   ]
  },
  {
   "cell_type": "code",
   "execution_count": 37,
   "metadata": {},
   "outputs": [],
   "source": [
    "data_manipulation(column=data[data[\"Marka\"] == \"Dacia\"].Seri.unique(),group=\"Seri\",kriter=50,marka=\"Dacia\")"
   ]
  },
  {
   "cell_type": "code",
   "execution_count": 38,
   "metadata": {},
   "outputs": [
    {
     "data": {
      "text/plain": [
       "<matplotlib.axes._subplots.AxesSubplot at 0x16ed5b48f40>"
      ]
     },
     "execution_count": 38,
     "metadata": {},
     "output_type": "execute_result"
    },
    {
     "data": {
      "image/png": "[encoded data removed]",
      "text/plain": [
       "<Figure size 432x288 with 1 Axes>"
      ]
     },
     "metadata": {
      "needs_background": "light"
     },
     "output_type": "display_data"
    }
   ],
   "source": [
    "data[data[\"Marka\"] == \"Fiat\"].Seri.value_counts().plot.barh()"
   ]
  },
  {
   "cell_type": "code",
   "execution_count": 39,
   "metadata": {},
   "outputs": [
    {
     "data": {
      "text/plain": [
       "Egea          734\n",
       "Linea         527\n",
       "Punto         205\n",
       "Palio         163\n",
       "Albea         140\n",
       "Tipo           56\n",
       "Marea          52\n",
       "Siena          46\n",
       "500 Ailesi     38\n",
       "Tempra         30\n",
       "Uno            27\n",
       "Bravo          21\n",
       "Stilo          16\n",
       "Brava          13\n",
       "Panda          12\n",
       "Idea            2\n",
       "500 Abarth      1\n",
       "Name: Seri, dtype: int64"
      ]
     },
     "execution_count": 39,
     "metadata": {},
     "output_type": "execute_result"
    }
   ],
   "source": [
    "data[data[\"Marka\"] == \"Fiat\"].Seri.value_counts()"
   ]
  },
  {
   "cell_type": "code",
   "execution_count": 40,
   "metadata": {},
   "outputs": [],
   "source": [
    "data_manipulation(column=data[data[\"Marka\"] == \"Fiat\"].Seri.unique(),group=\"Seri\",kriter=59,marka=\"Fiat\")"
   ]
  },
  {
   "cell_type": "code",
   "execution_count": 41,
   "metadata": {
    "scrolled": false
   },
   "outputs": [
    {
     "data": {
      "text/plain": [
       "<matplotlib.axes._subplots.AxesSubplot at 0x16ed5a34520>"
      ]
     },
     "execution_count": 41,
     "metadata": {},
     "output_type": "execute_result"
    },
    {
     "data": {
      "image/png": "[encoded data removed]",
      "text/plain": [
       "<Figure size 432x288 with 1 Axes>"
      ]
     },
     "metadata": {
      "needs_background": "light"
     },
     "output_type": "display_data"
    }
   ],
   "source": [
    "data[data[\"Marka\"] == \"Ford\"].Seri.value_counts().plot.barh()"
   ]
  },
  {
   "cell_type": "code",
   "execution_count": 42,
   "metadata": {},
   "outputs": [
    {
     "data": {
      "text/plain": [
       "Focus      1233\n",
       "Fiesta      627\n",
       "Mondeo      148\n",
       "C-Max        87\n",
       "Escort       44\n",
       "Fusion       40\n",
       "B-Max        13\n",
       "Ka            7\n",
       "Taurus        4\n",
       "Mustang       2\n",
       "Sierra        2\n",
       "Taunus        1\n",
       "Galaxy        1\n",
       "Festiva       1\n",
       "Name: Seri, dtype: int64"
      ]
     },
     "execution_count": 42,
     "metadata": {},
     "output_type": "execute_result"
    }
   ],
   "source": [
    "data[data[\"Marka\"] == \"Ford\"].Seri.value_counts()"
   ]
  },
  {
   "cell_type": "code",
   "execution_count": 43,
   "metadata": {},
   "outputs": [],
   "source": [
    "data_manipulation(column=data[data[\"Marka\"] == \"Ford\"].Seri.unique(),group=\"Seri\",kriter=57,marka=\"Ford\")"
   ]
  },
  {
   "cell_type": "code",
   "execution_count": 44,
   "metadata": {},
   "outputs": [
    {
     "data": {
      "text/plain": [
       "<matplotlib.axes._subplots.AxesSubplot at 0x16ed5a22490>"
      ]
     },
     "execution_count": 44,
     "metadata": {},
     "output_type": "execute_result"
    },
    {
     "data": {
      "image/png": "[encoded data removed]",
      "text/plain": [
       "<Figure size 432x288 with 1 Axes>"
      ]
     },
     "metadata": {
      "needs_background": "light"
     },
     "output_type": "display_data"
    }
   ],
   "source": [
    "data[data[\"Marka\"] == \"Honda\"].Seri.value_counts().plot.barh()"
   ]
  },
  {
   "cell_type": "code",
   "execution_count": 45,
   "metadata": {},
   "outputs": [
    {
     "data": {
      "text/plain": [
       "Civic      1767\n",
       "Jazz        114\n",
       "City         98\n",
       "Accord       78\n",
       "Legend        1\n",
       "Prelude       1\n",
       "Shuttle       1\n",
       "Name: Seri, dtype: int64"
      ]
     },
     "execution_count": 45,
     "metadata": {},
     "output_type": "execute_result"
    }
   ],
   "source": [
    "data[data[\"Marka\"] == \"Honda\"].Seri.value_counts()"
   ]
  },
  {
   "cell_type": "code",
   "execution_count": 46,
   "metadata": {},
   "outputs": [],
   "source": [
    "data_manipulation(column=data[data[\"Marka\"] == \"Honda\"].Seri.unique(),group=\"Seri\",kriter=70,marka=\"Honda\")"
   ]
  },
  {
   "cell_type": "code",
   "execution_count": 47,
   "metadata": {},
   "outputs": [
    {
     "data": {
      "text/plain": [
       "<matplotlib.axes._subplots.AxesSubplot at 0x16ed58ad2b0>"
      ]
     },
     "execution_count": 47,
     "metadata": {},
     "output_type": "execute_result"
    },
    {
     "data": {
      "image/png": "[encoded data removed]",
      "text/plain": [
       "<Figure size 432x288 with 1 Axes>"
      ]
     },
     "metadata": {
      "needs_background": "light"
     },
     "output_type": "display_data"
    }
   ],
   "source": [
    "data[data[\"Marka\"] == \"Hyundai\"].Seri.value_counts().plot.barh()"
   ]
  },
  {
   "cell_type": "code",
   "execution_count": 48,
   "metadata": {},
   "outputs": [
    {
     "data": {
      "text/plain": [
       "i20            555\n",
       "Accent Era     350\n",
       "Accent Blue    342\n",
       "Accent         303\n",
       "Getz           235\n",
       "i30            153\n",
       "Elantra        147\n",
       "i20 Troy        42\n",
       "i10             41\n",
       "Sonata          17\n",
       "Matrix          11\n",
       "ix20             9\n",
       "Atos             9\n",
       "i20 Active       6\n",
       "Genesis          6\n",
       "Coupe            4\n",
       "Excel            4\n",
       "i40              1\n",
       "Ioniq            1\n",
       "Trajet           1\n",
       "Name: Seri, dtype: int64"
      ]
     },
     "execution_count": 48,
     "metadata": {},
     "output_type": "execute_result"
    }
   ],
   "source": [
    "data[data[\"Marka\"] == \"Hyundai\"].Seri.value_counts()"
   ]
  },
  {
   "cell_type": "code",
   "execution_count": 49,
   "metadata": {},
   "outputs": [],
   "source": [
    "data_manipulation(column=data[data[\"Marka\"] == \"Hyundai\"].Seri.unique(),group=\"Seri\",kriter=100,marka=\"Hyundai\")"
   ]
  },
  {
   "cell_type": "code",
   "execution_count": 50,
   "metadata": {
    "scrolled": true
   },
   "outputs": [
    {
     "data": {
      "text/plain": [
       "<matplotlib.axes._subplots.AxesSubplot at 0x16ed589ca30>"
      ]
     },
     "execution_count": 50,
     "metadata": {},
     "output_type": "execute_result"
    },
    {
     "data": {
      "image/png": "[encoded data removed]",
      "text/plain": [
       "<Figure size 432x288 with 1 Axes>"
      ]
     },
     "metadata": {
      "needs_background": "light"
     },
     "output_type": "display_data"
    }
   ],
   "source": [
    "data[data[\"Marka\"] == \"Kia\"].Seri.value_counts().plot.barh()"
   ]
  },
  {
   "cell_type": "code",
   "execution_count": 51,
   "metadata": {},
   "outputs": [
    {
     "data": {
      "text/plain": [
       "Rio         443\n",
       "Ceed        283\n",
       "Cerato      164\n",
       "Picanto      70\n",
       "Sephia       19\n",
       "Venga        16\n",
       "Pride        10\n",
       "Carnival      9\n",
       "Pro Ceed      8\n",
       "Shuma         7\n",
       "Carens        2\n",
       "Magentis      2\n",
       "Optima        1\n",
       "Name: Seri, dtype: int64"
      ]
     },
     "execution_count": 51,
     "metadata": {},
     "output_type": "execute_result"
    }
   ],
   "source": [
    "data[data[\"Marka\"] == \"Kia\"].Seri.value_counts()"
   ]
  },
  {
   "cell_type": "code",
   "execution_count": 52,
   "metadata": {},
   "outputs": [],
   "source": [
    "data_manipulation(column=data[data[\"Marka\"] == \"Kia\"].Seri.unique(),group=\"Seri\",kriter=50,marka=\"Kia\")"
   ]
  },
  {
   "cell_type": "code",
   "execution_count": 53,
   "metadata": {
    "scrolled": true
   },
   "outputs": [
    {
     "data": {
      "text/plain": [
       "<matplotlib.axes._subplots.AxesSubplot at 0x16ed5adf910>"
      ]
     },
     "execution_count": 53,
     "metadata": {},
     "output_type": "execute_result"
    },
    {
     "data": {
      "image/png": "[encoded data removed]",
      "text/plain": [
       "<Figure size 432x288 with 1 Axes>"
      ]
     },
     "metadata": {
      "needs_background": "light"
     },
     "output_type": "display_data"
    }
   ],
   "source": [
    "data[data[\"Marka\"] == \"Mazda\"].Seri.value_counts().plot.barh()"
   ]
  },
  {
   "cell_type": "code",
   "execution_count": 54,
   "metadata": {},
   "outputs": [
    {
     "data": {
      "text/plain": [
       "3         166\n",
       "323        64\n",
       "626        35\n",
       "6          29\n",
       "Lantis      7\n",
       "2           4\n",
       "MX          3\n",
       "MPV         1\n",
       "929         1\n",
       "RX          1\n",
       "Name: Seri, dtype: int64"
      ]
     },
     "execution_count": 54,
     "metadata": {},
     "output_type": "execute_result"
    }
   ],
   "source": [
    "data[data[\"Marka\"] == \"Mazda\"].Seri.value_counts()"
   ]
  },
  {
   "cell_type": "code",
   "execution_count": 55,
   "metadata": {},
   "outputs": [],
   "source": [
    "data_manipulation(column=data[data[\"Marka\"] == \"Mazda\"].Seri.unique(),group=\"Seri\",kriter=30,marka=\"Mazda\")"
   ]
  },
  {
   "cell_type": "code",
   "execution_count": 56,
   "metadata": {
    "scrolled": true
   },
   "outputs": [
    {
     "data": {
      "text/plain": [
       "<matplotlib.axes._subplots.AxesSubplot at 0x16ed5be29a0>"
      ]
     },
     "execution_count": 56,
     "metadata": {},
     "output_type": "execute_result"
    },
    {
     "data": {
      "image/png": "[encoded data removed]",
      "text/plain": [
       "<Figure size 432x288 with 1 Axes>"
      ]
     },
     "metadata": {
      "needs_background": "light"
     },
     "output_type": "display_data"
    }
   ],
   "source": [
    "data[data[\"Marka\"] == \"Mercedes - Benz\"].Seri.value_counts().plot.barh()"
   ]
  },
  {
   "cell_type": "code",
   "execution_count": 57,
   "metadata": {},
   "outputs": [
    {
     "data": {
      "text/plain": [
       "C            693\n",
       "E            481\n",
       "A            135\n",
       "CLA          120\n",
       "B             58\n",
       "200           53\n",
       "190           40\n",
       "CLS           37\n",
       "300           22\n",
       "CLK           18\n",
       "230           13\n",
       "Maybach S      9\n",
       "250            6\n",
       "CLC            3\n",
       "SL             3\n",
       "SLC            3\n",
       "280            3\n",
       "260            2\n",
       "R              2\n",
       "CL             2\n",
       "AMG GT         1\n",
       "560            1\n",
       "600            1\n",
       "Name: Seri, dtype: int64"
      ]
     },
     "execution_count": 57,
     "metadata": {},
     "output_type": "execute_result"
    }
   ],
   "source": [
    "data[data[\"Marka\"] == \"Mercedes - Benz\"].Seri.value_counts()"
   ]
  },
  {
   "cell_type": "code",
   "execution_count": 58,
   "metadata": {},
   "outputs": [],
   "source": [
    "data_manipulation(column=data[data[\"Marka\"] == \"Mercedes - Benz\"].Seri.unique(),group=\"Seri\",kriter=30,marka=\"Mercedes - Benz\")"
   ]
  },
  {
   "cell_type": "code",
   "execution_count": 59,
   "metadata": {
    "scrolled": true
   },
   "outputs": [
    {
     "data": {
      "text/plain": [
       "<matplotlib.axes._subplots.AxesSubplot at 0x16ed5e09790>"
      ]
     },
     "execution_count": 59,
     "metadata": {},
     "output_type": "execute_result"
    },
    {
     "data": {
      "image/png": "[encoded data removed]",
      "text/plain": [
       "<Figure size 432x288 with 1 Axes>"
      ]
     },
     "metadata": {
      "needs_background": "light"
     },
     "output_type": "display_data"
    }
   ],
   "source": [
    "data[data[\"Marka\"] == \"Opel\"].Seri.value_counts().plot.barh()"
   ]
  },
  {
   "cell_type": "code",
   "execution_count": 60,
   "metadata": {},
   "outputs": [
    {
     "data": {
      "text/plain": [
       "Astra       1242\n",
       "Corsa        507\n",
       "Vectra       254\n",
       "Insignia     170\n",
       "Meriva        25\n",
       "Zafira        11\n",
       "Omega          3\n",
       "Tigra          1\n",
       "Signum         1\n",
       "Calibra        1\n",
       "Agila          1\n",
       "Name: Seri, dtype: int64"
      ]
     },
     "execution_count": 60,
     "metadata": {},
     "output_type": "execute_result"
    }
   ],
   "source": [
    "data[data[\"Marka\"] == \"Opel\"].Seri.value_counts()"
   ]
  },
  {
   "cell_type": "code",
   "execution_count": 61,
   "metadata": {},
   "outputs": [],
   "source": [
    "data_manipulation(column=data[data[\"Marka\"] == \"Opel\"].Seri.unique(),group=\"Seri\",kriter=100,marka=\"Opel\")"
   ]
  },
  {
   "cell_type": "code",
   "execution_count": 62,
   "metadata": {
    "scrolled": true
   },
   "outputs": [
    {
     "data": {
      "text/plain": [
       "<matplotlib.axes._subplots.AxesSubplot at 0x16ed5c7c070>"
      ]
     },
     "execution_count": 62,
     "metadata": {},
     "output_type": "execute_result"
    },
    {
     "data": {
      "image/png": "[encoded data removed]",
      "text/plain": [
       "<Figure size 432x288 with 1 Axes>"
      ]
     },
     "metadata": {
      "needs_background": "light"
     },
     "output_type": "display_data"
    }
   ],
   "source": [
    "data[data[\"Marka\"] == \"Peugeot\"].Seri.value_counts().plot.barh()"
   ]
  },
  {
   "cell_type": "code",
   "execution_count": 63,
   "metadata": {},
   "outputs": [
    {
     "data": {
      "text/plain": [
       "301     477\n",
       "206     341\n",
       "307     324\n",
       "308     232\n",
       "207     214\n",
       "208     157\n",
       "508     122\n",
       "407     115\n",
       "206+     76\n",
       "306      54\n",
       "106      47\n",
       "406      36\n",
       "107       9\n",
       "RCZ       8\n",
       "405       2\n",
       "607       2\n",
       "205       1\n",
       "807       1\n",
       "605       1\n",
       "806       1\n",
       "Name: Seri, dtype: int64"
      ]
     },
     "execution_count": 63,
     "metadata": {},
     "output_type": "execute_result"
    }
   ],
   "source": [
    "data[data[\"Marka\"] == \"Peugeot\"].Seri.value_counts()"
   ]
  },
  {
   "cell_type": "code",
   "execution_count": 64,
   "metadata": {},
   "outputs": [],
   "source": [
    "data_manipulation(column=data[data[\"Marka\"] == \"Peugeot\"].Seri.unique(),group=\"Seri\",kriter=100,marka=\"Peugeot\")"
   ]
  },
  {
   "cell_type": "code",
   "execution_count": 65,
   "metadata": {
    "scrolled": true
   },
   "outputs": [
    {
     "data": {
      "text/plain": [
       "<matplotlib.axes._subplots.AxesSubplot at 0x16ed5d2b5e0>"
      ]
     },
     "execution_count": 65,
     "metadata": {},
     "output_type": "execute_result"
    },
    {
     "data": {
      "image/png": "[encoded data removed]",
      "text/plain": [
       "<Figure size 432x288 with 1 Axes>"
      ]
     },
     "metadata": {
      "needs_background": "light"
     },
     "output_type": "display_data"
    }
   ],
   "source": [
    "data[data[\"Marka\"] == \"Porsche\"].Seri.value_counts().plot.barh()"
   ]
  },
  {
   "cell_type": "code",
   "execution_count": 66,
   "metadata": {
    "scrolled": true
   },
   "outputs": [
    {
     "data": {
      "text/plain": [
       "Panamera    92\n",
       "911         50\n",
       "Cayman      17\n",
       "Boxster      7\n",
       "Name: Seri, dtype: int64"
      ]
     },
     "execution_count": 66,
     "metadata": {},
     "output_type": "execute_result"
    }
   ],
   "source": [
    "data[data[\"Marka\"] == \"Porsche\"].Seri.value_counts()"
   ]
  },
  {
   "cell_type": "code",
   "execution_count": 67,
   "metadata": {},
   "outputs": [],
   "source": [
    "data_manipulation(column=data[data[\"Marka\"] == \"Porsche\"].Seri.unique(),group=\"Seri\",kriter=10,marka=\"Porsche\")"
   ]
  },
  {
   "cell_type": "code",
   "execution_count": 68,
   "metadata": {
    "scrolled": true
   },
   "outputs": [
    {
     "data": {
      "text/plain": [
       "<matplotlib.axes._subplots.AxesSubplot at 0x16ed5ad5c40>"
      ]
     },
     "execution_count": 68,
     "metadata": {},
     "output_type": "execute_result"
    },
    {
     "data": {
      "image/png": "[encoded data removed]",
      "text/plain": [
       "<Figure size 432x288 with 1 Axes>"
      ]
     },
     "metadata": {
      "needs_background": "light"
     },
     "output_type": "display_data"
    }
   ],
   "source": [
    "data[data[\"Marka\"] == \"Renault\"].Seri.value_counts().plot.barh()"
   ]
  },
  {
   "cell_type": "code",
   "execution_count": 69,
   "metadata": {},
   "outputs": [
    {
     "data": {
      "text/plain": [
       "Clio            675\n",
       "Megane          554\n",
       "Fluence         321\n",
       "Symbol          314\n",
       "Laguna           60\n",
       "R 19             39\n",
       "R 9              34\n",
       "R 12             32\n",
       "Scenic           24\n",
       "Latitude         19\n",
       "Talisman          7\n",
       "Taliant           6\n",
       "Modus             4\n",
       "Twingo            3\n",
       "Grand Scenic      3\n",
       "R 21              3\n",
       "Espace            2\n",
       "Vel Satis         1\n",
       "Safrane           1\n",
       "Name: Seri, dtype: int64"
      ]
     },
     "execution_count": 69,
     "metadata": {},
     "output_type": "execute_result"
    }
   ],
   "source": [
    "data[data[\"Marka\"] == \"Renault\"].Seri.value_counts()"
   ]
  },
  {
   "cell_type": "code",
   "execution_count": 70,
   "metadata": {},
   "outputs": [],
   "source": [
    "data_manipulation(column=data[data[\"Marka\"] == \"Renault\"].Seri.unique(),group=\"Seri\",kriter=57,marka=\"Renault\")"
   ]
  },
  {
   "cell_type": "code",
   "execution_count": 71,
   "metadata": {
    "scrolled": true
   },
   "outputs": [
    {
     "data": {
      "text/plain": [
       "<matplotlib.axes._subplots.AxesSubplot at 0x16ed5a6f2b0>"
      ]
     },
     "execution_count": 71,
     "metadata": {},
     "output_type": "execute_result"
    },
    {
     "data": {
      "image/png": "[encoded data removed]",
      "text/plain": [
       "<Figure size 432x288 with 1 Axes>"
      ]
     },
     "metadata": {
      "needs_background": "light"
     },
     "output_type": "display_data"
    }
   ],
   "source": [
    "data[data[\"Marka\"] == \"Seat\"].Seri.value_counts().plot.barh()"
   ]
  },
  {
   "cell_type": "code",
   "execution_count": 72,
   "metadata": {},
   "outputs": [
    {
     "data": {
      "text/plain": [
       "Leon        1210\n",
       "Ibiza        552\n",
       "Toledo       214\n",
       "Cordoba      140\n",
       "Altea         32\n",
       "Exeo          10\n",
       "Alhambra       3\n",
       "Name: Seri, dtype: int64"
      ]
     },
     "execution_count": 72,
     "metadata": {},
     "output_type": "execute_result"
    }
   ],
   "source": [
    "data[data[\"Marka\"] == \"Seat\"].Seri.value_counts()"
   ]
  },
  {
   "cell_type": "code",
   "execution_count": 73,
   "metadata": {},
   "outputs": [],
   "source": [
    "\n",
    "data_manipulation(column=data[data[\"Marka\"] == \"Seat\"].Seri.unique(),group=\"Seri\",kriter=100,marka=\"Seat\")"
   ]
  },
  {
   "cell_type": "code",
   "execution_count": 74,
   "metadata": {},
   "outputs": [
    {
     "data": {
      "text/plain": [
       "<matplotlib.axes._subplots.AxesSubplot at 0x16ed79ded90>"
      ]
     },
     "execution_count": 74,
     "metadata": {},
     "output_type": "execute_result"
    },
    {
     "data": {
      "image/png": "[encoded data removed]",
      "text/plain": [
       "<Figure size 432x288 with 1 Axes>"
      ]
     },
     "metadata": {
      "needs_background": "light"
     },
     "output_type": "display_data"
    }
   ],
   "source": [
    "data[data[\"Marka\"] == \"Skoda\"].Seri.value_counts().plot.barh()"
   ]
  },
  {
   "cell_type": "code",
   "execution_count": 75,
   "metadata": {},
   "outputs": [
    {
     "data": {
      "text/plain": [
       "Octavia     865\n",
       "SuperB      618\n",
       "Fabia       371\n",
       "Rapid       157\n",
       "Felicia      48\n",
       "Scala        32\n",
       "Roomster     28\n",
       "Citigo        2\n",
       "Forman        1\n",
       "Favorit       1\n",
       "Name: Seri, dtype: int64"
      ]
     },
     "execution_count": 75,
     "metadata": {},
     "output_type": "execute_result"
    }
   ],
   "source": [
    "data[data[\"Marka\"] == \"Skoda\"].Seri.value_counts()"
   ]
  },
  {
   "cell_type": "code",
   "execution_count": 76,
   "metadata": {},
   "outputs": [],
   "source": [
    "data_manipulation(column=data[data[\"Marka\"] == \"Skoda\"].Seri.unique(),group=\"Seri\",kriter=100,marka=\"Skoda\")"
   ]
  },
  {
   "cell_type": "code",
   "execution_count": 77,
   "metadata": {
    "scrolled": true
   },
   "outputs": [],
   "source": [
    "data.drop(data[data[\"Marka\"] == \"Suzuki\"].index,axis=0,inplace=True)"
   ]
  },
  {
   "cell_type": "code",
   "execution_count": 78,
   "metadata": {
    "scrolled": true
   },
   "outputs": [
    {
     "data": {
      "text/plain": [
       "<matplotlib.axes._subplots.AxesSubplot at 0x16ed5e6f9a0>"
      ]
     },
     "execution_count": 78,
     "metadata": {},
     "output_type": "execute_result"
    },
    {
     "data": {
      "image/png": "[encoded data removed]",
      "text/plain": [
       "<Figure size 432x288 with 1 Axes>"
      ]
     },
     "metadata": {
      "needs_background": "light"
     },
     "output_type": "display_data"
    }
   ],
   "source": [
    "data[data[\"Marka\"] == \"Toyota\"].Seri.value_counts().plot.barh()"
   ]
  },
  {
   "cell_type": "code",
   "execution_count": 79,
   "metadata": {},
   "outputs": [
    {
     "data": {
      "text/plain": [
       "Corolla          1549\n",
       "Auris             262\n",
       "Yaris             154\n",
       "Avensis           146\n",
       "Verso              14\n",
       "Carina             14\n",
       "Corona             10\n",
       "Starlet             2\n",
       "Camry               2\n",
       "Cressida            2\n",
       "Urban Cruiser       1\n",
       "Name: Seri, dtype: int64"
      ]
     },
     "execution_count": 79,
     "metadata": {},
     "output_type": "execute_result"
    }
   ],
   "source": [
    "data[data[\"Marka\"] == \"Toyota\"].Seri.value_counts()"
   ]
  },
  {
   "cell_type": "code",
   "execution_count": 80,
   "metadata": {},
   "outputs": [],
   "source": [
    "data_manipulation(column=data[data[\"Marka\"] == \"Toyota\"].Seri.unique(),group=\"Seri\",kriter=50,marka=\"Toyota\")"
   ]
  },
  {
   "cell_type": "code",
   "execution_count": 81,
   "metadata": {
    "scrolled": true
   },
   "outputs": [
    {
     "data": {
      "text/plain": [
       "<matplotlib.axes._subplots.AxesSubplot at 0x16ed6048e80>"
      ]
     },
     "execution_count": 81,
     "metadata": {},
     "output_type": "execute_result"
    },
    {
     "data": {
      "image/png": "[encoded data removed]",
      "text/plain": [
       "<Figure size 432x288 with 1 Axes>"
      ]
     },
     "metadata": {
      "needs_background": "light"
     },
     "output_type": "display_data"
    }
   ],
   "source": [
    "data[data[\"Marka\"] == \"Volkswagen\"].Seri.value_counts().plot.barh()"
   ]
  },
  {
   "cell_type": "code",
   "execution_count": 82,
   "metadata": {},
   "outputs": [
    {
     "data": {
      "text/plain": [
       "Passat            713\n",
       "Polo              533\n",
       "Golf              469\n",
       "Jetta             390\n",
       "Bora               78\n",
       "VW CC              39\n",
       "Scirocco           19\n",
       "Passat Variant     17\n",
       "New Beetle         10\n",
       "Arteon              9\n",
       "Touran              5\n",
       "Sharan              1\n",
       "Vento               1\n",
       "Name: Seri, dtype: int64"
      ]
     },
     "execution_count": 82,
     "metadata": {},
     "output_type": "execute_result"
    }
   ],
   "source": [
    "data[data[\"Marka\"] == \"Volkswagen\"].Seri.value_counts()"
   ]
  },
  {
   "cell_type": "code",
   "execution_count": 83,
   "metadata": {},
   "outputs": [],
   "source": [
    "data_manipulation(column=data[data[\"Marka\"] == \"Volkswagen\"].Seri.unique(),group=\"Seri\",kriter=100,marka=\"Volkswagen\")"
   ]
  },
  {
   "cell_type": "code",
   "execution_count": 84,
   "metadata": {
    "scrolled": true
   },
   "outputs": [
    {
     "data": {
      "text/plain": [
       "<matplotlib.axes._subplots.AxesSubplot at 0x16ed60cab20>"
      ]
     },
     "execution_count": 84,
     "metadata": {},
     "output_type": "execute_result"
    },
    {
     "data": {
      "image/png": "[encoded data removed]",
      "text/plain": [
       "<Figure size 432x288 with 1 Axes>"
      ]
     },
     "metadata": {
      "needs_background": "light"
     },
     "output_type": "display_data"
    }
   ],
   "source": [
    "data[data[\"Marka\"] == \"Volvo\"].Seri.value_counts().plot.barh()"
   ]
  },
  {
   "cell_type": "code",
   "execution_count": 85,
   "metadata": {},
   "outputs": [
    {
     "data": {
      "text/plain": [
       "S60                  253\n",
       "S40                  189\n",
       "V40                   64\n",
       "S80                   53\n",
       "V40 Cross Country     21\n",
       "S90                   13\n",
       "V50                   12\n",
       "V60                   10\n",
       "V90 Cross Country      6\n",
       "C30                    6\n",
       "V70                    4\n",
       "850                    3\n",
       "440                    2\n",
       "S70                    2\n",
       "960                    2\n",
       "460                    1\n",
       "V60 Cross Country      1\n",
       "C70                    1\n",
       "V90                    1\n",
       "Name: Seri, dtype: int64"
      ]
     },
     "execution_count": 85,
     "metadata": {},
     "output_type": "execute_result"
    }
   ],
   "source": [
    "data[data[\"Marka\"] == \"Volvo\"].Seri.value_counts()"
   ]
  },
  {
   "cell_type": "code",
   "execution_count": 86,
   "metadata": {},
   "outputs": [],
   "source": [
    "data_manipulation(column=data[data[\"Marka\"] == \"Volvo\"].Seri.unique(),group=\"Seri\",kriter=22,marka=\"Volvo\")"
   ]
  },
  {
   "cell_type": "code",
   "execution_count": 87,
   "metadata": {
    "scrolled": true
   },
   "outputs": [
    {
     "data": {
      "text/plain": [
       "<matplotlib.axes._subplots.AxesSubplot at 0x16ed5f05760>"
      ]
     },
     "execution_count": 87,
     "metadata": {},
     "output_type": "execute_result"
    },
    {
     "data": {
      "image/png": "[encoded data removed]",
      "text/plain": [
       "<Figure size 432x288 with 1 Axes>"
      ]
     },
     "metadata": {
      "needs_background": "light"
     },
     "output_type": "display_data"
    }
   ],
   "source": [
    "data[data[\"Marka\"] == \"MINI\"].Seri.value_counts().plot.barh()"
   ]
  },
  {
   "cell_type": "code",
   "execution_count": 88,
   "metadata": {},
   "outputs": [
    {
     "data": {
      "text/plain": [
       "Cooper            101\n",
       "Cooper S           30\n",
       "Cooper Clubman     14\n",
       "One                 9\n",
       "John Cooper         6\n",
       "Name: Seri, dtype: int64"
      ]
     },
     "execution_count": 88,
     "metadata": {},
     "output_type": "execute_result"
    }
   ],
   "source": [
    "data[data[\"Marka\"] == \"MINI\"].Seri.value_counts()"
   ]
  },
  {
   "cell_type": "code",
   "execution_count": 89,
   "metadata": {},
   "outputs": [],
   "source": [
    "data_manipulation(column=data[data[\"Marka\"] == \"MINI\"].Seri.unique(),group=\"Seri\",kriter=30,marka=\"MINI\")"
   ]
  },
  {
   "cell_type": "code",
   "execution_count": 90,
   "metadata": {},
   "outputs": [
    {
     "data": {
      "text/plain": [
       "<matplotlib.axes._subplots.AxesSubplot at 0x16ed5f543d0>"
      ]
     },
     "execution_count": 90,
     "metadata": {},
     "output_type": "execute_result"
    },
    {
     "data": {
      "image/png": "[encoded data removed]",
      "text/plain": [
       "<Figure size 432x288 with 1 Axes>"
      ]
     },
     "metadata": {
      "needs_background": "light"
     },
     "output_type": "display_data"
    }
   ],
   "source": [
    "data[data[\"Marka\"] == \"Mitsubishi\"].Seri.value_counts().plot.barh()"
   ]
  },
  {
   "cell_type": "code",
   "execution_count": 91,
   "metadata": {},
   "outputs": [
    {
     "data": {
      "text/plain": [
       "Lancer              71\n",
       "Carisma             62\n",
       "Colt                56\n",
       "Space Star          16\n",
       "Attrage              6\n",
       "3000 GT              1\n",
       "Galant               1\n",
       "Lancer Evolution     1\n",
       "Space Wagon          1\n",
       "Name: Seri, dtype: int64"
      ]
     },
     "execution_count": 91,
     "metadata": {},
     "output_type": "execute_result"
    }
   ],
   "source": [
    "data[data[\"Marka\"] == \"Mitsubishi\"].Seri.value_counts()"
   ]
  },
  {
   "cell_type": "code",
   "execution_count": 92,
   "metadata": {},
   "outputs": [],
   "source": [
    "data_manipulation(column=data[data[\"Marka\"] == \"Mitsubishi\"].Seri.unique(),group=\"Seri\",kriter=20,marka=\"Mitsubishi\")"
   ]
  },
  {
   "cell_type": "code",
   "execution_count": 93,
   "metadata": {
    "scrolled": true
   },
   "outputs": [
    {
     "data": {
      "text/plain": [
       "<matplotlib.axes._subplots.AxesSubplot at 0x16ed5fdec70>"
      ]
     },
     "execution_count": 93,
     "metadata": {},
     "output_type": "execute_result"
    },
    {
     "data": {
      "image/png": "[encoded data removed]",
      "text/plain": [
       "<Figure size 432x288 with 1 Axes>"
      ]
     },
     "metadata": {
      "needs_background": "light"
     },
     "output_type": "display_data"
    }
   ],
   "source": [
    "data[data[\"Marka\"] == \"Nissan\"].Seri.value_counts().plot.barh()"
   ]
  },
  {
   "cell_type": "code",
   "execution_count": 94,
   "metadata": {},
   "outputs": [
    {
     "data": {
      "text/plain": [
       "Micra            343\n",
       "Primera          134\n",
       "Note              75\n",
       "Almera            71\n",
       "Pulsar            14\n",
       "Maxima             6\n",
       "Sunny              4\n",
       "Laurel Altima      3\n",
       "GT-R               2\n",
       "Name: Seri, dtype: int64"
      ]
     },
     "execution_count": 94,
     "metadata": {},
     "output_type": "execute_result"
    }
   ],
   "source": [
    "data[data[\"Marka\"] == \"Nissan\"].Seri.value_counts()"
   ]
  },
  {
   "cell_type": "code",
   "execution_count": 95,
   "metadata": {},
   "outputs": [],
   "source": [
    "data_manipulation(column=data[data[\"Marka\"] == \"Nissan\"].Seri.unique(),group=\"Seri\",kriter=20,marka=\"Nissan\")"
   ]
  },
  {
   "cell_type": "code",
   "execution_count": 96,
   "metadata": {
    "scrolled": true
   },
   "outputs": [
    {
     "data": {
      "text/plain": [
       "Int64Index([  518,  2610,  3293,  7220,  8476,  9905, 10298, 10332, 10426,\n",
       "            10506, 10758, 10766, 10877, 17372, 20213, 22402, 23527, 24647,\n",
       "            24720, 24999, 28595, 29058, 29081, 29795, 30212, 30237, 30441,\n",
       "            30606, 30690, 30814, 33207, 39071, 39120, 39134, 39235, 39255,\n",
       "            39453, 39599, 39680, 39780, 39787, 39941, 40075, 40205, 40316,\n",
       "            40328, 40435, 40440, 40465, 40618, 40670, 40720, 40732, 40736,\n",
       "            40768, 40793, 40888, 40991, 41116, 41399, 42160, 42222, 42661,\n",
       "            43733],\n",
       "           dtype='int64')"
      ]
     },
     "execution_count": 96,
     "metadata": {},
     "output_type": "execute_result"
    }
   ],
   "source": [
    "data[(data[\"Motor Gücü\"] == 0) | (data[\"Motor Hacmi\"] == 0)].index"
   ]
  },
  {
   "cell_type": "code",
   "execution_count": 97,
   "metadata": {},
   "outputs": [],
   "source": [
    "data.drop(data[(data[\"Motor Gücü\"] == 0) | (data[\"Motor Hacmi\"] == 0)].index,axis=0,inplace=True)"
   ]
  },
  {
   "cell_type": "code",
   "execution_count": 98,
   "metadata": {},
   "outputs": [
    {
     "data": {
      "text/html": [
       "<div>\n",
       "<style scoped>\n",
       "    .dataframe tbody tr th:only-of-type {\n",
       "        vertical-align: middle;\n",
       "    }\n",
       "\n",
       "    .dataframe tbody tr th {\n",
       "        vertical-align: top;\n",
       "    }\n",
       "\n",
       "    .dataframe thead th {\n",
       "        text-align: right;\n",
       "    }\n",
       "</style>\n",
       "<table border=\"1\" class=\"dataframe\">\n",
       "  <thead>\n",
       "    <tr style=\"text-align: right;\">\n",
       "      <th></th>\n",
       "      <th>Fiyat</th>\n",
       "      <th>Marka</th>\n",
       "      <th>Seri</th>\n",
       "      <th>Model</th>\n",
       "      <th>Yıl</th>\n",
       "      <th>Yakıt Tipi</th>\n",
       "      <th>Vites Tipi</th>\n",
       "      <th>Motor Gücü</th>\n",
       "      <th>Motor Hacmi</th>\n",
       "      <th>Kilometre</th>\n",
       "      <th>Boya-değişen</th>\n",
       "    </tr>\n",
       "  </thead>\n",
       "  <tbody>\n",
       "    <tr>\n",
       "      <th>0</th>\n",
       "      <td>68000</td>\n",
       "      <td>Alfa Romeo</td>\n",
       "      <td>156</td>\n",
       "      <td>2.0 TS</td>\n",
       "      <td>1998</td>\n",
       "      <td>LPG &amp; Benzin</td>\n",
       "      <td>Düz</td>\n",
       "      <td>155</td>\n",
       "      <td>1970</td>\n",
       "      <td>400000</td>\n",
       "      <td>12 boyalı</td>\n",
       "    </tr>\n",
       "    <tr>\n",
       "      <th>1</th>\n",
       "      <td>423000</td>\n",
       "      <td>Alfa Romeo</td>\n",
       "      <td>Giulietta</td>\n",
       "      <td>1.4 TB MultiAir Super TCT</td>\n",
       "      <td>2017</td>\n",
       "      <td>Benzin</td>\n",
       "      <td>Otomatik</td>\n",
       "      <td>170</td>\n",
       "      <td>1368</td>\n",
       "      <td>63000</td>\n",
       "      <td>Belirtilmemiş</td>\n",
       "    </tr>\n",
       "    <tr>\n",
       "      <th>5</th>\n",
       "      <td>72500</td>\n",
       "      <td>Alfa Romeo</td>\n",
       "      <td>156</td>\n",
       "      <td>2.0 TS</td>\n",
       "      <td>1998</td>\n",
       "      <td>LPG &amp; Benzin</td>\n",
       "      <td>Düz</td>\n",
       "      <td>155</td>\n",
       "      <td>1970</td>\n",
       "      <td>289766</td>\n",
       "      <td>6 boyalı</td>\n",
       "    </tr>\n",
       "    <tr>\n",
       "      <th>6</th>\n",
       "      <td>89000</td>\n",
       "      <td>Alfa Romeo</td>\n",
       "      <td>156</td>\n",
       "      <td>1.6 TS Progression</td>\n",
       "      <td>2004</td>\n",
       "      <td>LPG &amp; Benzin</td>\n",
       "      <td>Düz</td>\n",
       "      <td>120</td>\n",
       "      <td>1598</td>\n",
       "      <td>298000</td>\n",
       "      <td>1 değişen, 12 boyalı</td>\n",
       "    </tr>\n",
       "    <tr>\n",
       "      <th>8</th>\n",
       "      <td>160000</td>\n",
       "      <td>Alfa Romeo</td>\n",
       "      <td>156</td>\n",
       "      <td>1.6 TS Distinctive</td>\n",
       "      <td>2005</td>\n",
       "      <td>LPG &amp; Benzin</td>\n",
       "      <td>Düz</td>\n",
       "      <td>120</td>\n",
       "      <td>1598</td>\n",
       "      <td>175000</td>\n",
       "      <td>Belirtilmemiş</td>\n",
       "    </tr>\n",
       "    <tr>\n",
       "      <th>...</th>\n",
       "      <td>...</td>\n",
       "      <td>...</td>\n",
       "      <td>...</td>\n",
       "      <td>...</td>\n",
       "      <td>...</td>\n",
       "      <td>...</td>\n",
       "      <td>...</td>\n",
       "      <td>...</td>\n",
       "      <td>...</td>\n",
       "      <td>...</td>\n",
       "      <td>...</td>\n",
       "    </tr>\n",
       "    <tr>\n",
       "      <th>44721</th>\n",
       "      <td>377500</td>\n",
       "      <td>Volvo</td>\n",
       "      <td>S60</td>\n",
       "      <td>1.6 D Advance</td>\n",
       "      <td>2015</td>\n",
       "      <td>Dizel</td>\n",
       "      <td>Yarı Otomatik</td>\n",
       "      <td>115</td>\n",
       "      <td>1560</td>\n",
       "      <td>152000</td>\n",
       "      <td>Belirtilmemiş</td>\n",
       "    </tr>\n",
       "    <tr>\n",
       "      <th>44722</th>\n",
       "      <td>97000</td>\n",
       "      <td>Volvo</td>\n",
       "      <td>S40</td>\n",
       "      <td>1.6</td>\n",
       "      <td>2002</td>\n",
       "      <td>LPG &amp; Benzin</td>\n",
       "      <td>Düz</td>\n",
       "      <td>109</td>\n",
       "      <td>1587</td>\n",
       "      <td>270000</td>\n",
       "      <td>Belirtilmemiş</td>\n",
       "    </tr>\n",
       "    <tr>\n",
       "      <th>44724</th>\n",
       "      <td>308000</td>\n",
       "      <td>Volvo</td>\n",
       "      <td>S60</td>\n",
       "      <td>2.0 D Premium</td>\n",
       "      <td>2011</td>\n",
       "      <td>Dizel</td>\n",
       "      <td>Otomatik</td>\n",
       "      <td>163</td>\n",
       "      <td>1984</td>\n",
       "      <td>278000</td>\n",
       "      <td>1 değişen, 1 boyalı</td>\n",
       "    </tr>\n",
       "    <tr>\n",
       "      <th>44726</th>\n",
       "      <td>542000</td>\n",
       "      <td>Volvo</td>\n",
       "      <td>V40</td>\n",
       "      <td>1.5 T3 Inscription</td>\n",
       "      <td>2018</td>\n",
       "      <td>Benzin</td>\n",
       "      <td>Otomatik</td>\n",
       "      <td>152</td>\n",
       "      <td>1498</td>\n",
       "      <td>39000</td>\n",
       "      <td>2 boyalı</td>\n",
       "    </tr>\n",
       "    <tr>\n",
       "      <th>44727</th>\n",
       "      <td>137000</td>\n",
       "      <td>Volvo</td>\n",
       "      <td>S40</td>\n",
       "      <td>1.6</td>\n",
       "      <td>2004</td>\n",
       "      <td>LPG &amp; Benzin</td>\n",
       "      <td>Düz</td>\n",
       "      <td>109</td>\n",
       "      <td>1587</td>\n",
       "      <td>245000</td>\n",
       "      <td>12 boyalı</td>\n",
       "    </tr>\n",
       "  </tbody>\n",
       "</table>\n",
       "<p>35742 rows × 11 columns</p>\n",
       "</div>"
      ],
      "text/plain": [
       "        Fiyat       Marka       Seri                      Model   Yıl  \\\n",
       "0       68000  Alfa Romeo        156                     2.0 TS  1998   \n",
       "1      423000  Alfa Romeo  Giulietta  1.4 TB MultiAir Super TCT  2017   \n",
       "5       72500  Alfa Romeo        156                     2.0 TS  1998   \n",
       "6       89000  Alfa Romeo        156         1.6 TS Progression  2004   \n",
       "8      160000  Alfa Romeo        156         1.6 TS Distinctive  2005   \n",
       "...       ...         ...        ...                        ...   ...   \n",
       "44721  377500       Volvo        S60              1.6 D Advance  2015   \n",
       "44722   97000       Volvo        S40                        1.6  2002   \n",
       "44724  308000       Volvo        S60              2.0 D Premium  2011   \n",
       "44726  542000       Volvo        V40         1.5 T3 Inscription  2018   \n",
       "44727  137000       Volvo        S40                        1.6  2004   \n",
       "\n",
       "         Yakıt Tipi     Vites Tipi  Motor Gücü  Motor Hacmi  Kilometre  \\\n",
       "0      LPG & Benzin            Düz         155         1970     400000   \n",
       "1            Benzin       Otomatik         170         1368      63000   \n",
       "5      LPG & Benzin            Düz         155         1970     289766   \n",
       "6      LPG & Benzin            Düz         120         1598     298000   \n",
       "8      LPG & Benzin            Düz         120         1598     175000   \n",
       "...             ...            ...         ...          ...        ...   \n",
       "44721         Dizel  Yarı Otomatik         115         1560     152000   \n",
       "44722  LPG & Benzin            Düz         109         1587     270000   \n",
       "44724         Dizel       Otomatik         163         1984     278000   \n",
       "44726        Benzin       Otomatik         152         1498      39000   \n",
       "44727  LPG & Benzin            Düz         109         1587     245000   \n",
       "\n",
       "               Boya-değişen  \n",
       "0                 12 boyalı  \n",
       "1             Belirtilmemiş  \n",
       "5                  6 boyalı  \n",
       "6      1 değişen, 12 boyalı  \n",
       "8             Belirtilmemiş  \n",
       "...                     ...  \n",
       "44721         Belirtilmemiş  \n",
       "44722         Belirtilmemiş  \n",
       "44724   1 değişen, 1 boyalı  \n",
       "44726              2 boyalı  \n",
       "44727             12 boyalı  \n",
       "\n",
       "[35742 rows x 11 columns]"
      ]
     },
     "execution_count": 98,
     "metadata": {},
     "output_type": "execute_result"
    }
   ],
   "source": [
    "data"
   ]
  },
  {
   "cell_type": "markdown",
   "metadata": {},
   "source": [
    "# Boya-Değişen Sütunu İşlemleri"
   ]
  },
  {
   "cell_type": "code",
   "execution_count": 103,
   "metadata": {
    "scrolled": true
   },
   "outputs": [
    {
     "ename": "KeyError",
     "evalue": "\"None of [Index(['Boya', 'Değişen'], dtype='object')] are in the [columns]\"",
     "output_type": "error",
     "traceback": [
      "\u001b[1;31m---------------------------------------------------------------------------\u001b[0m",
      "\u001b[1;31mKeyError\u001b[0m                                  Traceback (most recent call last)",
      "\u001b[1;32m<ipython-input-103-700900a31792>\u001b[0m in \u001b[0;36m<module>\u001b[1;34m\u001b[0m\n\u001b[1;32m----> 1\u001b[1;33m \u001b[0mdata\u001b[0m\u001b[1;33m[\u001b[0m\u001b[1;33m[\u001b[0m\u001b[1;34m\"Boya\"\u001b[0m\u001b[1;33m,\u001b[0m\u001b[1;34m\"Değişen\"\u001b[0m\u001b[1;33m]\u001b[0m\u001b[1;33m]\u001b[0m \u001b[1;33m=\u001b[0m \u001b[1;34m\"-\"\u001b[0m\u001b[1;33m\u001b[0m\u001b[1;33m\u001b[0m\u001b[0m\n\u001b[0m",
      "\u001b[1;32mE:\\anaconda3\\lib\\site-packages\\pandas\\core\\frame.py\u001b[0m in \u001b[0;36m__setitem__\u001b[1;34m(self, key, value)\u001b[0m\n\u001b[0;32m   2933\u001b[0m             \u001b[0mself\u001b[0m\u001b[1;33m.\u001b[0m\u001b[0m_setitem_frame\u001b[0m\u001b[1;33m(\u001b[0m\u001b[0mkey\u001b[0m\u001b[1;33m,\u001b[0m \u001b[0mvalue\u001b[0m\u001b[1;33m)\u001b[0m\u001b[1;33m\u001b[0m\u001b[1;33m\u001b[0m\u001b[0m\n\u001b[0;32m   2934\u001b[0m         \u001b[1;32melif\u001b[0m \u001b[0misinstance\u001b[0m\u001b[1;33m(\u001b[0m\u001b[0mkey\u001b[0m\u001b[1;33m,\u001b[0m \u001b[1;33m(\u001b[0m\u001b[0mSeries\u001b[0m\u001b[1;33m,\u001b[0m \u001b[0mnp\u001b[0m\u001b[1;33m.\u001b[0m\u001b[0mndarray\u001b[0m\u001b[1;33m,\u001b[0m \u001b[0mlist\u001b[0m\u001b[1;33m,\u001b[0m \u001b[0mIndex\u001b[0m\u001b[1;33m)\u001b[0m\u001b[1;33m)\u001b[0m\u001b[1;33m:\u001b[0m\u001b[1;33m\u001b[0m\u001b[1;33m\u001b[0m\u001b[0m\n\u001b[1;32m-> 2935\u001b[1;33m             \u001b[0mself\u001b[0m\u001b[1;33m.\u001b[0m\u001b[0m_setitem_array\u001b[0m\u001b[1;33m(\u001b[0m\u001b[0mkey\u001b[0m\u001b[1;33m,\u001b[0m \u001b[0mvalue\u001b[0m\u001b[1;33m)\u001b[0m\u001b[1;33m\u001b[0m\u001b[1;33m\u001b[0m\u001b[0m\n\u001b[0m\u001b[0;32m   2936\u001b[0m         \u001b[1;32melse\u001b[0m\u001b[1;33m:\u001b[0m\u001b[1;33m\u001b[0m\u001b[1;33m\u001b[0m\u001b[0m\n\u001b[0;32m   2937\u001b[0m             \u001b[1;31m# set column\u001b[0m\u001b[1;33m\u001b[0m\u001b[1;33m\u001b[0m\u001b[1;33m\u001b[0m\u001b[0m\n",
      "\u001b[1;32mE:\\anaconda3\\lib\\site-packages\\pandas\\core\\frame.py\u001b[0m in \u001b[0;36m_setitem_array\u001b[1;34m(self, key, value)\u001b[0m\n\u001b[0;32m   2963\u001b[0m                     \u001b[0mself\u001b[0m\u001b[1;33m[\u001b[0m\u001b[0mk1\u001b[0m\u001b[1;33m]\u001b[0m \u001b[1;33m=\u001b[0m \u001b[0mvalue\u001b[0m\u001b[1;33m[\u001b[0m\u001b[0mk2\u001b[0m\u001b[1;33m]\u001b[0m\u001b[1;33m\u001b[0m\u001b[1;33m\u001b[0m\u001b[0m\n\u001b[0;32m   2964\u001b[0m             \u001b[1;32melse\u001b[0m\u001b[1;33m:\u001b[0m\u001b[1;33m\u001b[0m\u001b[1;33m\u001b[0m\u001b[0m\n\u001b[1;32m-> 2965\u001b[1;33m                 indexer = self.loc._get_listlike_indexer(\n\u001b[0m\u001b[0;32m   2966\u001b[0m                     \u001b[0mkey\u001b[0m\u001b[1;33m,\u001b[0m \u001b[0maxis\u001b[0m\u001b[1;33m=\u001b[0m\u001b[1;36m1\u001b[0m\u001b[1;33m,\u001b[0m \u001b[0mraise_missing\u001b[0m\u001b[1;33m=\u001b[0m\u001b[1;32mFalse\u001b[0m\u001b[1;33m\u001b[0m\u001b[1;33m\u001b[0m\u001b[0m\n\u001b[0;32m   2967\u001b[0m                 )[1]\n",
      "\u001b[1;32mE:\\anaconda3\\lib\\site-packages\\pandas\\core\\indexing.py\u001b[0m in \u001b[0;36m_get_listlike_indexer\u001b[1;34m(self, key, axis, raise_missing)\u001b[0m\n\u001b[0;32m   1550\u001b[0m             \u001b[0mkeyarr\u001b[0m\u001b[1;33m,\u001b[0m \u001b[0mindexer\u001b[0m\u001b[1;33m,\u001b[0m \u001b[0mnew_indexer\u001b[0m \u001b[1;33m=\u001b[0m \u001b[0max\u001b[0m\u001b[1;33m.\u001b[0m\u001b[0m_reindex_non_unique\u001b[0m\u001b[1;33m(\u001b[0m\u001b[0mkeyarr\u001b[0m\u001b[1;33m)\u001b[0m\u001b[1;33m\u001b[0m\u001b[1;33m\u001b[0m\u001b[0m\n\u001b[0;32m   1551\u001b[0m \u001b[1;33m\u001b[0m\u001b[0m\n\u001b[1;32m-> 1552\u001b[1;33m         self._validate_read_indexer(\n\u001b[0m\u001b[0;32m   1553\u001b[0m             \u001b[0mkeyarr\u001b[0m\u001b[1;33m,\u001b[0m \u001b[0mindexer\u001b[0m\u001b[1;33m,\u001b[0m \u001b[0mo\u001b[0m\u001b[1;33m.\u001b[0m\u001b[0m_get_axis_number\u001b[0m\u001b[1;33m(\u001b[0m\u001b[0maxis\u001b[0m\u001b[1;33m)\u001b[0m\u001b[1;33m,\u001b[0m \u001b[0mraise_missing\u001b[0m\u001b[1;33m=\u001b[0m\u001b[0mraise_missing\u001b[0m\u001b[1;33m\u001b[0m\u001b[1;33m\u001b[0m\u001b[0m\n\u001b[0;32m   1554\u001b[0m         )\n",
      "\u001b[1;32mE:\\anaconda3\\lib\\site-packages\\pandas\\core\\indexing.py\u001b[0m in \u001b[0;36m_validate_read_indexer\u001b[1;34m(self, key, indexer, axis, raise_missing)\u001b[0m\n\u001b[0;32m   1638\u001b[0m             \u001b[1;32mif\u001b[0m \u001b[0mmissing\u001b[0m \u001b[1;33m==\u001b[0m \u001b[0mlen\u001b[0m\u001b[1;33m(\u001b[0m\u001b[0mindexer\u001b[0m\u001b[1;33m)\u001b[0m\u001b[1;33m:\u001b[0m\u001b[1;33m\u001b[0m\u001b[1;33m\u001b[0m\u001b[0m\n\u001b[0;32m   1639\u001b[0m                 \u001b[0maxis_name\u001b[0m \u001b[1;33m=\u001b[0m \u001b[0mself\u001b[0m\u001b[1;33m.\u001b[0m\u001b[0mobj\u001b[0m\u001b[1;33m.\u001b[0m\u001b[0m_get_axis_name\u001b[0m\u001b[1;33m(\u001b[0m\u001b[0maxis\u001b[0m\u001b[1;33m)\u001b[0m\u001b[1;33m\u001b[0m\u001b[1;33m\u001b[0m\u001b[0m\n\u001b[1;32m-> 1640\u001b[1;33m                 \u001b[1;32mraise\u001b[0m \u001b[0mKeyError\u001b[0m\u001b[1;33m(\u001b[0m\u001b[1;34mf\"None of [{key}] are in the [{axis_name}]\"\u001b[0m\u001b[1;33m)\u001b[0m\u001b[1;33m\u001b[0m\u001b[1;33m\u001b[0m\u001b[0m\n\u001b[0m\u001b[0;32m   1641\u001b[0m \u001b[1;33m\u001b[0m\u001b[0m\n\u001b[0;32m   1642\u001b[0m             \u001b[1;31m# We (temporarily) allow for some missing keys with .loc, except in\u001b[0m\u001b[1;33m\u001b[0m\u001b[1;33m\u001b[0m\u001b[1;33m\u001b[0m\u001b[0m\n",
      "\u001b[1;31mKeyError\u001b[0m: \"None of [Index(['Boya', 'Değişen'], dtype='object')] are in the [columns]\""
     ]
    }
   ],
   "source": [
    "data[[\"Boya\",\"Değişen\"]] = \"-\""
   ]
  },
  {
   "cell_type": "code",
   "execution_count": 104,
   "metadata": {},
   "outputs": [
    {
     "data": {
      "text/plain": [
       "array(['12 boyalı', 'Belirtilmemiş', '6 boyalı', '1 değişen, 12 boyalı',\n",
       "       '9 boyalı', 'Tamamı boya', '2 değişen, 10 boyalı', '6 değişen',\n",
       "       '2 değişen, 3 boyalı', '4 değişen, 5 boyalı', '5 boyalı',\n",
       "       '2 değişen', 'Tamamı orjinal', '2 değişen, 4 boyalı', '1 boyalı',\n",
       "       '1 değişen, 3 boyalı', '1 değişen, 2 boyalı', '3 boyalı',\n",
       "       '1 değişen, 11 boyalı', '1 değişen, 10 boyalı', '2 boyalı',\n",
       "       '1 değişen', '1 değişen, 5 boyalı', '1 değişen, 6 boyalı',\n",
       "       '2 değişen, 7 boyalı', '2 değişen, 11 boyalı', '4 boyalı',\n",
       "       '1 değişen, 7 boyalı', '2 değişen, 8 boyalı', '8 boyalı',\n",
       "       '3 değişen, 6 boyalı', '1 değişen, 9 boyalı',\n",
       "       '1 değişen, 4 boyalı', '4 değişen, 9 boyalı',\n",
       "       '1 değişen, 8 boyalı', '4 değişen, 8 boyalı', '7 boyalı',\n",
       "       '2 değişen, 2 boyalı', '3 değişen, 10 boyalı',\n",
       "       '1 değişen, 1 boyalı', '4 değişen, 1 boyalı', '3 değişen',\n",
       "       '2 değişen, 6 boyalı', '11 boyalı', '2 değişen, 5 boyalı',\n",
       "       '4 değişen', '3 değişen, 3 boyalı', '2 değişen, 1 boyalı',\n",
       "       '10 boyalı', '5 değişen, 1 boyalı', '4 değişen, 2 boyalı',\n",
       "       '3 değişen, 1 boyalı', '3 değişen, 7 boyalı',\n",
       "       '5 değişen, 4 boyalı', '3 değişen, 4 boyalı',\n",
       "       '4 değişen, 6 boyalı', '3 değişen, 2 boyalı',\n",
       "       '4 değişen, 4 boyalı', '4 değişen, 3 boyalı',\n",
       "       '2 değişen, 9 boyalı', '4 değişen, 7 boyalı',\n",
       "       '3 değişen, 8 boyalı', '3 değişen, 9 boyalı',\n",
       "       '3 değişen, 5 boyalı', '6 değişen, 5 boyalı', '5 değişen',\n",
       "       '7 değişen, 3 boyalı', '5 değişen, 7 boyalı',\n",
       "       '5 değişen, 3 boyalı', '6 değişen, 6 boyalı',\n",
       "       '6 değişen, 7 boyalı', '6 değişen, 4 boyalı',\n",
       "       '5 değişen, 6 boyalı', '6 değişen, 3 boyalı',\n",
       "       '5 değişen, 8 boyalı', '5 değişen, 5 boyalı',\n",
       "       '9 değişen, 4 boyalı', '7 değişen, 2 boyalı',\n",
       "       '8 değişen, 4 boyalı', '10 değişen', '5 değişen, 2 boyalı',\n",
       "       '22 boyalı', '6 değişen, 1 boyalı'], dtype=object)"
      ]
     },
     "execution_count": 104,
     "metadata": {},
     "output_type": "execute_result"
    }
   ],
   "source": [
    "data.loc[data[\"Boya-değişen\"] == \"Tamamı boyalı\",\"Boya-değişen\"] = \"Tamamı boya\"\n",
    "data[\"Boya-değişen\"].unique()"
   ]
  },
  {
   "cell_type": "code",
   "execution_count": 105,
   "metadata": {},
   "outputs": [
    {
     "data": {
      "text/html": [
       "<div>\n",
       "<style scoped>\n",
       "    .dataframe tbody tr th:only-of-type {\n",
       "        vertical-align: middle;\n",
       "    }\n",
       "\n",
       "    .dataframe tbody tr th {\n",
       "        vertical-align: top;\n",
       "    }\n",
       "\n",
       "    .dataframe thead th {\n",
       "        text-align: right;\n",
       "    }\n",
       "</style>\n",
       "<table border=\"1\" class=\"dataframe\">\n",
       "  <thead>\n",
       "    <tr style=\"text-align: right;\">\n",
       "      <th></th>\n",
       "      <th>Fiyat</th>\n",
       "      <th>Marka</th>\n",
       "      <th>Seri</th>\n",
       "      <th>Model</th>\n",
       "      <th>Yıl</th>\n",
       "      <th>Yakıt Tipi</th>\n",
       "      <th>Vites Tipi</th>\n",
       "      <th>Motor Gücü</th>\n",
       "      <th>Motor Hacmi</th>\n",
       "      <th>Kilometre</th>\n",
       "      <th>Boya-değişen</th>\n",
       "    </tr>\n",
       "  </thead>\n",
       "  <tbody>\n",
       "    <tr>\n",
       "      <th>0</th>\n",
       "      <td>68000</td>\n",
       "      <td>Alfa Romeo</td>\n",
       "      <td>156</td>\n",
       "      <td>2.0 TS</td>\n",
       "      <td>1998</td>\n",
       "      <td>LPG &amp; Benzin</td>\n",
       "      <td>Düz</td>\n",
       "      <td>155</td>\n",
       "      <td>1970</td>\n",
       "      <td>400000</td>\n",
       "      <td>12 boyalı</td>\n",
       "    </tr>\n",
       "    <tr>\n",
       "      <th>1</th>\n",
       "      <td>423000</td>\n",
       "      <td>Alfa Romeo</td>\n",
       "      <td>Giulietta</td>\n",
       "      <td>1.4 TB MultiAir Super TCT</td>\n",
       "      <td>2017</td>\n",
       "      <td>Benzin</td>\n",
       "      <td>Otomatik</td>\n",
       "      <td>170</td>\n",
       "      <td>1368</td>\n",
       "      <td>63000</td>\n",
       "      <td>Belirtilmemiş</td>\n",
       "    </tr>\n",
       "    <tr>\n",
       "      <th>5</th>\n",
       "      <td>72500</td>\n",
       "      <td>Alfa Romeo</td>\n",
       "      <td>156</td>\n",
       "      <td>2.0 TS</td>\n",
       "      <td>1998</td>\n",
       "      <td>LPG &amp; Benzin</td>\n",
       "      <td>Düz</td>\n",
       "      <td>155</td>\n",
       "      <td>1970</td>\n",
       "      <td>289766</td>\n",
       "      <td>6 boyalı</td>\n",
       "    </tr>\n",
       "    <tr>\n",
       "      <th>6</th>\n",
       "      <td>89000</td>\n",
       "      <td>Alfa Romeo</td>\n",
       "      <td>156</td>\n",
       "      <td>1.6 TS Progression</td>\n",
       "      <td>2004</td>\n",
       "      <td>LPG &amp; Benzin</td>\n",
       "      <td>Düz</td>\n",
       "      <td>120</td>\n",
       "      <td>1598</td>\n",
       "      <td>298000</td>\n",
       "      <td>1 değişen, 12 boyalı</td>\n",
       "    </tr>\n",
       "    <tr>\n",
       "      <th>8</th>\n",
       "      <td>160000</td>\n",
       "      <td>Alfa Romeo</td>\n",
       "      <td>156</td>\n",
       "      <td>1.6 TS Distinctive</td>\n",
       "      <td>2005</td>\n",
       "      <td>LPG &amp; Benzin</td>\n",
       "      <td>Düz</td>\n",
       "      <td>120</td>\n",
       "      <td>1598</td>\n",
       "      <td>175000</td>\n",
       "      <td>Belirtilmemiş</td>\n",
       "    </tr>\n",
       "    <tr>\n",
       "      <th>...</th>\n",
       "      <td>...</td>\n",
       "      <td>...</td>\n",
       "      <td>...</td>\n",
       "      <td>...</td>\n",
       "      <td>...</td>\n",
       "      <td>...</td>\n",
       "      <td>...</td>\n",
       "      <td>...</td>\n",
       "      <td>...</td>\n",
       "      <td>...</td>\n",
       "      <td>...</td>\n",
       "    </tr>\n",
       "    <tr>\n",
       "      <th>44721</th>\n",
       "      <td>377500</td>\n",
       "      <td>Volvo</td>\n",
       "      <td>S60</td>\n",
       "      <td>1.6 D Advance</td>\n",
       "      <td>2015</td>\n",
       "      <td>Dizel</td>\n",
       "      <td>Yarı Otomatik</td>\n",
       "      <td>115</td>\n",
       "      <td>1560</td>\n",
       "      <td>152000</td>\n",
       "      <td>Belirtilmemiş</td>\n",
       "    </tr>\n",
       "    <tr>\n",
       "      <th>44722</th>\n",
       "      <td>97000</td>\n",
       "      <td>Volvo</td>\n",
       "      <td>S40</td>\n",
       "      <td>1.6</td>\n",
       "      <td>2002</td>\n",
       "      <td>LPG &amp; Benzin</td>\n",
       "      <td>Düz</td>\n",
       "      <td>109</td>\n",
       "      <td>1587</td>\n",
       "      <td>270000</td>\n",
       "      <td>Belirtilmemiş</td>\n",
       "    </tr>\n",
       "    <tr>\n",
       "      <th>44724</th>\n",
       "      <td>308000</td>\n",
       "      <td>Volvo</td>\n",
       "      <td>S60</td>\n",
       "      <td>2.0 D Premium</td>\n",
       "      <td>2011</td>\n",
       "      <td>Dizel</td>\n",
       "      <td>Otomatik</td>\n",
       "      <td>163</td>\n",
       "      <td>1984</td>\n",
       "      <td>278000</td>\n",
       "      <td>1 değişen, 1 boyalı</td>\n",
       "    </tr>\n",
       "    <tr>\n",
       "      <th>44726</th>\n",
       "      <td>542000</td>\n",
       "      <td>Volvo</td>\n",
       "      <td>V40</td>\n",
       "      <td>1.5 T3 Inscription</td>\n",
       "      <td>2018</td>\n",
       "      <td>Benzin</td>\n",
       "      <td>Otomatik</td>\n",
       "      <td>152</td>\n",
       "      <td>1498</td>\n",
       "      <td>39000</td>\n",
       "      <td>2 boyalı</td>\n",
       "    </tr>\n",
       "    <tr>\n",
       "      <th>44727</th>\n",
       "      <td>137000</td>\n",
       "      <td>Volvo</td>\n",
       "      <td>S40</td>\n",
       "      <td>1.6</td>\n",
       "      <td>2004</td>\n",
       "      <td>LPG &amp; Benzin</td>\n",
       "      <td>Düz</td>\n",
       "      <td>109</td>\n",
       "      <td>1587</td>\n",
       "      <td>245000</td>\n",
       "      <td>12 boyalı</td>\n",
       "    </tr>\n",
       "  </tbody>\n",
       "</table>\n",
       "<p>35742 rows × 11 columns</p>\n",
       "</div>"
      ],
      "text/plain": [
       "        Fiyat       Marka       Seri                      Model   Yıl  \\\n",
       "0       68000  Alfa Romeo        156                     2.0 TS  1998   \n",
       "1      423000  Alfa Romeo  Giulietta  1.4 TB MultiAir Super TCT  2017   \n",
       "5       72500  Alfa Romeo        156                     2.0 TS  1998   \n",
       "6       89000  Alfa Romeo        156         1.6 TS Progression  2004   \n",
       "8      160000  Alfa Romeo        156         1.6 TS Distinctive  2005   \n",
       "...       ...         ...        ...                        ...   ...   \n",
       "44721  377500       Volvo        S60              1.6 D Advance  2015   \n",
       "44722   97000       Volvo        S40                        1.6  2002   \n",
       "44724  308000       Volvo        S60              2.0 D Premium  2011   \n",
       "44726  542000       Volvo        V40         1.5 T3 Inscription  2018   \n",
       "44727  137000       Volvo        S40                        1.6  2004   \n",
       "\n",
       "         Yakıt Tipi     Vites Tipi  Motor Gücü  Motor Hacmi  Kilometre  \\\n",
       "0      LPG & Benzin            Düz         155         1970     400000   \n",
       "1            Benzin       Otomatik         170         1368      63000   \n",
       "5      LPG & Benzin            Düz         155         1970     289766   \n",
       "6      LPG & Benzin            Düz         120         1598     298000   \n",
       "8      LPG & Benzin            Düz         120         1598     175000   \n",
       "...             ...            ...         ...          ...        ...   \n",
       "44721         Dizel  Yarı Otomatik         115         1560     152000   \n",
       "44722  LPG & Benzin            Düz         109         1587     270000   \n",
       "44724         Dizel       Otomatik         163         1984     278000   \n",
       "44726        Benzin       Otomatik         152         1498      39000   \n",
       "44727  LPG & Benzin            Düz         109         1587     245000   \n",
       "\n",
       "               Boya-değişen  \n",
       "0                 12 boyalı  \n",
       "1             Belirtilmemiş  \n",
       "5                  6 boyalı  \n",
       "6      1 değişen, 12 boyalı  \n",
       "8             Belirtilmemiş  \n",
       "...                     ...  \n",
       "44721         Belirtilmemiş  \n",
       "44722         Belirtilmemiş  \n",
       "44724   1 değişen, 1 boyalı  \n",
       "44726              2 boyalı  \n",
       "44727             12 boyalı  \n",
       "\n",
       "[35742 rows x 11 columns]"
      ]
     },
     "execution_count": 105,
     "metadata": {},
     "output_type": "execute_result"
    }
   ],
   "source": [
    "data"
   ]
  },
  {
   "cell_type": "code",
   "execution_count": 106,
   "metadata": {},
   "outputs": [],
   "source": [
    "data.loc[data[\"Boya-değişen\"].str.contains(\",\"),\"Boya-değişen\"] = data[\"Boya-değişen\"].str.replace(\" değişen\",\"-\").str.replace(\" boyalı\",\"\")"
   ]
  },
  {
   "cell_type": "code",
   "execution_count": 107,
   "metadata": {},
   "outputs": [],
   "source": [
    "data.loc[data[\"Boya-değişen\"].str.contains(\",\"),\"Boya-değişen\"] = data[\"Boya-değişen\"].str.replace(\", \",\"\")"
   ]
  },
  {
   "cell_type": "code",
   "execution_count": 108,
   "metadata": {},
   "outputs": [
    {
     "data": {
      "text/html": [
       "<div>\n",
       "<style scoped>\n",
       "    .dataframe tbody tr th:only-of-type {\n",
       "        vertical-align: middle;\n",
       "    }\n",
       "\n",
       "    .dataframe tbody tr th {\n",
       "        vertical-align: top;\n",
       "    }\n",
       "\n",
       "    .dataframe thead th {\n",
       "        text-align: right;\n",
       "    }\n",
       "</style>\n",
       "<table border=\"1\" class=\"dataframe\">\n",
       "  <thead>\n",
       "    <tr style=\"text-align: right;\">\n",
       "      <th></th>\n",
       "      <th>Fiyat</th>\n",
       "      <th>Marka</th>\n",
       "      <th>Seri</th>\n",
       "      <th>Model</th>\n",
       "      <th>Yıl</th>\n",
       "      <th>Yakıt Tipi</th>\n",
       "      <th>Vites Tipi</th>\n",
       "      <th>Motor Gücü</th>\n",
       "      <th>Motor Hacmi</th>\n",
       "      <th>Kilometre</th>\n",
       "      <th>Boya-değişen</th>\n",
       "    </tr>\n",
       "  </thead>\n",
       "  <tbody>\n",
       "    <tr>\n",
       "      <th>0</th>\n",
       "      <td>68000</td>\n",
       "      <td>Alfa Romeo</td>\n",
       "      <td>156</td>\n",
       "      <td>2.0 TS</td>\n",
       "      <td>1998</td>\n",
       "      <td>LPG &amp; Benzin</td>\n",
       "      <td>Düz</td>\n",
       "      <td>155</td>\n",
       "      <td>1970</td>\n",
       "      <td>400000</td>\n",
       "      <td>12 boyalı</td>\n",
       "    </tr>\n",
       "    <tr>\n",
       "      <th>1</th>\n",
       "      <td>423000</td>\n",
       "      <td>Alfa Romeo</td>\n",
       "      <td>Giulietta</td>\n",
       "      <td>1.4 TB MultiAir Super TCT</td>\n",
       "      <td>2017</td>\n",
       "      <td>Benzin</td>\n",
       "      <td>Otomatik</td>\n",
       "      <td>170</td>\n",
       "      <td>1368</td>\n",
       "      <td>63000</td>\n",
       "      <td>Belirtilmemiş</td>\n",
       "    </tr>\n",
       "    <tr>\n",
       "      <th>5</th>\n",
       "      <td>72500</td>\n",
       "      <td>Alfa Romeo</td>\n",
       "      <td>156</td>\n",
       "      <td>2.0 TS</td>\n",
       "      <td>1998</td>\n",
       "      <td>LPG &amp; Benzin</td>\n",
       "      <td>Düz</td>\n",
       "      <td>155</td>\n",
       "      <td>1970</td>\n",
       "      <td>289766</td>\n",
       "      <td>6 boyalı</td>\n",
       "    </tr>\n",
       "    <tr>\n",
       "      <th>6</th>\n",
       "      <td>89000</td>\n",
       "      <td>Alfa Romeo</td>\n",
       "      <td>156</td>\n",
       "      <td>1.6 TS Progression</td>\n",
       "      <td>2004</td>\n",
       "      <td>LPG &amp; Benzin</td>\n",
       "      <td>Düz</td>\n",
       "      <td>120</td>\n",
       "      <td>1598</td>\n",
       "      <td>298000</td>\n",
       "      <td>1-12</td>\n",
       "    </tr>\n",
       "    <tr>\n",
       "      <th>8</th>\n",
       "      <td>160000</td>\n",
       "      <td>Alfa Romeo</td>\n",
       "      <td>156</td>\n",
       "      <td>1.6 TS Distinctive</td>\n",
       "      <td>2005</td>\n",
       "      <td>LPG &amp; Benzin</td>\n",
       "      <td>Düz</td>\n",
       "      <td>120</td>\n",
       "      <td>1598</td>\n",
       "      <td>175000</td>\n",
       "      <td>Belirtilmemiş</td>\n",
       "    </tr>\n",
       "    <tr>\n",
       "      <th>...</th>\n",
       "      <td>...</td>\n",
       "      <td>...</td>\n",
       "      <td>...</td>\n",
       "      <td>...</td>\n",
       "      <td>...</td>\n",
       "      <td>...</td>\n",
       "      <td>...</td>\n",
       "      <td>...</td>\n",
       "      <td>...</td>\n",
       "      <td>...</td>\n",
       "      <td>...</td>\n",
       "    </tr>\n",
       "    <tr>\n",
       "      <th>44721</th>\n",
       "      <td>377500</td>\n",
       "      <td>Volvo</td>\n",
       "      <td>S60</td>\n",
       "      <td>1.6 D Advance</td>\n",
       "      <td>2015</td>\n",
       "      <td>Dizel</td>\n",
       "      <td>Yarı Otomatik</td>\n",
       "      <td>115</td>\n",
       "      <td>1560</td>\n",
       "      <td>152000</td>\n",
       "      <td>Belirtilmemiş</td>\n",
       "    </tr>\n",
       "    <tr>\n",
       "      <th>44722</th>\n",
       "      <td>97000</td>\n",
       "      <td>Volvo</td>\n",
       "      <td>S40</td>\n",
       "      <td>1.6</td>\n",
       "      <td>2002</td>\n",
       "      <td>LPG &amp; Benzin</td>\n",
       "      <td>Düz</td>\n",
       "      <td>109</td>\n",
       "      <td>1587</td>\n",
       "      <td>270000</td>\n",
       "      <td>Belirtilmemiş</td>\n",
       "    </tr>\n",
       "    <tr>\n",
       "      <th>44724</th>\n",
       "      <td>308000</td>\n",
       "      <td>Volvo</td>\n",
       "      <td>S60</td>\n",
       "      <td>2.0 D Premium</td>\n",
       "      <td>2011</td>\n",
       "      <td>Dizel</td>\n",
       "      <td>Otomatik</td>\n",
       "      <td>163</td>\n",
       "      <td>1984</td>\n",
       "      <td>278000</td>\n",
       "      <td>1-1</td>\n",
       "    </tr>\n",
       "    <tr>\n",
       "      <th>44726</th>\n",
       "      <td>542000</td>\n",
       "      <td>Volvo</td>\n",
       "      <td>V40</td>\n",
       "      <td>1.5 T3 Inscription</td>\n",
       "      <td>2018</td>\n",
       "      <td>Benzin</td>\n",
       "      <td>Otomatik</td>\n",
       "      <td>152</td>\n",
       "      <td>1498</td>\n",
       "      <td>39000</td>\n",
       "      <td>2 boyalı</td>\n",
       "    </tr>\n",
       "    <tr>\n",
       "      <th>44727</th>\n",
       "      <td>137000</td>\n",
       "      <td>Volvo</td>\n",
       "      <td>S40</td>\n",
       "      <td>1.6</td>\n",
       "      <td>2004</td>\n",
       "      <td>LPG &amp; Benzin</td>\n",
       "      <td>Düz</td>\n",
       "      <td>109</td>\n",
       "      <td>1587</td>\n",
       "      <td>245000</td>\n",
       "      <td>12 boyalı</td>\n",
       "    </tr>\n",
       "  </tbody>\n",
       "</table>\n",
       "<p>35742 rows × 11 columns</p>\n",
       "</div>"
      ],
      "text/plain": [
       "        Fiyat       Marka       Seri                      Model   Yıl  \\\n",
       "0       68000  Alfa Romeo        156                     2.0 TS  1998   \n",
       "1      423000  Alfa Romeo  Giulietta  1.4 TB MultiAir Super TCT  2017   \n",
       "5       72500  Alfa Romeo        156                     2.0 TS  1998   \n",
       "6       89000  Alfa Romeo        156         1.6 TS Progression  2004   \n",
       "8      160000  Alfa Romeo        156         1.6 TS Distinctive  2005   \n",
       "...       ...         ...        ...                        ...   ...   \n",
       "44721  377500       Volvo        S60              1.6 D Advance  2015   \n",
       "44722   97000       Volvo        S40                        1.6  2002   \n",
       "44724  308000       Volvo        S60              2.0 D Premium  2011   \n",
       "44726  542000       Volvo        V40         1.5 T3 Inscription  2018   \n",
       "44727  137000       Volvo        S40                        1.6  2004   \n",
       "\n",
       "         Yakıt Tipi     Vites Tipi  Motor Gücü  Motor Hacmi  Kilometre  \\\n",
       "0      LPG & Benzin            Düz         155         1970     400000   \n",
       "1            Benzin       Otomatik         170         1368      63000   \n",
       "5      LPG & Benzin            Düz         155         1970     289766   \n",
       "6      LPG & Benzin            Düz         120         1598     298000   \n",
       "8      LPG & Benzin            Düz         120         1598     175000   \n",
       "...             ...            ...         ...          ...        ...   \n",
       "44721         Dizel  Yarı Otomatik         115         1560     152000   \n",
       "44722  LPG & Benzin            Düz         109         1587     270000   \n",
       "44724         Dizel       Otomatik         163         1984     278000   \n",
       "44726        Benzin       Otomatik         152         1498      39000   \n",
       "44727  LPG & Benzin            Düz         109         1587     245000   \n",
       "\n",
       "        Boya-değişen  \n",
       "0          12 boyalı  \n",
       "1      Belirtilmemiş  \n",
       "5           6 boyalı  \n",
       "6               1-12  \n",
       "8      Belirtilmemiş  \n",
       "...              ...  \n",
       "44721  Belirtilmemiş  \n",
       "44722  Belirtilmemiş  \n",
       "44724            1-1  \n",
       "44726       2 boyalı  \n",
       "44727      12 boyalı  \n",
       "\n",
       "[35742 rows x 11 columns]"
      ]
     },
     "execution_count": 108,
     "metadata": {},
     "output_type": "execute_result"
    }
   ],
   "source": [
    "data"
   ]
  },
  {
   "cell_type": "code",
   "execution_count": 109,
   "metadata": {},
   "outputs": [
    {
     "ename": "KeyError",
     "evalue": "\"None of [Index(['Boya', 'Değişen'], dtype='object')] are in the [columns]\"",
     "output_type": "error",
     "traceback": [
      "\u001b[1;31m---------------------------------------------------------------------------\u001b[0m",
      "\u001b[1;31mKeyError\u001b[0m                                  Traceback (most recent call last)",
      "\u001b[1;32m<ipython-input-109-3579abee4a97>\u001b[0m in \u001b[0;36m<module>\u001b[1;34m\u001b[0m\n\u001b[1;32m----> 1\u001b[1;33m \u001b[0mdata\u001b[0m\u001b[1;33m.\u001b[0m\u001b[0mloc\u001b[0m\u001b[1;33m[\u001b[0m\u001b[0mdata\u001b[0m\u001b[1;33m[\u001b[0m\u001b[1;34m\"Boya-değişen\"\u001b[0m\u001b[1;33m]\u001b[0m \u001b[1;33m==\u001b[0m \u001b[1;34m\"Tamamı boya\"\u001b[0m\u001b[1;33m,\u001b[0m\u001b[1;33m[\u001b[0m\u001b[1;34m\"Boya\"\u001b[0m\u001b[1;33m,\u001b[0m\u001b[1;34m\"Değişen\"\u001b[0m\u001b[1;33m]\u001b[0m\u001b[1;33m]\u001b[0m \u001b[1;33m=\u001b[0m \u001b[1;33m[\u001b[0m\u001b[1;36m13\u001b[0m\u001b[1;33m,\u001b[0m\u001b[1;36m0\u001b[0m\u001b[1;33m]\u001b[0m\u001b[1;33m\u001b[0m\u001b[1;33m\u001b[0m\u001b[0m\n\u001b[0m\u001b[0;32m      2\u001b[0m \u001b[0mdata\u001b[0m\u001b[1;33m.\u001b[0m\u001b[0mloc\u001b[0m\u001b[1;33m[\u001b[0m\u001b[0mdata\u001b[0m\u001b[1;33m[\u001b[0m\u001b[1;34m\"Boya-değişen\"\u001b[0m\u001b[1;33m]\u001b[0m \u001b[1;33m==\u001b[0m \u001b[1;34m\"Tamamı değişmiş\"\u001b[0m\u001b[1;33m,\u001b[0m\u001b[1;33m[\u001b[0m\u001b[1;34m\"Boya\"\u001b[0m\u001b[1;33m,\u001b[0m\u001b[1;34m\"Değişen\"\u001b[0m\u001b[1;33m]\u001b[0m\u001b[1;33m]\u001b[0m \u001b[1;33m=\u001b[0m \u001b[1;33m[\u001b[0m\u001b[1;36m0\u001b[0m\u001b[1;33m,\u001b[0m\u001b[1;36m13\u001b[0m\u001b[1;33m]\u001b[0m\u001b[1;33m\u001b[0m\u001b[1;33m\u001b[0m\u001b[0m\n",
      "\u001b[1;32mE:\\anaconda3\\lib\\site-packages\\pandas\\core\\indexing.py\u001b[0m in \u001b[0;36m__setitem__\u001b[1;34m(self, key, value)\u001b[0m\n\u001b[0;32m    668\u001b[0m         \u001b[1;32melse\u001b[0m\u001b[1;33m:\u001b[0m\u001b[1;33m\u001b[0m\u001b[1;33m\u001b[0m\u001b[0m\n\u001b[0;32m    669\u001b[0m             \u001b[0mkey\u001b[0m \u001b[1;33m=\u001b[0m \u001b[0mcom\u001b[0m\u001b[1;33m.\u001b[0m\u001b[0mapply_if_callable\u001b[0m\u001b[1;33m(\u001b[0m\u001b[0mkey\u001b[0m\u001b[1;33m,\u001b[0m \u001b[0mself\u001b[0m\u001b[1;33m.\u001b[0m\u001b[0mobj\u001b[0m\u001b[1;33m)\u001b[0m\u001b[1;33m\u001b[0m\u001b[1;33m\u001b[0m\u001b[0m\n\u001b[1;32m--> 670\u001b[1;33m         \u001b[0mindexer\u001b[0m \u001b[1;33m=\u001b[0m \u001b[0mself\u001b[0m\u001b[1;33m.\u001b[0m\u001b[0m_get_setitem_indexer\u001b[0m\u001b[1;33m(\u001b[0m\u001b[0mkey\u001b[0m\u001b[1;33m)\u001b[0m\u001b[1;33m\u001b[0m\u001b[1;33m\u001b[0m\u001b[0m\n\u001b[0m\u001b[0;32m    671\u001b[0m         \u001b[0mself\u001b[0m\u001b[1;33m.\u001b[0m\u001b[0m_setitem_with_indexer\u001b[0m\u001b[1;33m(\u001b[0m\u001b[0mindexer\u001b[0m\u001b[1;33m,\u001b[0m \u001b[0mvalue\u001b[0m\u001b[1;33m)\u001b[0m\u001b[1;33m\u001b[0m\u001b[1;33m\u001b[0m\u001b[0m\n\u001b[0;32m    672\u001b[0m \u001b[1;33m\u001b[0m\u001b[0m\n",
      "\u001b[1;32mE:\\anaconda3\\lib\\site-packages\\pandas\\core\\indexing.py\u001b[0m in \u001b[0;36m_get_setitem_indexer\u001b[1;34m(self, key)\u001b[0m\n\u001b[0;32m    646\u001b[0m         \u001b[1;32mif\u001b[0m \u001b[0misinstance\u001b[0m\u001b[1;33m(\u001b[0m\u001b[0mkey\u001b[0m\u001b[1;33m,\u001b[0m \u001b[0mtuple\u001b[0m\u001b[1;33m)\u001b[0m\u001b[1;33m:\u001b[0m\u001b[1;33m\u001b[0m\u001b[1;33m\u001b[0m\u001b[0m\n\u001b[0;32m    647\u001b[0m             \u001b[1;32mtry\u001b[0m\u001b[1;33m:\u001b[0m\u001b[1;33m\u001b[0m\u001b[1;33m\u001b[0m\u001b[0m\n\u001b[1;32m--> 648\u001b[1;33m                 \u001b[1;32mreturn\u001b[0m \u001b[0mself\u001b[0m\u001b[1;33m.\u001b[0m\u001b[0m_convert_tuple\u001b[0m\u001b[1;33m(\u001b[0m\u001b[0mkey\u001b[0m\u001b[1;33m)\u001b[0m\u001b[1;33m\u001b[0m\u001b[1;33m\u001b[0m\u001b[0m\n\u001b[0m\u001b[0;32m    649\u001b[0m             \u001b[1;32mexcept\u001b[0m \u001b[0mIndexingError\u001b[0m\u001b[1;33m:\u001b[0m\u001b[1;33m\u001b[0m\u001b[1;33m\u001b[0m\u001b[0m\n\u001b[0;32m    650\u001b[0m                 \u001b[1;32mpass\u001b[0m\u001b[1;33m\u001b[0m\u001b[1;33m\u001b[0m\u001b[0m\n",
      "\u001b[1;32mE:\\anaconda3\\lib\\site-packages\\pandas\\core\\indexing.py\u001b[0m in \u001b[0;36m_convert_tuple\u001b[1;34m(self, key)\u001b[0m\n\u001b[0;32m    731\u001b[0m                 \u001b[1;32mif\u001b[0m \u001b[0mi\u001b[0m \u001b[1;33m>=\u001b[0m \u001b[0mself\u001b[0m\u001b[1;33m.\u001b[0m\u001b[0mndim\u001b[0m\u001b[1;33m:\u001b[0m\u001b[1;33m\u001b[0m\u001b[1;33m\u001b[0m\u001b[0m\n\u001b[0;32m    732\u001b[0m                     \u001b[1;32mraise\u001b[0m \u001b[0mIndexingError\u001b[0m\u001b[1;33m(\u001b[0m\u001b[1;34m\"Too many indexers\"\u001b[0m\u001b[1;33m)\u001b[0m\u001b[1;33m\u001b[0m\u001b[1;33m\u001b[0m\u001b[0m\n\u001b[1;32m--> 733\u001b[1;33m                 \u001b[0midx\u001b[0m \u001b[1;33m=\u001b[0m \u001b[0mself\u001b[0m\u001b[1;33m.\u001b[0m\u001b[0m_convert_to_indexer\u001b[0m\u001b[1;33m(\u001b[0m\u001b[0mk\u001b[0m\u001b[1;33m,\u001b[0m \u001b[0maxis\u001b[0m\u001b[1;33m=\u001b[0m\u001b[0mi\u001b[0m\u001b[1;33m)\u001b[0m\u001b[1;33m\u001b[0m\u001b[1;33m\u001b[0m\u001b[0m\n\u001b[0m\u001b[0;32m    734\u001b[0m                 \u001b[0mkeyidx\u001b[0m\u001b[1;33m.\u001b[0m\u001b[0mappend\u001b[0m\u001b[1;33m(\u001b[0m\u001b[0midx\u001b[0m\u001b[1;33m)\u001b[0m\u001b[1;33m\u001b[0m\u001b[1;33m\u001b[0m\u001b[0m\n\u001b[0;32m    735\u001b[0m         \u001b[1;32mreturn\u001b[0m \u001b[0mtuple\u001b[0m\u001b[1;33m(\u001b[0m\u001b[0mkeyidx\u001b[0m\u001b[1;33m)\u001b[0m\u001b[1;33m\u001b[0m\u001b[1;33m\u001b[0m\u001b[0m\n",
      "\u001b[1;32mE:\\anaconda3\\lib\\site-packages\\pandas\\core\\indexing.py\u001b[0m in \u001b[0;36m_convert_to_indexer\u001b[1;34m(self, obj, axis, raise_missing)\u001b[0m\n\u001b[0;32m   1730\u001b[0m             \u001b[1;32melse\u001b[0m\u001b[1;33m:\u001b[0m\u001b[1;33m\u001b[0m\u001b[1;33m\u001b[0m\u001b[0m\n\u001b[0;32m   1731\u001b[0m                 \u001b[1;31m# When setting, missing keys are not allowed, even with .loc:\u001b[0m\u001b[1;33m\u001b[0m\u001b[1;33m\u001b[0m\u001b[1;33m\u001b[0m\u001b[0m\n\u001b[1;32m-> 1732\u001b[1;33m                 \u001b[1;32mreturn\u001b[0m \u001b[0mself\u001b[0m\u001b[1;33m.\u001b[0m\u001b[0m_get_listlike_indexer\u001b[0m\u001b[1;33m(\u001b[0m\u001b[0mobj\u001b[0m\u001b[1;33m,\u001b[0m \u001b[0maxis\u001b[0m\u001b[1;33m,\u001b[0m \u001b[0mraise_missing\u001b[0m\u001b[1;33m=\u001b[0m\u001b[1;32mTrue\u001b[0m\u001b[1;33m)\u001b[0m\u001b[1;33m[\u001b[0m\u001b[1;36m1\u001b[0m\u001b[1;33m]\u001b[0m\u001b[1;33m\u001b[0m\u001b[1;33m\u001b[0m\u001b[0m\n\u001b[0m\u001b[0;32m   1733\u001b[0m         \u001b[1;32melse\u001b[0m\u001b[1;33m:\u001b[0m\u001b[1;33m\u001b[0m\u001b[1;33m\u001b[0m\u001b[0m\n\u001b[0;32m   1734\u001b[0m             \u001b[1;32mtry\u001b[0m\u001b[1;33m:\u001b[0m\u001b[1;33m\u001b[0m\u001b[1;33m\u001b[0m\u001b[0m\n",
      "\u001b[1;32mE:\\anaconda3\\lib\\site-packages\\pandas\\core\\indexing.py\u001b[0m in \u001b[0;36m_get_listlike_indexer\u001b[1;34m(self, key, axis, raise_missing)\u001b[0m\n\u001b[0;32m   1550\u001b[0m             \u001b[0mkeyarr\u001b[0m\u001b[1;33m,\u001b[0m \u001b[0mindexer\u001b[0m\u001b[1;33m,\u001b[0m \u001b[0mnew_indexer\u001b[0m \u001b[1;33m=\u001b[0m \u001b[0max\u001b[0m\u001b[1;33m.\u001b[0m\u001b[0m_reindex_non_unique\u001b[0m\u001b[1;33m(\u001b[0m\u001b[0mkeyarr\u001b[0m\u001b[1;33m)\u001b[0m\u001b[1;33m\u001b[0m\u001b[1;33m\u001b[0m\u001b[0m\n\u001b[0;32m   1551\u001b[0m \u001b[1;33m\u001b[0m\u001b[0m\n\u001b[1;32m-> 1552\u001b[1;33m         self._validate_read_indexer(\n\u001b[0m\u001b[0;32m   1553\u001b[0m             \u001b[0mkeyarr\u001b[0m\u001b[1;33m,\u001b[0m \u001b[0mindexer\u001b[0m\u001b[1;33m,\u001b[0m \u001b[0mo\u001b[0m\u001b[1;33m.\u001b[0m\u001b[0m_get_axis_number\u001b[0m\u001b[1;33m(\u001b[0m\u001b[0maxis\u001b[0m\u001b[1;33m)\u001b[0m\u001b[1;33m,\u001b[0m \u001b[0mraise_missing\u001b[0m\u001b[1;33m=\u001b[0m\u001b[0mraise_missing\u001b[0m\u001b[1;33m\u001b[0m\u001b[1;33m\u001b[0m\u001b[0m\n\u001b[0;32m   1554\u001b[0m         )\n",
      "\u001b[1;32mE:\\anaconda3\\lib\\site-packages\\pandas\\core\\indexing.py\u001b[0m in \u001b[0;36m_validate_read_indexer\u001b[1;34m(self, key, indexer, axis, raise_missing)\u001b[0m\n\u001b[0;32m   1638\u001b[0m             \u001b[1;32mif\u001b[0m \u001b[0mmissing\u001b[0m \u001b[1;33m==\u001b[0m \u001b[0mlen\u001b[0m\u001b[1;33m(\u001b[0m\u001b[0mindexer\u001b[0m\u001b[1;33m)\u001b[0m\u001b[1;33m:\u001b[0m\u001b[1;33m\u001b[0m\u001b[1;33m\u001b[0m\u001b[0m\n\u001b[0;32m   1639\u001b[0m                 \u001b[0maxis_name\u001b[0m \u001b[1;33m=\u001b[0m \u001b[0mself\u001b[0m\u001b[1;33m.\u001b[0m\u001b[0mobj\u001b[0m\u001b[1;33m.\u001b[0m\u001b[0m_get_axis_name\u001b[0m\u001b[1;33m(\u001b[0m\u001b[0maxis\u001b[0m\u001b[1;33m)\u001b[0m\u001b[1;33m\u001b[0m\u001b[1;33m\u001b[0m\u001b[0m\n\u001b[1;32m-> 1640\u001b[1;33m                 \u001b[1;32mraise\u001b[0m \u001b[0mKeyError\u001b[0m\u001b[1;33m(\u001b[0m\u001b[1;34mf\"None of [{key}] are in the [{axis_name}]\"\u001b[0m\u001b[1;33m)\u001b[0m\u001b[1;33m\u001b[0m\u001b[1;33m\u001b[0m\u001b[0m\n\u001b[0m\u001b[0;32m   1641\u001b[0m \u001b[1;33m\u001b[0m\u001b[0m\n\u001b[0;32m   1642\u001b[0m             \u001b[1;31m# We (temporarily) allow for some missing keys with .loc, except in\u001b[0m\u001b[1;33m\u001b[0m\u001b[1;33m\u001b[0m\u001b[1;33m\u001b[0m\u001b[0m\n",
      "\u001b[1;31mKeyError\u001b[0m: \"None of [Index(['Boya', 'Değişen'], dtype='object')] are in the [columns]\""
     ]
    }
   ],
   "source": [
    "data.loc[data[\"Boya-değişen\"] == \"Tamamı boya\",[\"Boya\",\"Değişen\"]] = [13,0]\n",
    "data.loc[data[\"Boya-değişen\"] == \"Tamamı değişmiş\",[\"Boya\",\"Değişen\"]] = [0,13]"
   ]
  },
  {
   "cell_type": "code",
   "execution_count": 110,
   "metadata": {},
   "outputs": [],
   "source": [
    "data.loc[data[\"Boya-değişen\"].str.contains(\"-\"),\"Boya\"] = data[\"Boya-değişen\"].str.split(\"-\").str.get(0)\n",
    "data.loc[data[\"Boya-değişen\"].str.contains(\"-\"),\"Değişen\"] = data[\"Boya-değişen\"].str.split(\"-\").str.get(1)"
   ]
  },
  {
   "cell_type": "code",
   "execution_count": 188,
   "metadata": {},
   "outputs": [],
   "source": [
    "data.loc[data[\"Boya-değişen\"].str.contains(\"boyalı\"), \"Boya\"] = data[\"Boya-değişen\"].str.replace(\" boyalı\",\"\")\n",
    "data.loc[data[\"Boya-değişen\"].str.contains(\"boyalı\"), \"Değişen\"] = 0"
   ]
  },
  {
   "cell_type": "code",
   "execution_count": 189,
   "metadata": {},
   "outputs": [],
   "source": [
    "data.loc[data[\"Boya-değişen\"].str.contains(\"değişen\"), \"Değişen\"] = data[\"Boya-değişen\"].str.replace(\" değişen\",\"\")\n",
    "data.loc[data[\"Boya-değişen\"].str.contains(\"değişen\"), \"Boya\"] = 0"
   ]
  },
  {
   "cell_type": "code",
   "execution_count": 190,
   "metadata": {},
   "outputs": [],
   "source": [
    "data.loc[data[\"Boya-değişen\"] == \"Belirtilmemiş\",[\"Boya\",\"Değişen\"]] = [0,0]"
   ]
  },
  {
   "cell_type": "code",
   "execution_count": 191,
   "metadata": {},
   "outputs": [],
   "source": [
    "data.loc[data[\"Boya-değişen\"] == \"Tamamı orjinal\",[\"Boya\",\"Değişen\"]] = [0,0]"
   ]
  },
  {
   "cell_type": "code",
   "execution_count": 192,
   "metadata": {},
   "outputs": [],
   "source": [
    "def convert_value_Type(obj):\n",
    "    return int(obj)"
   ]
  },
  {
   "cell_type": "code",
   "execution_count": 193,
   "metadata": {},
   "outputs": [
    {
     "data": {
      "text/html": [
       "<div>\n",
       "<style scoped>\n",
       "    .dataframe tbody tr th:only-of-type {\n",
       "        vertical-align: middle;\n",
       "    }\n",
       "\n",
       "    .dataframe tbody tr th {\n",
       "        vertical-align: top;\n",
       "    }\n",
       "\n",
       "    .dataframe thead th {\n",
       "        text-align: right;\n",
       "    }\n",
       "</style>\n",
       "<table border=\"1\" class=\"dataframe\">\n",
       "  <thead>\n",
       "    <tr style=\"text-align: right;\">\n",
       "      <th></th>\n",
       "      <th>Fiyat</th>\n",
       "      <th>Marka</th>\n",
       "      <th>Seri</th>\n",
       "      <th>Model</th>\n",
       "      <th>Yıl</th>\n",
       "      <th>Yakıt Tipi</th>\n",
       "      <th>Vites Tipi</th>\n",
       "      <th>Motor Gücü</th>\n",
       "      <th>Motor Hacmi</th>\n",
       "      <th>Kilometre</th>\n",
       "      <th>Boya-değişen</th>\n",
       "      <th>Boya</th>\n",
       "      <th>Değişen</th>\n",
       "    </tr>\n",
       "  </thead>\n",
       "  <tbody>\n",
       "  </tbody>\n",
       "</table>\n",
       "</div>"
      ],
      "text/plain": [
       "Empty DataFrame\n",
       "Columns: [Fiyat, Marka, Seri, Model, Yıl, Yakıt Tipi, Vites Tipi, Motor Gücü, Motor Hacmi, Kilometre, Boya-değişen, Boya, Değişen]\n",
       "Index: []"
      ]
     },
     "execution_count": 193,
     "metadata": {},
     "output_type": "execute_result"
    }
   ],
   "source": [
    "data[data[\"Boya\"] == \"-\"]"
   ]
  },
  {
   "cell_type": "code",
   "execution_count": 194,
   "metadata": {},
   "outputs": [],
   "source": [
    "data[\"Boya\"] = data[\"Boya\"].apply(convert_value_Type)\n",
    "data[\"Değişen\"] = data[\"Değişen\"].apply(convert_value_Type)"
   ]
  },
  {
   "cell_type": "code",
   "execution_count": 195,
   "metadata": {},
   "outputs": [],
   "source": [
    "data.drop(\"Boya-değişen\",axis=1,inplace=True)"
   ]
  },
  {
   "cell_type": "code",
   "execution_count": 199,
   "metadata": {},
   "outputs": [],
   "source": [
    "data.loc[data[\"Boya\"] == 12 , \"Boya\"] = 13"
   ]
  },
  {
   "cell_type": "code",
   "execution_count": 200,
   "metadata": {},
   "outputs": [],
   "source": [
    "data.loc[data[\"Değişen\"] == 12 , \"Değişen\"] = 13"
   ]
  },
  {
   "cell_type": "code",
   "execution_count": 201,
   "metadata": {
    "scrolled": false
   },
   "outputs": [
    {
     "data": {
      "text/html": [
       "<div>\n",
       "<style scoped>\n",
       "    .dataframe tbody tr th:only-of-type {\n",
       "        vertical-align: middle;\n",
       "    }\n",
       "\n",
       "    .dataframe tbody tr th {\n",
       "        vertical-align: top;\n",
       "    }\n",
       "\n",
       "    .dataframe thead th {\n",
       "        text-align: right;\n",
       "    }\n",
       "</style>\n",
       "<table border=\"1\" class=\"dataframe\">\n",
       "  <thead>\n",
       "    <tr style=\"text-align: right;\">\n",
       "      <th></th>\n",
       "      <th>Fiyat</th>\n",
       "      <th>Marka</th>\n",
       "      <th>Seri</th>\n",
       "      <th>Model</th>\n",
       "      <th>Yıl</th>\n",
       "      <th>Motor Gücü</th>\n",
       "      <th>Motor Hacmi</th>\n",
       "      <th>Kilometre</th>\n",
       "      <th>Boya</th>\n",
       "      <th>Değişen</th>\n",
       "      <th>Yakıt_Benzin</th>\n",
       "      <th>Yakıt_Dizel</th>\n",
       "      <th>Yakıt_LPG &amp; Benzin</th>\n",
       "      <th>Vites_Düz</th>\n",
       "      <th>Vites_Otomatik</th>\n",
       "      <th>Vites_Yarı Otomatik</th>\n",
       "    </tr>\n",
       "  </thead>\n",
       "  <tbody>\n",
       "    <tr>\n",
       "      <th>0</th>\n",
       "      <td>68000</td>\n",
       "      <td>Alfa Romeo</td>\n",
       "      <td>156</td>\n",
       "      <td>2.0 TS</td>\n",
       "      <td>1998</td>\n",
       "      <td>155</td>\n",
       "      <td>1970</td>\n",
       "      <td>400000</td>\n",
       "      <td>13</td>\n",
       "      <td>0</td>\n",
       "      <td>0</td>\n",
       "      <td>0</td>\n",
       "      <td>1</td>\n",
       "      <td>1</td>\n",
       "      <td>0</td>\n",
       "      <td>0</td>\n",
       "    </tr>\n",
       "    <tr>\n",
       "      <th>1</th>\n",
       "      <td>423000</td>\n",
       "      <td>Alfa Romeo</td>\n",
       "      <td>Giulietta</td>\n",
       "      <td>1.4 TB MultiAir Super TCT</td>\n",
       "      <td>2017</td>\n",
       "      <td>170</td>\n",
       "      <td>1368</td>\n",
       "      <td>63000</td>\n",
       "      <td>0</td>\n",
       "      <td>0</td>\n",
       "      <td>1</td>\n",
       "      <td>0</td>\n",
       "      <td>0</td>\n",
       "      <td>0</td>\n",
       "      <td>1</td>\n",
       "      <td>0</td>\n",
       "    </tr>\n",
       "    <tr>\n",
       "      <th>5</th>\n",
       "      <td>72500</td>\n",
       "      <td>Alfa Romeo</td>\n",
       "      <td>156</td>\n",
       "      <td>2.0 TS</td>\n",
       "      <td>1998</td>\n",
       "      <td>155</td>\n",
       "      <td>1970</td>\n",
       "      <td>289766</td>\n",
       "      <td>6</td>\n",
       "      <td>0</td>\n",
       "      <td>0</td>\n",
       "      <td>0</td>\n",
       "      <td>1</td>\n",
       "      <td>1</td>\n",
       "      <td>0</td>\n",
       "      <td>0</td>\n",
       "    </tr>\n",
       "    <tr>\n",
       "      <th>6</th>\n",
       "      <td>89000</td>\n",
       "      <td>Alfa Romeo</td>\n",
       "      <td>156</td>\n",
       "      <td>1.6 TS Progression</td>\n",
       "      <td>2004</td>\n",
       "      <td>120</td>\n",
       "      <td>1598</td>\n",
       "      <td>298000</td>\n",
       "      <td>1</td>\n",
       "      <td>13</td>\n",
       "      <td>0</td>\n",
       "      <td>0</td>\n",
       "      <td>1</td>\n",
       "      <td>1</td>\n",
       "      <td>0</td>\n",
       "      <td>0</td>\n",
       "    </tr>\n",
       "    <tr>\n",
       "      <th>8</th>\n",
       "      <td>160000</td>\n",
       "      <td>Alfa Romeo</td>\n",
       "      <td>156</td>\n",
       "      <td>1.6 TS Distinctive</td>\n",
       "      <td>2005</td>\n",
       "      <td>120</td>\n",
       "      <td>1598</td>\n",
       "      <td>175000</td>\n",
       "      <td>0</td>\n",
       "      <td>0</td>\n",
       "      <td>0</td>\n",
       "      <td>0</td>\n",
       "      <td>1</td>\n",
       "      <td>1</td>\n",
       "      <td>0</td>\n",
       "      <td>0</td>\n",
       "    </tr>\n",
       "    <tr>\n",
       "      <th>...</th>\n",
       "      <td>...</td>\n",
       "      <td>...</td>\n",
       "      <td>...</td>\n",
       "      <td>...</td>\n",
       "      <td>...</td>\n",
       "      <td>...</td>\n",
       "      <td>...</td>\n",
       "      <td>...</td>\n",
       "      <td>...</td>\n",
       "      <td>...</td>\n",
       "      <td>...</td>\n",
       "      <td>...</td>\n",
       "      <td>...</td>\n",
       "      <td>...</td>\n",
       "      <td>...</td>\n",
       "      <td>...</td>\n",
       "    </tr>\n",
       "    <tr>\n",
       "      <th>44721</th>\n",
       "      <td>377500</td>\n",
       "      <td>Volvo</td>\n",
       "      <td>S60</td>\n",
       "      <td>1.6 D Advance</td>\n",
       "      <td>2015</td>\n",
       "      <td>115</td>\n",
       "      <td>1560</td>\n",
       "      <td>152000</td>\n",
       "      <td>0</td>\n",
       "      <td>0</td>\n",
       "      <td>0</td>\n",
       "      <td>1</td>\n",
       "      <td>0</td>\n",
       "      <td>0</td>\n",
       "      <td>0</td>\n",
       "      <td>1</td>\n",
       "    </tr>\n",
       "    <tr>\n",
       "      <th>44722</th>\n",
       "      <td>97000</td>\n",
       "      <td>Volvo</td>\n",
       "      <td>S40</td>\n",
       "      <td>1.6</td>\n",
       "      <td>2002</td>\n",
       "      <td>109</td>\n",
       "      <td>1587</td>\n",
       "      <td>270000</td>\n",
       "      <td>0</td>\n",
       "      <td>0</td>\n",
       "      <td>0</td>\n",
       "      <td>0</td>\n",
       "      <td>1</td>\n",
       "      <td>1</td>\n",
       "      <td>0</td>\n",
       "      <td>0</td>\n",
       "    </tr>\n",
       "    <tr>\n",
       "      <th>44724</th>\n",
       "      <td>308000</td>\n",
       "      <td>Volvo</td>\n",
       "      <td>S60</td>\n",
       "      <td>2.0 D Premium</td>\n",
       "      <td>2011</td>\n",
       "      <td>163</td>\n",
       "      <td>1984</td>\n",
       "      <td>278000</td>\n",
       "      <td>1</td>\n",
       "      <td>1</td>\n",
       "      <td>0</td>\n",
       "      <td>1</td>\n",
       "      <td>0</td>\n",
       "      <td>0</td>\n",
       "      <td>1</td>\n",
       "      <td>0</td>\n",
       "    </tr>\n",
       "    <tr>\n",
       "      <th>44726</th>\n",
       "      <td>542000</td>\n",
       "      <td>Volvo</td>\n",
       "      <td>V40</td>\n",
       "      <td>1.5 T3 Inscription</td>\n",
       "      <td>2018</td>\n",
       "      <td>152</td>\n",
       "      <td>1498</td>\n",
       "      <td>39000</td>\n",
       "      <td>2</td>\n",
       "      <td>0</td>\n",
       "      <td>1</td>\n",
       "      <td>0</td>\n",
       "      <td>0</td>\n",
       "      <td>0</td>\n",
       "      <td>1</td>\n",
       "      <td>0</td>\n",
       "    </tr>\n",
       "    <tr>\n",
       "      <th>44727</th>\n",
       "      <td>137000</td>\n",
       "      <td>Volvo</td>\n",
       "      <td>S40</td>\n",
       "      <td>1.6</td>\n",
       "      <td>2004</td>\n",
       "      <td>109</td>\n",
       "      <td>1587</td>\n",
       "      <td>245000</td>\n",
       "      <td>13</td>\n",
       "      <td>0</td>\n",
       "      <td>0</td>\n",
       "      <td>0</td>\n",
       "      <td>1</td>\n",
       "      <td>1</td>\n",
       "      <td>0</td>\n",
       "      <td>0</td>\n",
       "    </tr>\n",
       "  </tbody>\n",
       "</table>\n",
       "<p>35931 rows × 16 columns</p>\n",
       "</div>"
      ],
      "text/plain": [
       "        Fiyat       Marka       Seri                      Model   Yıl  \\\n",
       "0       68000  Alfa Romeo        156                     2.0 TS  1998   \n",
       "1      423000  Alfa Romeo  Giulietta  1.4 TB MultiAir Super TCT  2017   \n",
       "5       72500  Alfa Romeo        156                     2.0 TS  1998   \n",
       "6       89000  Alfa Romeo        156         1.6 TS Progression  2004   \n",
       "8      160000  Alfa Romeo        156         1.6 TS Distinctive  2005   \n",
       "...       ...         ...        ...                        ...   ...   \n",
       "44721  377500       Volvo        S60              1.6 D Advance  2015   \n",
       "44722   97000       Volvo        S40                        1.6  2002   \n",
       "44724  308000       Volvo        S60              2.0 D Premium  2011   \n",
       "44726  542000       Volvo        V40         1.5 T3 Inscription  2018   \n",
       "44727  137000       Volvo        S40                        1.6  2004   \n",
       "\n",
       "       Motor Gücü  Motor Hacmi  Kilometre  Boya  Değişen  Yakıt_Benzin  \\\n",
       "0             155         1970     400000    13        0             0   \n",
       "1             170         1368      63000     0        0             1   \n",
       "5             155         1970     289766     6        0             0   \n",
       "6             120         1598     298000     1       13             0   \n",
       "8             120         1598     175000     0        0             0   \n",
       "...           ...          ...        ...   ...      ...           ...   \n",
       "44721         115         1560     152000     0        0             0   \n",
       "44722         109         1587     270000     0        0             0   \n",
       "44724         163         1984     278000     1        1             0   \n",
       "44726         152         1498      39000     2        0             1   \n",
       "44727         109         1587     245000    13        0             0   \n",
       "\n",
       "       Yakıt_Dizel  Yakıt_LPG & Benzin  Vites_Düz  Vites_Otomatik  \\\n",
       "0                0                   1          1               0   \n",
       "1                0                   0          0               1   \n",
       "5                0                   1          1               0   \n",
       "6                0                   1          1               0   \n",
       "8                0                   1          1               0   \n",
       "...            ...                 ...        ...             ...   \n",
       "44721            1                   0          0               0   \n",
       "44722            0                   1          1               0   \n",
       "44724            1                   0          0               1   \n",
       "44726            0                   0          0               1   \n",
       "44727            0                   1          1               0   \n",
       "\n",
       "       Vites_Yarı Otomatik  \n",
       "0                        0  \n",
       "1                        0  \n",
       "5                        0  \n",
       "6                        0  \n",
       "8                        0  \n",
       "...                    ...  \n",
       "44721                    1  \n",
       "44722                    0  \n",
       "44724                    0  \n",
       "44726                    0  \n",
       "44727                    0  \n",
       "\n",
       "[35931 rows x 16 columns]"
      ]
     },
     "execution_count": 201,
     "metadata": {},
     "output_type": "execute_result"
    }
   ],
   "source": [
    "data"
   ]
  },
  {
   "cell_type": "markdown",
   "metadata": {},
   "source": [
    "# Yakıt Tipi - Vites Tipi Sütunları One-Hot Encoding"
   ]
  },
  {
   "cell_type": "code",
   "execution_count": 197,
   "metadata": {},
   "outputs": [],
   "source": [
    "data = pnd.get_dummies(data,columns=[\"Yakıt Tipi\",\"Vites Tipi\"],prefix=[\"Yakıt\",\"Vites\"])"
   ]
  },
  {
   "cell_type": "code",
   "execution_count": 327,
   "metadata": {
    "scrolled": true
   },
   "outputs": [],
   "source": [
    "data.to_excel('Arabalar.xlsx')"
   ]
  },
  {
   "cell_type": "markdown",
   "metadata": {},
   "source": [
    "# Dataseti Markalara Göre Ayırma"
   ]
  },
  {
   "cell_type": "code",
   "execution_count": 333,
   "metadata": {},
   "outputs": [],
   "source": [
    "markalar = data[\"Marka\"].unique()"
   ]
  },
  {
   "cell_type": "code",
   "execution_count": 340,
   "metadata": {
    "scrolled": true
   },
   "outputs": [
    {
     "data": {
      "text/plain": [
       "array(['Alfa Romeo', 'Audi', 'BMW', 'Chevrolet', 'Citroen', 'Dacia',\n",
       "       'Fiat', 'Ford', 'Honda', 'Hyundai', 'Kia', 'Mazda',\n",
       "       'Mercedes - Benz', 'MINI', 'Mitsubishi', 'Nissan', 'Opel',\n",
       "       'Peugeot', 'Porsche', 'Renault', 'Seat', 'Skoda', 'Toyota',\n",
       "       'Volkswagen', 'Volvo'], dtype=object)"
      ]
     },
     "execution_count": 340,
     "metadata": {},
     "output_type": "execute_result"
    }
   ],
   "source": [
    "markalar"
   ]
  },
  {
   "cell_type": "code",
   "execution_count": 341,
   "metadata": {},
   "outputs": [],
   "source": [
    "datasets = list()"
   ]
  },
  {
   "cell_type": "code",
   "execution_count": 342,
   "metadata": {},
   "outputs": [],
   "source": [
    "def markalara_Ayir():\n",
    "    for marka in markalar:\n",
    "        dset = data[data[\"Marka\"] == marka]\n",
    "        dset = pnd.DataFrame(dset)\n",
    "        datasets.append(dset)"
   ]
  },
  {
   "cell_type": "code",
   "execution_count": 343,
   "metadata": {},
   "outputs": [],
   "source": [
    "markalara_Ayir()"
   ]
  },
  {
   "cell_type": "markdown",
   "metadata": {},
   "source": [
    "# Marka Bazlı One-hot Encoding"
   ]
  },
  {
   "cell_type": "code",
   "execution_count": 344,
   "metadata": {},
   "outputs": [],
   "source": [
    "def encoding():\n",
    "    encoded_list = list()\n",
    "    index = 0\n",
    "    for marka in datasets:\n",
    "        marka.drop(\"Marka\",axis=1,inplace=True)\n",
    "        data = pnd.get_dummies(data=marka,columns=[\"Seri\",\"Model\"],prefix=[\"Seri\",\"Model\"])\n",
    "        data.to_excel(f'{markalar[index]}.xlsx')\n",
    "        index += 1"
   ]
  },
  {
   "cell_type": "code",
   "execution_count": 345,
   "metadata": {},
   "outputs": [],
   "source": [
    "encoding()"
   ]
  },
  {
   "cell_type": "markdown",
   "metadata": {},
   "source": [
    "# One-hot Encoding Dönüşümü"
   ]
  },
  {
   "cell_type": "code",
   "execution_count": 51,
   "metadata": {
    "scrolled": false
   },
   "outputs": [],
   "source": [
    "def get_column_names(col_name:str):\n",
    "    columns = ds2.columns\n",
    "    liste = []\n",
    "    for col in columns:\n",
    "        if col_name in col:\n",
    "            liste.append(col)\n",
    "    return liste"
   ]
  },
  {
   "cell_type": "code",
   "execution_count": 74,
   "metadata": {},
   "outputs": [],
   "source": [
    "def converting(column:str,col_name:str):\n",
    "    liste = get_column_names(column)\n",
    "    predict_list = list(nmp.zeros(len(liste),dtype=int))\n",
    "    for item in.endswith(col_name):\n",
    "             liste:\n",
    "        if itemindex = liste.index(item)\n",
    "            predict_list[index] = 1\n",
    "    return predict_list"
   ]
  },
  {
   "cell_type": "code",
   "execution_count": 111,
   "metadata": {},
   "outputs": [],
   "source": [
    "tahmin_verisi = [2017,190,1995,179000,0,0]"
   ]
  },
  {
   "cell_type": "code",
   "execution_count": 112,
   "metadata": {},
   "outputs": [],
   "source": [
    "tahmin_verisi.extend(converting(\"Yakıt\",\"Dizel\"))"
   ]
  },
  {
   "cell_type": "code",
   "execution_count": 113,
   "metadata": {},
   "outputs": [
    {
     "data": {
      "text/plain": [
       "[2017, 190, 1995, 179000, 0, 0, 0, 1, 0]"
      ]
     },
     "execution_count": 113,
     "metadata": {},
     "output_type": "execute_result"
    }
   ],
   "source": [
    "tahmin_verisi"
   ]
  },
  {
   "cell_type": "code",
   "execution_count": 114,
   "metadata": {},
   "outputs": [],
   "source": [
    "tahmin_verisi.extend(converting(\"Vites\",\"Otomatik\"))"
   ]
  },
  {
   "cell_type": "code",
   "execution_count": 115,
   "metadata": {},
   "outputs": [
    {
     "data": {
      "text/plain": [
       "[2017, 190, 1995, 179000, 0, 0, 0, 1, 0, 0, 1, 1]"
      ]
     },
     "execution_count": 115,
     "metadata": {},
     "output_type": "execute_result"
    }
   ],
   "source": [
    "tahmin_verisi"
   ]
  },
  {
   "cell_type": "code",
   "execution_count": 116,
   "metadata": {},
   "outputs": [],
   "source": [
    "tahmin_verisi.extend(converting(\"Seri\",\"1 Serisi\"))"
   ]
  },
  {
   "cell_type": "code",
   "execution_count": 117,
   "metadata": {},
   "outputs": [
    {
     "data": {
      "text/plain": [
       "[2017, 190, 1995, 179000, 0, 0, 0, 1, 0, 0, 1, 1, 1, 0, 0, 0]"
      ]
     },
     "execution_count": 117,
     "metadata": {},
     "output_type": "execute_result"
    }
   ],
   "source": [
    "tahmin_verisi"
   ]
  },
  {
   "cell_type": "code",
   "execution_count": 118,
   "metadata": {},
   "outputs": [],
   "source": [
    "tahmin_verisi.extend(converting(\"Model\",\"Model_745i\"))"
   ]
  },
  {
   "cell_type": "code",
   "execution_count": 119,
   "metadata": {},
   "outputs": [
    {
     "data": {
      "text/plain": [
       "229"
      ]
     },
     "execution_count": 119,
     "metadata": {},
     "output_type": "execute_result"
    }
   ],
   "source": [
    "len(tahmin_verisi)"
   ]
  },
  {
   "cell_type": "markdown",
   "metadata": {},
   "source": [
    "# Seri Sütunu One-Hot"
   ]
  },
  {
   "cell_type": "markdown",
   "metadata": {},
   "source": [
    "# Yakıt Tipi One-Hot"
   ]
  },
  {
   "cell_type": "code",
   "execution_count": 70,
   "metadata": {},
   "outputs": [],
   "source": [
    "seri_list = get_column_names(\"Yakıt\")"
   ]
  },
  {
   "cell_type": "code",
   "execution_count": 71,
   "metadata": {},
   "outputs": [
    {
     "data": {
      "text/plain": [
       "['Yakıt_Benzin', 'Yakıt_Dizel', 'Yakıt_LPG & Benzin']"
      ]
     },
     "execution_count": 71,
     "metadata": {},
     "output_type": "execute_result"
    }
   ],
   "source": [
    "seri_list"
   ]
  },
  {
   "cell_type": "code",
   "execution_count": 37,
   "metadata": {
    "scrolled": true
   },
   "outputs": [
    {
     "data": {
      "text/plain": [
       "[0, 0, 0, 0]"
      ]
     },
     "execution_count": 37,
     "metadata": {},
     "output_type": "execute_result"
    }
   ],
   "source": [
    "ohe_Seri = \n",
    "ohe_Seri"
   ]
  },
  {
   "cell_type": "code",
   "execution_count": 299,
   "metadata": {},
   "outputs": [
    {
     "data": {
      "text/plain": [
       "Int64Index([33], dtype='int64')"
      ]
     },
     "execution_count": 299,
     "metadata": {},
     "output_type": "execute_result"
    }
   ],
   "source": [
    "ds2.Fiyat.sort_values(ascending=False).head(1).index"
   ]
  },
  {
   "cell_type": "markdown",
   "metadata": {},
   "source": [
    "String "
   ]
  },
  {
   "cell_type": "code",
   "execution_count": 44,
   "metadata": {},
   "outputs": [
    {
     "data": {
      "text/plain": [
       "[1, 0, 1, 0]"
      ]
     },
     "execution_count": 44,
     "metadata": {},
     "output_type": "execute_result"
    }
   ],
   "source": [
    "ohe_Seri"
   ]
  },
  {
   "cell_type": "code",
   "execution_count": 301,
   "metadata": {},
   "outputs": [],
   "source": [
    "ds2.to_excel(\"BMW_OneHot.xlsx\")"
   ]
  },
  {
   "cell_type": "code",
   "execution_count": 304,
   "metadata": {},
   "outputs": [
    {
     "data": {
      "text/plain": [
       "Fiyat              41999\n",
       "Yıl                 1984\n",
       "Motor Gücü            90\n",
       "Motor Hacmi         1200\n",
       "Kilometre              0\n",
       "                   ...  \n",
       "Model_740i Long        0\n",
       "Model_745i             0\n",
       "Model_745i Long        0\n",
       "Model_750i Long        0\n",
       "Model_760i Long        0\n",
       "Length: 230, dtype: int64"
      ]
     },
     "execution_count": 304,
     "metadata": {},
     "output_type": "execute_result"
    }
   ],
   "source": [
    "ds2.min()"
   ]
  },
  {
   "cell_type": "code",
   "execution_count": 21,
   "metadata": {},
   "outputs": [
    {
     "data": {
      "text/plain": [
       "31"
      ]
     },
     "execution_count": 21,
     "metadata": {},
     "output_type": "execute_result"
    }
   ],
   "source": [
    "len(ds2[\"Motor Hacmi\"].unique())"
   ]
  },
  {
   "cell_type": "markdown",
   "metadata": {},
   "source": [
    "# Train-Test Split"
   ]
  },
  {
   "cell_type": "code",
   "execution_count": 294,
   "metadata": {},
   "outputs": [],
   "source": [
    "x = ds2.drop(\"Fiyat\",axis=1)\n",
    "y = ds2[\"Fiyat\"]"
   ]
  },
  {
   "cell_type": "code",
   "execution_count": 295,
   "metadata": {},
   "outputs": [],
   "source": [
    "x_train, x_test , y_train, y_test = train_test_split(x,y,test_size=0.25,random_state=40)"
   ]
  },
  {
   "cell_type": "markdown",
   "metadata": {
    "tags": []
   },
   "source": [
    "# Linear Regression"
   ]
  },
  {
   "cell_type": "code",
   "execution_count": 296,
   "metadata": {
    "tags": []
   },
   "outputs": [],
   "source": [
    "model= LinearRegression()\n",
    "model.fit(x_train, y_train)\n",
    "pred = model.predict(x_test)"
   ]
  },
  {
   "cell_type": "code",
   "execution_count": 297,
   "metadata": {
    "scrolled": true
   },
   "outputs": [
    {
     "data": {
      "text/plain": [
       "3416964623.82456"
      ]
     },
     "execution_count": 297,
     "metadata": {},
     "output_type": "execute_result"
    }
   ],
   "source": [
    "mean_absolute_error(pred,y_test)"
   ]
  },
  {
   "cell_type": "code",
   "execution_count": 18,
   "metadata": {},
   "outputs": [
    {
     "data": {
      "text/plain": [
       "array([196007.51039563])"
      ]
     },
     "execution_count": 18,
     "metadata": {},
     "output_type": "execute_result"
    }
   ],
   "source": [
    "model.predict([[2015,1,1598,175000,3,5,0,1,0,1,0,0,1,0,0,0,0,0,0,0,0,0,0,0,0,0,0,0,0,0,0,0,0,0,0,0,0,0,0,0,0,0,0,0,0,0,0,0,0,0,0,0,0,0,0,0,0,0,0,0,0,0,0,0,0,0,0,0,0,0,0,0,0,0,0,0,0,0,0,0,0,0,0,0,0,0,0,0,0,0,0,0,0,0,0,0,0,0,0,0,0,0,1,0,0,0,0,0,0,0,0,0,0,0,0,0,0,0,0,0,0,0,0,0,0,0,0,0,0,0,0,0,0,0,0,0,0,0,0,0,0,0,0,0,0,0,0,0,0,0,0,0,0,0,0,0,0,0,0,0,0,0,0,0,0,0,0,0]])"
   ]
  },
  {
   "cell_type": "markdown",
   "metadata": {},
   "source": [
    "# Cross Validation"
   ]
  },
  {
   "cell_type": "code",
   "execution_count": 234,
   "metadata": {
    "scrolled": true
   },
   "outputs": [
    {
     "data": {
      "text/html": [
       "<div>\n",
       "<style scoped>\n",
       "    .dataframe tbody tr th:only-of-type {\n",
       "        vertical-align: middle;\n",
       "    }\n",
       "\n",
       "    .dataframe tbody tr th {\n",
       "        vertical-align: top;\n",
       "    }\n",
       "\n",
       "    .dataframe thead th {\n",
       "        text-align: right;\n",
       "    }\n",
       "</style>\n",
       "<table border=\"1\" class=\"dataframe\">\n",
       "  <thead>\n",
       "    <tr style=\"text-align: right;\">\n",
       "      <th></th>\n",
       "      <th>Fiyat</th>\n",
       "      <th>Yıl</th>\n",
       "      <th>Kilometre</th>\n",
       "      <th>Motor Gücü</th>\n",
       "      <th>Motor Hacmi</th>\n",
       "      <th>Boya</th>\n",
       "      <th>Değişen</th>\n",
       "      <th>Tahmin</th>\n",
       "      <th>Fark</th>\n",
       "    </tr>\n",
       "  </thead>\n",
       "  <tbody>\n",
       "    <tr>\n",
       "      <th>1222</th>\n",
       "      <td>150000</td>\n",
       "      <td>2008</td>\n",
       "      <td>275000</td>\n",
       "      <td>102</td>\n",
       "      <td>1595</td>\n",
       "      <td>6</td>\n",
       "      <td>0</td>\n",
       "      <td>170443.220030</td>\n",
       "      <td>20443.220030</td>\n",
       "    </tr>\n",
       "    <tr>\n",
       "      <th>1145</th>\n",
       "      <td>347000</td>\n",
       "      <td>2013</td>\n",
       "      <td>200000</td>\n",
       "      <td>177</td>\n",
       "      <td>1968</td>\n",
       "      <td>0</td>\n",
       "      <td>0</td>\n",
       "      <td>411616.380796</td>\n",
       "      <td>64616.380796</td>\n",
       "    </tr>\n",
       "    <tr>\n",
       "      <th>787</th>\n",
       "      <td>321900</td>\n",
       "      <td>2017</td>\n",
       "      <td>134000</td>\n",
       "      <td>116</td>\n",
       "      <td>1598</td>\n",
       "      <td>0</td>\n",
       "      <td>0</td>\n",
       "      <td>346124.968534</td>\n",
       "      <td>24224.968534</td>\n",
       "    </tr>\n",
       "    <tr>\n",
       "      <th>361</th>\n",
       "      <td>243500</td>\n",
       "      <td>2011</td>\n",
       "      <td>151000</td>\n",
       "      <td>120</td>\n",
       "      <td>1798</td>\n",
       "      <td>3</td>\n",
       "      <td>0</td>\n",
       "      <td>203433.387502</td>\n",
       "      <td>40066.612498</td>\n",
       "    </tr>\n",
       "    <tr>\n",
       "      <th>86</th>\n",
       "      <td>298500</td>\n",
       "      <td>2013</td>\n",
       "      <td>229000</td>\n",
       "      <td>177</td>\n",
       "      <td>1968</td>\n",
       "      <td>1</td>\n",
       "      <td>2</td>\n",
       "      <td>296407.275186</td>\n",
       "      <td>2092.724814</td>\n",
       "    </tr>\n",
       "    <tr>\n",
       "      <th>323</th>\n",
       "      <td>490000</td>\n",
       "      <td>2020</td>\n",
       "      <td>24098</td>\n",
       "      <td>150</td>\n",
       "      <td>1498</td>\n",
       "      <td>0</td>\n",
       "      <td>0</td>\n",
       "      <td>491721.142751</td>\n",
       "      <td>1721.142751</td>\n",
       "    </tr>\n",
       "    <tr>\n",
       "      <th>110</th>\n",
       "      <td>175000</td>\n",
       "      <td>2006</td>\n",
       "      <td>255000</td>\n",
       "      <td>233</td>\n",
       "      <td>2967</td>\n",
       "      <td>0</td>\n",
       "      <td>0</td>\n",
       "      <td>319077.196277</td>\n",
       "      <td>144077.196277</td>\n",
       "    </tr>\n",
       "    <tr>\n",
       "      <th>1137</th>\n",
       "      <td>242000</td>\n",
       "      <td>2015</td>\n",
       "      <td>149000</td>\n",
       "      <td>110</td>\n",
       "      <td>1598</td>\n",
       "      <td>1</td>\n",
       "      <td>2</td>\n",
       "      <td>275946.594327</td>\n",
       "      <td>33946.594327</td>\n",
       "    </tr>\n",
       "    <tr>\n",
       "      <th>213</th>\n",
       "      <td>212500</td>\n",
       "      <td>2012</td>\n",
       "      <td>178000</td>\n",
       "      <td>105</td>\n",
       "      <td>1598</td>\n",
       "      <td>6</td>\n",
       "      <td>0</td>\n",
       "      <td>211096.562593</td>\n",
       "      <td>1403.437407</td>\n",
       "    </tr>\n",
       "    <tr>\n",
       "      <th>42</th>\n",
       "      <td>155000</td>\n",
       "      <td>2007</td>\n",
       "      <td>101000</td>\n",
       "      <td>102</td>\n",
       "      <td>1595</td>\n",
       "      <td>0</td>\n",
       "      <td>0</td>\n",
       "      <td>176785.242498</td>\n",
       "      <td>21785.242498</td>\n",
       "    </tr>\n",
       "    <tr>\n",
       "      <th>837</th>\n",
       "      <td>379500</td>\n",
       "      <td>2014</td>\n",
       "      <td>265000</td>\n",
       "      <td>190</td>\n",
       "      <td>1968</td>\n",
       "      <td>0</td>\n",
       "      <td>0</td>\n",
       "      <td>460780.603718</td>\n",
       "      <td>81280.603718</td>\n",
       "    </tr>\n",
       "    <tr>\n",
       "      <th>878</th>\n",
       "      <td>170000</td>\n",
       "      <td>2008</td>\n",
       "      <td>102161</td>\n",
       "      <td>125</td>\n",
       "      <td>1390</td>\n",
       "      <td>4</td>\n",
       "      <td>0</td>\n",
       "      <td>193589.426509</td>\n",
       "      <td>23589.426509</td>\n",
       "    </tr>\n",
       "    <tr>\n",
       "      <th>1261</th>\n",
       "      <td>179000</td>\n",
       "      <td>2009</td>\n",
       "      <td>203600</td>\n",
       "      <td>160</td>\n",
       "      <td>1798</td>\n",
       "      <td>0</td>\n",
       "      <td>0</td>\n",
       "      <td>243268.557291</td>\n",
       "      <td>64268.557291</td>\n",
       "    </tr>\n",
       "    <tr>\n",
       "      <th>1263</th>\n",
       "      <td>330000</td>\n",
       "      <td>2014</td>\n",
       "      <td>142000</td>\n",
       "      <td>150</td>\n",
       "      <td>1968</td>\n",
       "      <td>2</td>\n",
       "      <td>0</td>\n",
       "      <td>302014.130494</td>\n",
       "      <td>27985.869506</td>\n",
       "    </tr>\n",
       "    <tr>\n",
       "      <th>918</th>\n",
       "      <td>280000</td>\n",
       "      <td>2016</td>\n",
       "      <td>165000</td>\n",
       "      <td>110</td>\n",
       "      <td>1598</td>\n",
       "      <td>0</td>\n",
       "      <td>2</td>\n",
       "      <td>305301.214387</td>\n",
       "      <td>25301.214387</td>\n",
       "    </tr>\n",
       "    <tr>\n",
       "      <th>823</th>\n",
       "      <td>352000</td>\n",
       "      <td>2014</td>\n",
       "      <td>153000</td>\n",
       "      <td>110</td>\n",
       "      <td>1598</td>\n",
       "      <td>0</td>\n",
       "      <td>0</td>\n",
       "      <td>305991.987091</td>\n",
       "      <td>46008.012909</td>\n",
       "    </tr>\n",
       "    <tr>\n",
       "      <th>932</th>\n",
       "      <td>510000</td>\n",
       "      <td>2020</td>\n",
       "      <td>5000</td>\n",
       "      <td>150</td>\n",
       "      <td>1498</td>\n",
       "      <td>0</td>\n",
       "      <td>0</td>\n",
       "      <td>498499.999949</td>\n",
       "      <td>11500.000051</td>\n",
       "    </tr>\n",
       "    <tr>\n",
       "      <th>670</th>\n",
       "      <td>245000</td>\n",
       "      <td>2012</td>\n",
       "      <td>236000</td>\n",
       "      <td>176</td>\n",
       "      <td>1968</td>\n",
       "      <td>0</td>\n",
       "      <td>0</td>\n",
       "      <td>356980.465603</td>\n",
       "      <td>111980.465603</td>\n",
       "    </tr>\n",
       "    <tr>\n",
       "      <th>411</th>\n",
       "      <td>248000</td>\n",
       "      <td>2012</td>\n",
       "      <td>184000</td>\n",
       "      <td>176</td>\n",
       "      <td>1968</td>\n",
       "      <td>0</td>\n",
       "      <td>0</td>\n",
       "      <td>375478.257541</td>\n",
       "      <td>127478.257541</td>\n",
       "    </tr>\n",
       "    <tr>\n",
       "      <th>843</th>\n",
       "      <td>68000</td>\n",
       "      <td>1995</td>\n",
       "      <td>283000</td>\n",
       "      <td>150</td>\n",
       "      <td>1781</td>\n",
       "      <td>13</td>\n",
       "      <td>0</td>\n",
       "      <td>24174.288133</td>\n",
       "      <td>43825.711867</td>\n",
       "    </tr>\n",
       "    <tr>\n",
       "      <th>1319</th>\n",
       "      <td>425000</td>\n",
       "      <td>2016</td>\n",
       "      <td>118000</td>\n",
       "      <td>190</td>\n",
       "      <td>1968</td>\n",
       "      <td>2</td>\n",
       "      <td>0</td>\n",
       "      <td>488981.614686</td>\n",
       "      <td>63981.614686</td>\n",
       "    </tr>\n",
       "    <tr>\n",
       "      <th>307</th>\n",
       "      <td>299950</td>\n",
       "      <td>2016</td>\n",
       "      <td>88000</td>\n",
       "      <td>110</td>\n",
       "      <td>1598</td>\n",
       "      <td>0</td>\n",
       "      <td>0</td>\n",
       "      <td>316559.502255</td>\n",
       "      <td>16609.502255</td>\n",
       "    </tr>\n",
       "    <tr>\n",
       "      <th>671</th>\n",
       "      <td>188000</td>\n",
       "      <td>2008</td>\n",
       "      <td>231000</td>\n",
       "      <td>160</td>\n",
       "      <td>1798</td>\n",
       "      <td>1</td>\n",
       "      <td>0</td>\n",
       "      <td>220216.741638</td>\n",
       "      <td>32216.741638</td>\n",
       "    </tr>\n",
       "    <tr>\n",
       "      <th>49</th>\n",
       "      <td>275000</td>\n",
       "      <td>2010</td>\n",
       "      <td>214000</td>\n",
       "      <td>170</td>\n",
       "      <td>1968</td>\n",
       "      <td>1</td>\n",
       "      <td>0</td>\n",
       "      <td>330214.824201</td>\n",
       "      <td>55214.824201</td>\n",
       "    </tr>\n",
       "    <tr>\n",
       "      <th>1189</th>\n",
       "      <td>364900</td>\n",
       "      <td>2015</td>\n",
       "      <td>142000</td>\n",
       "      <td>177</td>\n",
       "      <td>1968</td>\n",
       "      <td>0</td>\n",
       "      <td>0</td>\n",
       "      <td>370233.409166</td>\n",
       "      <td>5333.409166</td>\n",
       "    </tr>\n",
       "    <tr>\n",
       "      <th>79</th>\n",
       "      <td>725000</td>\n",
       "      <td>2016</td>\n",
       "      <td>172000</td>\n",
       "      <td>190</td>\n",
       "      <td>1968</td>\n",
       "      <td>0</td>\n",
       "      <td>0</td>\n",
       "      <td>718247.027054</td>\n",
       "      <td>6752.972946</td>\n",
       "    </tr>\n",
       "    <tr>\n",
       "      <th>132</th>\n",
       "      <td>258500</td>\n",
       "      <td>2014</td>\n",
       "      <td>214000</td>\n",
       "      <td>105</td>\n",
       "      <td>1598</td>\n",
       "      <td>0</td>\n",
       "      <td>0</td>\n",
       "      <td>237319.771395</td>\n",
       "      <td>21180.228605</td>\n",
       "    </tr>\n",
       "    <tr>\n",
       "      <th>914</th>\n",
       "      <td>132500</td>\n",
       "      <td>2001</td>\n",
       "      <td>294000</td>\n",
       "      <td>150</td>\n",
       "      <td>1781</td>\n",
       "      <td>1</td>\n",
       "      <td>1</td>\n",
       "      <td>109178.196108</td>\n",
       "      <td>23321.803892</td>\n",
       "    </tr>\n",
       "    <tr>\n",
       "      <th>1086</th>\n",
       "      <td>385000</td>\n",
       "      <td>2014</td>\n",
       "      <td>178000</td>\n",
       "      <td>126</td>\n",
       "      <td>1968</td>\n",
       "      <td>0</td>\n",
       "      <td>0</td>\n",
       "      <td>302369.066695</td>\n",
       "      <td>82630.933305</td>\n",
       "    </tr>\n",
       "    <tr>\n",
       "      <th>192</th>\n",
       "      <td>320000</td>\n",
       "      <td>2013</td>\n",
       "      <td>183000</td>\n",
       "      <td>150</td>\n",
       "      <td>1968</td>\n",
       "      <td>0</td>\n",
       "      <td>0</td>\n",
       "      <td>277365.769774</td>\n",
       "      <td>42634.230226</td>\n",
       "    </tr>\n",
       "    <tr>\n",
       "      <th>365</th>\n",
       "      <td>169500</td>\n",
       "      <td>2004</td>\n",
       "      <td>179000</td>\n",
       "      <td>226</td>\n",
       "      <td>2501</td>\n",
       "      <td>0</td>\n",
       "      <td>0</td>\n",
       "      <td>186922.545869</td>\n",
       "      <td>17422.545869</td>\n",
       "    </tr>\n",
       "    <tr>\n",
       "      <th>56</th>\n",
       "      <td>287000</td>\n",
       "      <td>2014</td>\n",
       "      <td>150000</td>\n",
       "      <td>105</td>\n",
       "      <td>1598</td>\n",
       "      <td>2</td>\n",
       "      <td>2</td>\n",
       "      <td>268086.853055</td>\n",
       "      <td>18913.146945</td>\n",
       "    </tr>\n",
       "    <tr>\n",
       "      <th>637</th>\n",
       "      <td>185000</td>\n",
       "      <td>2011</td>\n",
       "      <td>195000</td>\n",
       "      <td>102</td>\n",
       "      <td>1595</td>\n",
       "      <td>1</td>\n",
       "      <td>2</td>\n",
       "      <td>212909.925010</td>\n",
       "      <td>27909.925010</td>\n",
       "    </tr>\n",
       "    <tr>\n",
       "      <th>953</th>\n",
       "      <td>410000</td>\n",
       "      <td>2012</td>\n",
       "      <td>161000</td>\n",
       "      <td>177</td>\n",
       "      <td>1968</td>\n",
       "      <td>0</td>\n",
       "      <td>0</td>\n",
       "      <td>413265.268867</td>\n",
       "      <td>3265.268867</td>\n",
       "    </tr>\n",
       "    <tr>\n",
       "      <th>154</th>\n",
       "      <td>817000</td>\n",
       "      <td>2020</td>\n",
       "      <td>24000</td>\n",
       "      <td>190</td>\n",
       "      <td>1968</td>\n",
       "      <td>0</td>\n",
       "      <td>0</td>\n",
       "      <td>771374.656757</td>\n",
       "      <td>45625.343243</td>\n",
       "    </tr>\n",
       "    <tr>\n",
       "      <th>581</th>\n",
       "      <td>363000</td>\n",
       "      <td>2015</td>\n",
       "      <td>147000</td>\n",
       "      <td>177</td>\n",
       "      <td>1968</td>\n",
       "      <td>0</td>\n",
       "      <td>0</td>\n",
       "      <td>368454.775326</td>\n",
       "      <td>5454.775326</td>\n",
       "    </tr>\n",
       "    <tr>\n",
       "      <th>0</th>\n",
       "      <td>530000</td>\n",
       "      <td>2017</td>\n",
       "      <td>121000</td>\n",
       "      <td>150</td>\n",
       "      <td>1395</td>\n",
       "      <td>0</td>\n",
       "      <td>0</td>\n",
       "      <td>435394.850098</td>\n",
       "      <td>94605.149902</td>\n",
       "    </tr>\n",
       "    <tr>\n",
       "      <th>152</th>\n",
       "      <td>295000</td>\n",
       "      <td>2013</td>\n",
       "      <td>132000</td>\n",
       "      <td>126</td>\n",
       "      <td>1968</td>\n",
       "      <td>0</td>\n",
       "      <td>0</td>\n",
       "      <td>306508.042142</td>\n",
       "      <td>11508.042142</td>\n",
       "    </tr>\n",
       "    <tr>\n",
       "      <th>284</th>\n",
       "      <td>375000</td>\n",
       "      <td>2012</td>\n",
       "      <td>289000</td>\n",
       "      <td>177</td>\n",
       "      <td>1968</td>\n",
       "      <td>2</td>\n",
       "      <td>2</td>\n",
       "      <td>335252.054019</td>\n",
       "      <td>39747.945981</td>\n",
       "    </tr>\n",
       "    <tr>\n",
       "      <th>968</th>\n",
       "      <td>270000</td>\n",
       "      <td>2012</td>\n",
       "      <td>202000</td>\n",
       "      <td>143</td>\n",
       "      <td>1968</td>\n",
       "      <td>1</td>\n",
       "      <td>9</td>\n",
       "      <td>218106.086212</td>\n",
       "      <td>51893.913788</td>\n",
       "    </tr>\n",
       "    <tr>\n",
       "      <th>1241</th>\n",
       "      <td>394500</td>\n",
       "      <td>2012</td>\n",
       "      <td>332466</td>\n",
       "      <td>226</td>\n",
       "      <td>2501</td>\n",
       "      <td>0</td>\n",
       "      <td>0</td>\n",
       "      <td>336321.662576</td>\n",
       "      <td>58178.337424</td>\n",
       "    </tr>\n",
       "    <tr>\n",
       "      <th>520</th>\n",
       "      <td>455000</td>\n",
       "      <td>2011</td>\n",
       "      <td>248000</td>\n",
       "      <td>245</td>\n",
       "      <td>2967</td>\n",
       "      <td>0</td>\n",
       "      <td>0</td>\n",
       "      <td>465468.343781</td>\n",
       "      <td>10468.343781</td>\n",
       "    </tr>\n",
       "    <tr>\n",
       "      <th>1006</th>\n",
       "      <td>185000</td>\n",
       "      <td>2005</td>\n",
       "      <td>395000</td>\n",
       "      <td>233</td>\n",
       "      <td>2967</td>\n",
       "      <td>0</td>\n",
       "      <td>0</td>\n",
       "      <td>257050.992869</td>\n",
       "      <td>72050.992869</td>\n",
       "    </tr>\n",
       "    <tr>\n",
       "      <th>975</th>\n",
       "      <td>139500</td>\n",
       "      <td>2007</td>\n",
       "      <td>257000</td>\n",
       "      <td>102</td>\n",
       "      <td>1595</td>\n",
       "      <td>0</td>\n",
       "      <td>0</td>\n",
       "      <td>171104.523929</td>\n",
       "      <td>31604.523929</td>\n",
       "    </tr>\n",
       "    <tr>\n",
       "      <th>1034</th>\n",
       "      <td>465000</td>\n",
       "      <td>2015</td>\n",
       "      <td>180000</td>\n",
       "      <td>190</td>\n",
       "      <td>1968</td>\n",
       "      <td>0</td>\n",
       "      <td>0</td>\n",
       "      <td>481170.257936</td>\n",
       "      <td>16170.257936</td>\n",
       "    </tr>\n",
       "    <tr>\n",
       "      <th>1309</th>\n",
       "      <td>160000</td>\n",
       "      <td>2008</td>\n",
       "      <td>166000</td>\n",
       "      <td>125</td>\n",
       "      <td>1390</td>\n",
       "      <td>2</td>\n",
       "      <td>0</td>\n",
       "      <td>173041.078016</td>\n",
       "      <td>13041.078016</td>\n",
       "    </tr>\n",
       "    <tr>\n",
       "      <th>1027</th>\n",
       "      <td>499000</td>\n",
       "      <td>2015</td>\n",
       "      <td>194000</td>\n",
       "      <td>190</td>\n",
       "      <td>1968</td>\n",
       "      <td>0</td>\n",
       "      <td>0</td>\n",
       "      <td>498261.660131</td>\n",
       "      <td>738.339869</td>\n",
       "    </tr>\n",
       "    <tr>\n",
       "      <th>1185</th>\n",
       "      <td>345000</td>\n",
       "      <td>2014</td>\n",
       "      <td>107000</td>\n",
       "      <td>110</td>\n",
       "      <td>1598</td>\n",
       "      <td>0</td>\n",
       "      <td>0</td>\n",
       "      <td>322355.418421</td>\n",
       "      <td>22644.581579</td>\n",
       "    </tr>\n",
       "    <tr>\n",
       "      <th>1182</th>\n",
       "      <td>379500</td>\n",
       "      <td>2016</td>\n",
       "      <td>95000</td>\n",
       "      <td>110</td>\n",
       "      <td>1598</td>\n",
       "      <td>0</td>\n",
       "      <td>0</td>\n",
       "      <td>314069.414879</td>\n",
       "      <td>65430.585121</td>\n",
       "    </tr>\n",
       "    <tr>\n",
       "      <th>1107</th>\n",
       "      <td>124000</td>\n",
       "      <td>2006</td>\n",
       "      <td>250000</td>\n",
       "      <td>115</td>\n",
       "      <td>1595</td>\n",
       "      <td>4</td>\n",
       "      <td>8</td>\n",
       "      <td>89437.066896</td>\n",
       "      <td>34562.933104</td>\n",
       "    </tr>\n",
       "  </tbody>\n",
       "</table>\n",
       "</div>"
      ],
      "text/plain": [
       "       Fiyat   Yıl  Kilometre  Motor Gücü  Motor Hacmi  Boya  Değişen  \\\n",
       "1222  150000  2008     275000         102         1595     6        0   \n",
       "1145  347000  2013     200000         177         1968     0        0   \n",
       "787   321900  2017     134000         116         1598     0        0   \n",
       "361   243500  2011     151000         120         1798     3        0   \n",
       "86    298500  2013     229000         177         1968     1        2   \n",
       "323   490000  2020      24098         150         1498     0        0   \n",
       "110   175000  2006     255000         233         2967     0        0   \n",
       "1137  242000  2015     149000         110         1598     1        2   \n",
       "213   212500  2012     178000         105         1598     6        0   \n",
       "42    155000  2007     101000         102         1595     0        0   \n",
       "837   379500  2014     265000         190         1968     0        0   \n",
       "878   170000  2008     102161         125         1390     4        0   \n",
       "1261  179000  2009     203600         160         1798     0        0   \n",
       "1263  330000  2014     142000         150         1968     2        0   \n",
       "918   280000  2016     165000         110         1598     0        2   \n",
       "823   352000  2014     153000         110         1598     0        0   \n",
       "932   510000  2020       5000         150         1498     0        0   \n",
       "670   245000  2012     236000         176         1968     0        0   \n",
       "411   248000  2012     184000         176         1968     0        0   \n",
       "843    68000  1995     283000         150         1781    13        0   \n",
       "1319  425000  2016     118000         190         1968     2        0   \n",
       "307   299950  2016      88000         110         1598     0        0   \n",
       "671   188000  2008     231000         160         1798     1        0   \n",
       "49    275000  2010     214000         170         1968     1        0   \n",
       "1189  364900  2015     142000         177         1968     0        0   \n",
       "79    725000  2016     172000         190         1968     0        0   \n",
       "132   258500  2014     214000         105         1598     0        0   \n",
       "914   132500  2001     294000         150         1781     1        1   \n",
       "1086  385000  2014     178000         126         1968     0        0   \n",
       "192   320000  2013     183000         150         1968     0        0   \n",
       "365   169500  2004     179000         226         2501     0        0   \n",
       "56    287000  2014     150000         105         1598     2        2   \n",
       "637   185000  2011     195000         102         1595     1        2   \n",
       "953   410000  2012     161000         177         1968     0        0   \n",
       "154   817000  2020      24000         190         1968     0        0   \n",
       "581   363000  2015     147000         177         1968     0        0   \n",
       "0     530000  2017     121000         150         1395     0        0   \n",
       "152   295000  2013     132000         126         1968     0        0   \n",
       "284   375000  2012     289000         177         1968     2        2   \n",
       "968   270000  2012     202000         143         1968     1        9   \n",
       "1241  394500  2012     332466         226         2501     0        0   \n",
       "520   455000  2011     248000         245         2967     0        0   \n",
       "1006  185000  2005     395000         233         2967     0        0   \n",
       "975   139500  2007     257000         102         1595     0        0   \n",
       "1034  465000  2015     180000         190         1968     0        0   \n",
       "1309  160000  2008     166000         125         1390     2        0   \n",
       "1027  499000  2015     194000         190         1968     0        0   \n",
       "1185  345000  2014     107000         110         1598     0        0   \n",
       "1182  379500  2016      95000         110         1598     0        0   \n",
       "1107  124000  2006     250000         115         1595     4        8   \n",
       "\n",
       "             Tahmin           Fark  \n",
       "1222  170443.220030   20443.220030  \n",
       "1145  411616.380796   64616.380796  \n",
       "787   346124.968534   24224.968534  \n",
       "361   203433.387502   40066.612498  \n",
       "86    296407.275186    2092.724814  \n",
       "323   491721.142751    1721.142751  \n",
       "110   319077.196277  144077.196277  \n",
       "1137  275946.594327   33946.594327  \n",
       "213   211096.562593    1403.437407  \n",
       "42    176785.242498   21785.242498  \n",
       "837   460780.603718   81280.603718  \n",
       "878   193589.426509   23589.426509  \n",
       "1261  243268.557291   64268.557291  \n",
       "1263  302014.130494   27985.869506  \n",
       "918   305301.214387   25301.214387  \n",
       "823   305991.987091   46008.012909  \n",
       "932   498499.999949   11500.000051  \n",
       "670   356980.465603  111980.465603  \n",
       "411   375478.257541  127478.257541  \n",
       "843    24174.288133   43825.711867  \n",
       "1319  488981.614686   63981.614686  \n",
       "307   316559.502255   16609.502255  \n",
       "671   220216.741638   32216.741638  \n",
       "49    330214.824201   55214.824201  \n",
       "1189  370233.409166    5333.409166  \n",
       "79    718247.027054    6752.972946  \n",
       "132   237319.771395   21180.228605  \n",
       "914   109178.196108   23321.803892  \n",
       "1086  302369.066695   82630.933305  \n",
       "192   277365.769774   42634.230226  \n",
       "365   186922.545869   17422.545869  \n",
       "56    268086.853055   18913.146945  \n",
       "637   212909.925010   27909.925010  \n",
       "953   413265.268867    3265.268867  \n",
       "154   771374.656757   45625.343243  \n",
       "581   368454.775326    5454.775326  \n",
       "0     435394.850098   94605.149902  \n",
       "152   306508.042142   11508.042142  \n",
       "284   335252.054019   39747.945981  \n",
       "968   218106.086212   51893.913788  \n",
       "1241  336321.662576   58178.337424  \n",
       "520   465468.343781   10468.343781  \n",
       "1006  257050.992869   72050.992869  \n",
       "975   171104.523929   31604.523929  \n",
       "1034  481170.257936   16170.257936  \n",
       "1309  173041.078016   13041.078016  \n",
       "1027  498261.660131     738.339869  \n",
       "1185  322355.418421   22644.581579  \n",
       "1182  314069.414879   65430.585121  \n",
       "1107   89437.066896   34562.933104  "
      ]
     },
     "execution_count": 234,
     "metadata": {},
     "output_type": "execute_result"
    }
   ],
   "source": [
    "yeni = ds2.loc[y_test.head(50).index][[\"Fiyat\",\"Yıl\",\"Kilometre\",\"Motor Gücü\",\"Motor Hacmi\",\"Boya\",\"Değişen\"]]\n",
    "yeni[\"Tahmin\"] = pred[0:50]\n",
    "yeni[\"Fark\"] = (yeni.Tahmin - yeni.Fiyat).abs()\n",
    "yeni"
   ]
  },
  {
   "cell_type": "code",
   "execution_count": 29,
   "metadata": {},
   "outputs": [],
   "source": [
    "bst = xgb.XGBRegressor()"
   ]
  },
  {
   "cell_type": "code",
   "execution_count": 269,
   "metadata": {},
   "outputs": [
    {
     "data": {
      "text/html": [
       "<div>\n",
       "<style scoped>\n",
       "    .dataframe tbody tr th:only-of-type {\n",
       "        vertical-align: middle;\n",
       "    }\n",
       "\n",
       "    .dataframe tbody tr th {\n",
       "        vertical-align: top;\n",
       "    }\n",
       "\n",
       "    .dataframe thead th {\n",
       "        text-align: right;\n",
       "    }\n",
       "</style>\n",
       "<table border=\"1\" class=\"dataframe\">\n",
       "  <thead>\n",
       "    <tr style=\"text-align: right;\">\n",
       "      <th></th>\n",
       "      <th>Kolonlar</th>\n",
       "    </tr>\n",
       "  </thead>\n",
       "  <tbody>\n",
       "    <tr>\n",
       "      <th>0</th>\n",
       "      <td>530000,2017,150,1395,121000,0,0,1,0,0,0,0,1,0,...</td>\n",
       "    </tr>\n",
       "    <tr>\n",
       "      <th>1</th>\n",
       "      <td>365000,2013,177,1968,159000,1,7,0,1,0,0,1,0,0,...</td>\n",
       "    </tr>\n",
       "    <tr>\n",
       "      <th>2</th>\n",
       "      <td>99950,1998,101,1595,284000,0,0,0,0,1,1,0,0,0,1...</td>\n",
       "    </tr>\n",
       "    <tr>\n",
       "      <th>3</th>\n",
       "      <td>255900,2005,335,4163,179000,1,4,1,0,0,0,1,0,0,...</td>\n",
       "    </tr>\n",
       "    <tr>\n",
       "      <th>4</th>\n",
       "      <td>187500,2011,125,1390,168000,0,0,1,0,0,0,0,1,1,...</td>\n",
       "    </tr>\n",
       "    <tr>\n",
       "      <th>...</th>\n",
       "      <td>...</td>\n",
       "    </tr>\n",
       "    <tr>\n",
       "      <th>1355</th>\n",
       "      <td>119000,2005,115,1595,227000,3,0,0,0,1,1,0,0,1,...</td>\n",
       "    </tr>\n",
       "    <tr>\n",
       "      <th>1356</th>\n",
       "      <td>252000,2013,105,1598,188000,1,0,0,1,0,0,0,1,1,...</td>\n",
       "    </tr>\n",
       "    <tr>\n",
       "      <th>1357</th>\n",
       "      <td>135000,2006,140,1968,360000,9,0,0,1,0,0,1,0,0,...</td>\n",
       "    </tr>\n",
       "    <tr>\n",
       "      <th>1358</th>\n",
       "      <td>145000,2008,102,1595,211000,0,0,0,0,1,0,1,0,1,...</td>\n",
       "    </tr>\n",
       "    <tr>\n",
       "      <th>1359</th>\n",
       "      <td>397000,2017,110,1598,108000,2,0,0,1,0,0,0,1,1,...</td>\n",
       "    </tr>\n",
       "  </tbody>\n",
       "</table>\n",
       "<p>1360 rows × 1 columns</p>\n",
       "</div>"
      ],
      "text/plain": [
       "                                               Kolonlar\n",
       "0     530000,2017,150,1395,121000,0,0,1,0,0,0,0,1,0,...\n",
       "1     365000,2013,177,1968,159000,1,7,0,1,0,0,1,0,0,...\n",
       "2     99950,1998,101,1595,284000,0,0,0,0,1,1,0,0,0,1...\n",
       "3     255900,2005,335,4163,179000,1,4,1,0,0,0,1,0,0,...\n",
       "4     187500,2011,125,1390,168000,0,0,1,0,0,0,0,1,1,...\n",
       "...                                                 ...\n",
       "1355  119000,2005,115,1595,227000,3,0,0,0,1,1,0,0,1,...\n",
       "1356  252000,2013,105,1598,188000,1,0,0,1,0,0,0,1,1,...\n",
       "1357  135000,2006,140,1968,360000,9,0,0,1,0,0,1,0,0,...\n",
       "1358  145000,2008,102,1595,211000,0,0,0,0,1,0,1,0,1,...\n",
       "1359  397000,2017,110,1598,108000,2,0,0,1,0,0,0,1,1,...\n",
       "\n",
       "[1360 rows x 1 columns]"
      ]
     },
     "execution_count": 269,
     "metadata": {},
     "output_type": "execute_result"
    }
   ],
   "source": [
    "ds3 = ds2\n",
    "ds3 = ds3.astype(str)\n",
    "ds3['Kolonlar'] = ds3.apply(\",\".join,axis=1)\n",
    "ds3 = pnd.DataFrame(data = ds3.Kolonlar)\n",
    "ds3"
   ]
  },
  {
   "cell_type": "code",
   "execution_count": 270,
   "metadata": {},
   "outputs": [],
   "source": [
    "ds3.to_excel(\"Audi_Kolonlar.xlsx\")"
   ]
  },
  {
   "cell_type": "code",
   "execution_count": 30,
   "metadata": {},
   "outputs": [],
   "source": [
    "xgb_grid = {\n",
    "            'colsample_bytree':[0.4,0.5,0.6,1], \n",
    "            'n_estimators':[100,200,300,700], \n",
    "            'max_depth':[2,3,4,5], \n",
    "            'learning_rate':[0.1,0.01,0.2,0.5]\n",
    "           }"
   ]
  },
  {
   "cell_type": "code",
   "execution_count": 31,
   "metadata": {},
   "outputs": [],
   "source": [
    "bst_cv = GridSearchCV(bst,\n",
    "                     param_grid=xgb_grid,\n",
    "                     cv = 4,\n",
    "                     n_jobs = -1,\n",
    "                     verbose = 2)"
   ]
  },
  {
   "cell_type": "code",
   "execution_count": 235,
   "metadata": {
    "tags": []
   },
   "outputs": [
    {
     "name": "stdout",
     "output_type": "stream",
     "text": [
      "Fitting 4 folds for each of 256 candidates, totalling 1024 fits\n"
     ]
    }
   ],
   "source": [
    "bst_cv.fit(x_train,y_train)\n",
    "pred = bst_cv.predict(x_test)"
   ]
  },
  {
   "cell_type": "code",
   "execution_count": 33,
   "metadata": {},
   "outputs": [
    {
     "data": {
      "text/plain": [
       "{'colsample_bytree': 0.6,\n",
       " 'learning_rate': 0.01,\n",
       " 'max_depth': 2,\n",
       " 'n_estimators': 700}"
      ]
     },
     "execution_count": 33,
     "metadata": {},
     "output_type": "execute_result"
    }
   ],
   "source": [
    "bst_cv.best_params_"
   ]
  },
  {
   "cell_type": "code",
   "execution_count": 236,
   "metadata": {},
   "outputs": [],
   "source": [
    "xgb_tuned = xgb.XGBRegressor(colsample_bytree = 0.6,learning_rate = 0.01,max_depth = 4,n_estimators = 700)"
   ]
  },
  {
   "cell_type": "code",
   "execution_count": 237,
   "metadata": {},
   "outputs": [],
   "source": [
    "xgb_tuned.fit(x_train,y_train)\n",
    "pred = xgb_tuned.predict(x_test)"
   ]
  },
  {
   "cell_type": "code",
   "execution_count": 238,
   "metadata": {},
   "outputs": [
    {
     "data": {
      "text/plain": [
       "37059.73170955882"
      ]
     },
     "execution_count": 238,
     "metadata": {},
     "output_type": "execute_result"
    }
   ],
   "source": [
    "mean_absolute_error(y_test,pred)"
   ]
  },
  {
   "cell_type": "code",
   "execution_count": 281,
   "metadata": {
    "tags": []
   },
   "outputs": [
    {
     "data": {
      "text/html": [
       "<div>\n",
       "<style scoped>\n",
       "    .dataframe tbody tr th:only-of-type {\n",
       "        vertical-align: middle;\n",
       "    }\n",
       "\n",
       "    .dataframe tbody tr th {\n",
       "        vertical-align: top;\n",
       "    }\n",
       "\n",
       "    .dataframe thead th {\n",
       "        text-align: right;\n",
       "    }\n",
       "</style>\n",
       "<table border=\"1\" class=\"dataframe\">\n",
       "  <thead>\n",
       "    <tr style=\"text-align: right;\">\n",
       "      <th></th>\n",
       "      <th>Fiyat</th>\n",
       "      <th>Seri</th>\n",
       "      <th>Model</th>\n",
       "      <th>Yıl</th>\n",
       "      <th>Motor Gücü</th>\n",
       "      <th>Motor Hacmi</th>\n",
       "      <th>Kilometre</th>\n",
       "      <th>Boya</th>\n",
       "      <th>Değişen</th>\n",
       "      <th>Yakıt_Benzin</th>\n",
       "      <th>Yakıt_Dizel</th>\n",
       "      <th>Yakıt_LPG &amp; Benzin</th>\n",
       "      <th>Vites_Düz</th>\n",
       "      <th>Vites_Otomatik</th>\n",
       "      <th>Vites_Yarı Otomatik</th>\n",
       "    </tr>\n",
       "  </thead>\n",
       "  <tbody>\n",
       "    <tr>\n",
       "      <th>693</th>\n",
       "      <td>89000</td>\n",
       "      <td>A4</td>\n",
       "      <td>A4 Sedan 1.6</td>\n",
       "      <td>2000</td>\n",
       "      <td>102</td>\n",
       "      <td>1595</td>\n",
       "      <td>445000</td>\n",
       "      <td>0</td>\n",
       "      <td>0</td>\n",
       "      <td>0</td>\n",
       "      <td>0</td>\n",
       "      <td>1</td>\n",
       "      <td>1</td>\n",
       "      <td>0</td>\n",
       "      <td>0</td>\n",
       "    </tr>\n",
       "    <tr>\n",
       "      <th>1001</th>\n",
       "      <td>143900</td>\n",
       "      <td>A3</td>\n",
       "      <td>A3 Sportback 1.4 TFSI Ambition</td>\n",
       "      <td>2008</td>\n",
       "      <td>125</td>\n",
       "      <td>1390</td>\n",
       "      <td>172500</td>\n",
       "      <td>0</td>\n",
       "      <td>2</td>\n",
       "      <td>1</td>\n",
       "      <td>0</td>\n",
       "      <td>0</td>\n",
       "      <td>1</td>\n",
       "      <td>0</td>\n",
       "      <td>0</td>\n",
       "    </tr>\n",
       "    <tr>\n",
       "      <th>408</th>\n",
       "      <td>599000</td>\n",
       "      <td>A4</td>\n",
       "      <td>A4 Sedan 2.0 TDI Quattro Design</td>\n",
       "      <td>2016</td>\n",
       "      <td>190</td>\n",
       "      <td>1968</td>\n",
       "      <td>112376</td>\n",
       "      <td>0</td>\n",
       "      <td>0</td>\n",
       "      <td>0</td>\n",
       "      <td>1</td>\n",
       "      <td>0</td>\n",
       "      <td>0</td>\n",
       "      <td>0</td>\n",
       "      <td>1</td>\n",
       "    </tr>\n",
       "    <tr>\n",
       "      <th>800</th>\n",
       "      <td>790000</td>\n",
       "      <td>A5</td>\n",
       "      <td>A5 Coupe 2.0 TDI</td>\n",
       "      <td>2018</td>\n",
       "      <td>177</td>\n",
       "      <td>1968</td>\n",
       "      <td>118500</td>\n",
       "      <td>4</td>\n",
       "      <td>0</td>\n",
       "      <td>0</td>\n",
       "      <td>1</td>\n",
       "      <td>0</td>\n",
       "      <td>0</td>\n",
       "      <td>1</td>\n",
       "      <td>0</td>\n",
       "    </tr>\n",
       "    <tr>\n",
       "      <th>290</th>\n",
       "      <td>345000</td>\n",
       "      <td>A4</td>\n",
       "      <td>A4 Sedan 2.0 TDI</td>\n",
       "      <td>2014</td>\n",
       "      <td>150</td>\n",
       "      <td>1968</td>\n",
       "      <td>178000</td>\n",
       "      <td>0</td>\n",
       "      <td>0</td>\n",
       "      <td>0</td>\n",
       "      <td>1</td>\n",
       "      <td>0</td>\n",
       "      <td>0</td>\n",
       "      <td>1</td>\n",
       "      <td>0</td>\n",
       "    </tr>\n",
       "    <tr>\n",
       "      <th>1331</th>\n",
       "      <td>725000</td>\n",
       "      <td>A5</td>\n",
       "      <td>A5 Coupe 2.0 TDI Design</td>\n",
       "      <td>2018</td>\n",
       "      <td>190</td>\n",
       "      <td>1968</td>\n",
       "      <td>122782</td>\n",
       "      <td>0</td>\n",
       "      <td>0</td>\n",
       "      <td>0</td>\n",
       "      <td>1</td>\n",
       "      <td>0</td>\n",
       "      <td>0</td>\n",
       "      <td>0</td>\n",
       "      <td>1</td>\n",
       "    </tr>\n",
       "    <tr>\n",
       "      <th>272</th>\n",
       "      <td>346750</td>\n",
       "      <td>A3</td>\n",
       "      <td>A3 Sedan 1.6 TDI Ambition</td>\n",
       "      <td>2015</td>\n",
       "      <td>110</td>\n",
       "      <td>1598</td>\n",
       "      <td>99000</td>\n",
       "      <td>0</td>\n",
       "      <td>0</td>\n",
       "      <td>0</td>\n",
       "      <td>1</td>\n",
       "      <td>0</td>\n",
       "      <td>0</td>\n",
       "      <td>0</td>\n",
       "      <td>1</td>\n",
       "    </tr>\n",
       "  </tbody>\n",
       "</table>\n",
       "</div>"
      ],
      "text/plain": [
       "       Fiyat Seri                            Model   Yıl  Motor Gücü  \\\n",
       "693    89000   A4                     A4 Sedan 1.6  2000         102   \n",
       "1001  143900   A3   A3 Sportback 1.4 TFSI Ambition  2008         125   \n",
       "408   599000   A4  A4 Sedan 2.0 TDI Quattro Design  2016         190   \n",
       "800   790000   A5                 A5 Coupe 2.0 TDI  2018         177   \n",
       "290   345000   A4                 A4 Sedan 2.0 TDI  2014         150   \n",
       "1331  725000   A5          A5 Coupe 2.0 TDI Design  2018         190   \n",
       "272   346750   A3        A3 Sedan 1.6 TDI Ambition  2015         110   \n",
       "\n",
       "      Motor Hacmi  Kilometre  Boya  Değişen  Yakıt_Benzin  Yakıt_Dizel  \\\n",
       "693          1595     445000     0        0             0            0   \n",
       "1001         1390     172500     0        2             1            0   \n",
       "408          1968     112376     0        0             0            1   \n",
       "800          1968     118500     4        0             0            1   \n",
       "290          1968     178000     0        0             0            1   \n",
       "1331         1968     122782     0        0             0            1   \n",
       "272          1598      99000     0        0             0            1   \n",
       "\n",
       "      Yakıt_LPG & Benzin  Vites_Düz  Vites_Otomatik  Vites_Yarı Otomatik  \n",
       "693                    1          1               0                    0  \n",
       "1001                   0          1               0                    0  \n",
       "408                    0          0               0                    1  \n",
       "800                    0          0               1                    0  \n",
       "290                    0          0               1                    0  \n",
       "1331                   0          0               0                    1  \n",
       "272                    0          0               0                    1  "
      ]
     },
     "execution_count": 281,
     "metadata": {},
     "output_type": "execute_result"
    }
   ],
   "source": [
    "ds.loc[[693,1001,408,800,290,1331,272]]"
   ]
  },
  {
   "cell_type": "code",
   "execution_count": 280,
   "metadata": {
    "collapsed": true
   },
   "outputs": [
    {
     "data": {
      "text/plain": [
       "array([288859.38], dtype=float32)"
      ]
     },
     "execution_count": 280,
     "metadata": {},
     "output_type": "execute_result"
    }
   ],
   "source": [
    "xgb_tuned.predict(nmp.array([2015,110,1598,160000,1,1,0,1,0,0,0,1,1,0,0,0,0,0,0,0,0,0,0,0,0,0,0,1,0,0,0,0,0,0,0,0,0,0,0,0,0,0,0,0,0,0,0,0,0,0,0,0,0,0,0,0,0,0,0,0,0,0,0,0,0,0,0,0,0,0,0,0,0,0,0,0,0,0,0,0,0,0,0,0,0,0,0,0,0,0,0,0,0,0,0,0,0,0,0,0,0,0,0,0,0,0,0,0,0,0,0,0,0,0,0,0,0,0,0,0,0,0,0,0,0,0,0,0,0,0,0,0,0,0,0,0,0,0,0,0,0,0,0,0,0,0,0,0,0,0,0]).reshape(1,-1))   "
   ]
  },
  {
   "cell_type": "code",
   "execution_count": 275,
   "metadata": {
    "collapsed": true
   },
   "outputs": [
    {
     "ename": "ValueError",
     "evalue": "matmul: Input operand 1 has a mismatch in its core dimension 0, with gufunc signature (n?,k),(k,m?)->(n?,m?) (size 151 is different from 168)",
     "output_type": "error",
     "traceback": [
      "\u001b[1;31m---------------------------------------------------------------------------\u001b[0m",
      "\u001b[1;31mValueError\u001b[0m                                Traceback (most recent call last)",
      "\u001b[1;32m<ipython-input-275-37ebd8b3caaf>\u001b[0m in \u001b[0;36m<module>\u001b[1;34m\u001b[0m\n\u001b[1;32m----> 1\u001b[1;33m \u001b[0mmodel\u001b[0m\u001b[1;33m.\u001b[0m\u001b[0mpredict\u001b[0m\u001b[1;33m(\u001b[0m\u001b[1;33m[\u001b[0m\u001b[1;33m[\u001b[0m\u001b[1;36m2014\u001b[0m\u001b[1;33m,\u001b[0m\u001b[1;36m110\u001b[0m\u001b[1;33m,\u001b[0m\u001b[1;36m1598\u001b[0m\u001b[1;33m,\u001b[0m\u001b[1;36m175000\u001b[0m\u001b[1;33m,\u001b[0m\u001b[1;36m0\u001b[0m\u001b[1;33m,\u001b[0m\u001b[1;36m2\u001b[0m\u001b[1;33m,\u001b[0m\u001b[1;36m0\u001b[0m\u001b[1;33m,\u001b[0m\u001b[1;36m1\u001b[0m\u001b[1;33m,\u001b[0m\u001b[1;36m0\u001b[0m\u001b[1;33m,\u001b[0m\u001b[1;36m1\u001b[0m\u001b[1;33m,\u001b[0m\u001b[1;36m0\u001b[0m\u001b[1;33m,\u001b[0m\u001b[1;36m0\u001b[0m\u001b[1;33m,\u001b[0m\u001b[1;36m1\u001b[0m\u001b[1;33m,\u001b[0m\u001b[1;36m0\u001b[0m\u001b[1;33m,\u001b[0m\u001b[1;36m0\u001b[0m\u001b[1;33m,\u001b[0m\u001b[1;36m0\u001b[0m\u001b[1;33m,\u001b[0m\u001b[1;36m0\u001b[0m\u001b[1;33m,\u001b[0m\u001b[1;36m0\u001b[0m\u001b[1;33m,\u001b[0m\u001b[1;36m0\u001b[0m\u001b[1;33m,\u001b[0m\u001b[1;36m0\u001b[0m\u001b[1;33m,\u001b[0m\u001b[1;36m0\u001b[0m\u001b[1;33m,\u001b[0m\u001b[1;36m0\u001b[0m\u001b[1;33m,\u001b[0m\u001b[1;36m0\u001b[0m\u001b[1;33m,\u001b[0m\u001b[1;36m0\u001b[0m\u001b[1;33m,\u001b[0m\u001b[1;36m0\u001b[0m\u001b[1;33m,\u001b[0m\u001b[1;36m0\u001b[0m\u001b[1;33m,\u001b[0m\u001b[1;36m0\u001b[0m\u001b[1;33m,\u001b[0m\u001b[1;36m0\u001b[0m\u001b[1;33m,\u001b[0m\u001b[1;36m0\u001b[0m\u001b[1;33m,\u001b[0m\u001b[1;36m0\u001b[0m\u001b[1;33m,\u001b[0m\u001b[1;36m0\u001b[0m\u001b[1;33m,\u001b[0m\u001b[1;36m0\u001b[0m\u001b[1;33m,\u001b[0m\u001b[1;36m0\u001b[0m\u001b[1;33m,\u001b[0m\u001b[1;36m0\u001b[0m\u001b[1;33m,\u001b[0m\u001b[1;36m0\u001b[0m\u001b[1;33m,\u001b[0m\u001b[1;36m0\u001b[0m\u001b[1;33m,\u001b[0m\u001b[1;36m0\u001b[0m\u001b[1;33m,\u001b[0m\u001b[1;36m0\u001b[0m\u001b[1;33m,\u001b[0m\u001b[1;36m0\u001b[0m\u001b[1;33m,\u001b[0m\u001b[1;36m0\u001b[0m\u001b[1;33m,\u001b[0m\u001b[1;36m0\u001b[0m\u001b[1;33m,\u001b[0m\u001b[1;36m0\u001b[0m\u001b[1;33m,\u001b[0m\u001b[1;36m0\u001b[0m\u001b[1;33m,\u001b[0m\u001b[1;36m0\u001b[0m\u001b[1;33m,\u001b[0m\u001b[1;36m0\u001b[0m\u001b[1;33m,\u001b[0m\u001b[1;36m0\u001b[0m\u001b[1;33m,\u001b[0m\u001b[1;36m0\u001b[0m\u001b[1;33m,\u001b[0m\u001b[1;36m0\u001b[0m\u001b[1;33m,\u001b[0m\u001b[1;36m0\u001b[0m\u001b[1;33m,\u001b[0m\u001b[1;36m0\u001b[0m\u001b[1;33m,\u001b[0m\u001b[1;36m0\u001b[0m\u001b[1;33m,\u001b[0m\u001b[1;36m0\u001b[0m\u001b[1;33m,\u001b[0m\u001b[1;36m0\u001b[0m\u001b[1;33m,\u001b[0m\u001b[1;36m0\u001b[0m\u001b[1;33m,\u001b[0m\u001b[1;36m0\u001b[0m\u001b[1;33m,\u001b[0m\u001b[1;36m0\u001b[0m\u001b[1;33m,\u001b[0m\u001b[1;36m0\u001b[0m\u001b[1;33m,\u001b[0m\u001b[1;36m0\u001b[0m\u001b[1;33m,\u001b[0m\u001b[1;36m0\u001b[0m\u001b[1;33m,\u001b[0m\u001b[1;36m0\u001b[0m\u001b[1;33m,\u001b[0m\u001b[1;36m0\u001b[0m\u001b[1;33m,\u001b[0m\u001b[1;36m0\u001b[0m\u001b[1;33m,\u001b[0m\u001b[1;36m0\u001b[0m\u001b[1;33m,\u001b[0m\u001b[1;36m0\u001b[0m\u001b[1;33m,\u001b[0m\u001b[1;36m0\u001b[0m\u001b[1;33m,\u001b[0m\u001b[1;36m0\u001b[0m\u001b[1;33m,\u001b[0m\u001b[1;36m0\u001b[0m\u001b[1;33m,\u001b[0m\u001b[1;36m0\u001b[0m\u001b[1;33m,\u001b[0m\u001b[1;36m0\u001b[0m\u001b[1;33m,\u001b[0m\u001b[1;36m0\u001b[0m\u001b[1;33m,\u001b[0m\u001b[1;36m0\u001b[0m\u001b[1;33m,\u001b[0m\u001b[1;36m0\u001b[0m\u001b[1;33m,\u001b[0m\u001b[1;36m0\u001b[0m\u001b[1;33m,\u001b[0m\u001b[1;36m0\u001b[0m\u001b[1;33m,\u001b[0m\u001b[1;36m0\u001b[0m\u001b[1;33m,\u001b[0m\u001b[1;36m0\u001b[0m\u001b[1;33m,\u001b[0m\u001b[1;36m0\u001b[0m\u001b[1;33m,\u001b[0m\u001b[1;36m0\u001b[0m\u001b[1;33m,\u001b[0m\u001b[1;36m0\u001b[0m\u001b[1;33m,\u001b[0m\u001b[1;36m0\u001b[0m\u001b[1;33m,\u001b[0m\u001b[1;36m0\u001b[0m\u001b[1;33m,\u001b[0m\u001b[1;36m0\u001b[0m\u001b[1;33m,\u001b[0m\u001b[1;36m0\u001b[0m\u001b[1;33m,\u001b[0m\u001b[1;36m0\u001b[0m\u001b[1;33m,\u001b[0m\u001b[1;36m0\u001b[0m\u001b[1;33m,\u001b[0m\u001b[1;36m0\u001b[0m\u001b[1;33m,\u001b[0m\u001b[1;36m0\u001b[0m\u001b[1;33m,\u001b[0m\u001b[1;36m0\u001b[0m\u001b[1;33m,\u001b[0m\u001b[1;36m0\u001b[0m\u001b[1;33m,\u001b[0m\u001b[1;36m0\u001b[0m\u001b[1;33m,\u001b[0m\u001b[1;36m0\u001b[0m\u001b[1;33m,\u001b[0m\u001b[1;36m0\u001b[0m\u001b[1;33m,\u001b[0m\u001b[1;36m0\u001b[0m\u001b[1;33m,\u001b[0m\u001b[1;36m0\u001b[0m\u001b[1;33m,\u001b[0m\u001b[1;36m0\u001b[0m\u001b[1;33m,\u001b[0m\u001b[1;36m0\u001b[0m\u001b[1;33m,\u001b[0m\u001b[1;36m0\u001b[0m\u001b[1;33m,\u001b[0m\u001b[1;36m0\u001b[0m\u001b[1;33m,\u001b[0m\u001b[1;36m0\u001b[0m\u001b[1;33m,\u001b[0m\u001b[1;36m0\u001b[0m\u001b[1;33m,\u001b[0m\u001b[1;36m0\u001b[0m\u001b[1;33m,\u001b[0m\u001b[1;36m0\u001b[0m\u001b[1;33m,\u001b[0m\u001b[1;36m1\u001b[0m\u001b[1;33m,\u001b[0m\u001b[1;36m0\u001b[0m\u001b[1;33m,\u001b[0m\u001b[1;36m0\u001b[0m\u001b[1;33m,\u001b[0m\u001b[1;36m0\u001b[0m\u001b[1;33m,\u001b[0m\u001b[1;36m0\u001b[0m\u001b[1;33m,\u001b[0m\u001b[1;36m0\u001b[0m\u001b[1;33m,\u001b[0m\u001b[1;36m0\u001b[0m\u001b[1;33m,\u001b[0m\u001b[1;36m0\u001b[0m\u001b[1;33m,\u001b[0m\u001b[1;36m0\u001b[0m\u001b[1;33m,\u001b[0m\u001b[1;36m0\u001b[0m\u001b[1;33m,\u001b[0m\u001b[1;36m0\u001b[0m\u001b[1;33m,\u001b[0m\u001b[1;36m0\u001b[0m\u001b[1;33m,\u001b[0m\u001b[1;36m0\u001b[0m\u001b[1;33m,\u001b[0m\u001b[1;36m0\u001b[0m\u001b[1;33m,\u001b[0m\u001b[1;36m0\u001b[0m\u001b[1;33m,\u001b[0m\u001b[1;36m0\u001b[0m\u001b[1;33m,\u001b[0m\u001b[1;36m0\u001b[0m\u001b[1;33m,\u001b[0m\u001b[1;36m0\u001b[0m\u001b[1;33m,\u001b[0m\u001b[1;36m0\u001b[0m\u001b[1;33m,\u001b[0m\u001b[1;36m0\u001b[0m\u001b[1;33m,\u001b[0m\u001b[1;36m0\u001b[0m\u001b[1;33m,\u001b[0m\u001b[1;36m0\u001b[0m\u001b[1;33m,\u001b[0m\u001b[1;36m0\u001b[0m\u001b[1;33m,\u001b[0m\u001b[1;36m0\u001b[0m\u001b[1;33m,\u001b[0m\u001b[1;36m0\u001b[0m\u001b[1;33m,\u001b[0m\u001b[1;36m0\u001b[0m\u001b[1;33m,\u001b[0m\u001b[1;36m0\u001b[0m\u001b[1;33m,\u001b[0m\u001b[1;36m0\u001b[0m\u001b[1;33m,\u001b[0m\u001b[1;36m0\u001b[0m\u001b[1;33m,\u001b[0m\u001b[1;36m0\u001b[0m\u001b[1;33m,\u001b[0m\u001b[1;36m0\u001b[0m\u001b[1;33m,\u001b[0m\u001b[1;36m0\u001b[0m\u001b[1;33m,\u001b[0m\u001b[1;36m0\u001b[0m\u001b[1;33m,\u001b[0m\u001b[1;36m0\u001b[0m\u001b[1;33m,\u001b[0m\u001b[1;36m0\u001b[0m\u001b[1;33m,\u001b[0m\u001b[1;36m0\u001b[0m\u001b[1;33m,\u001b[0m\u001b[1;36m0\u001b[0m\u001b[1;33m,\u001b[0m\u001b[1;36m0\u001b[0m\u001b[1;33m,\u001b[0m\u001b[1;36m0\u001b[0m\u001b[1;33m,\u001b[0m\u001b[1;36m0\u001b[0m\u001b[1;33m,\u001b[0m\u001b[1;36m0\u001b[0m\u001b[1;33m,\u001b[0m\u001b[1;36m0\u001b[0m\u001b[1;33m,\u001b[0m\u001b[1;36m0\u001b[0m\u001b[1;33m,\u001b[0m\u001b[1;36m0\u001b[0m\u001b[1;33m,\u001b[0m\u001b[1;36m0\u001b[0m\u001b[1;33m,\u001b[0m\u001b[1;36m0\u001b[0m\u001b[1;33m,\u001b[0m\u001b[1;36m0\u001b[0m\u001b[1;33m,\u001b[0m\u001b[1;36m0\u001b[0m\u001b[1;33m,\u001b[0m\u001b[1;36m0\u001b[0m\u001b[1;33m,\u001b[0m\u001b[1;36m0\u001b[0m\u001b[1;33m,\u001b[0m\u001b[1;36m0\u001b[0m\u001b[1;33m,\u001b[0m\u001b[1;36m0\u001b[0m\u001b[1;33m,\u001b[0m\u001b[1;36m0\u001b[0m\u001b[1;33m,\u001b[0m\u001b[1;36m0\u001b[0m\u001b[1;33m,\u001b[0m\u001b[1;36m0\u001b[0m\u001b[1;33m,\u001b[0m\u001b[1;36m0\u001b[0m\u001b[1;33m,\u001b[0m\u001b[1;36m0\u001b[0m\u001b[1;33m,\u001b[0m\u001b[1;36m0\u001b[0m\u001b[1;33m,\u001b[0m\u001b[1;36m0\u001b[0m\u001b[1;33m,\u001b[0m\u001b[1;36m0\u001b[0m\u001b[1;33m,\u001b[0m\u001b[1;36m0\u001b[0m\u001b[1;33m,\u001b[0m\u001b[1;36m0\u001b[0m\u001b[1;33m,\u001b[0m\u001b[1;36m0\u001b[0m\u001b[1;33m,\u001b[0m\u001b[1;36m0\u001b[0m\u001b[1;33m,\u001b[0m\u001b[1;36m0\u001b[0m\u001b[1;33m,\u001b[0m\u001b[1;36m0\u001b[0m\u001b[1;33m]\u001b[0m\u001b[1;33m]\u001b[0m\u001b[1;33m)\u001b[0m\u001b[1;33m\u001b[0m\u001b[1;33m\u001b[0m\u001b[0m\n\u001b[0m",
      "\u001b[1;32m~\\anaconda3\\lib\\site-packages\\sklearn\\linear_model\\_base.py\u001b[0m in \u001b[0;36mpredict\u001b[1;34m(self, X)\u001b[0m\n\u001b[0;32m    236\u001b[0m             \u001b[0mReturns\u001b[0m \u001b[0mpredicted\u001b[0m \u001b[0mvalues\u001b[0m\u001b[1;33m.\u001b[0m\u001b[1;33m\u001b[0m\u001b[1;33m\u001b[0m\u001b[0m\n\u001b[0;32m    237\u001b[0m         \"\"\"\n\u001b[1;32m--> 238\u001b[1;33m         \u001b[1;32mreturn\u001b[0m \u001b[0mself\u001b[0m\u001b[1;33m.\u001b[0m\u001b[0m_decision_function\u001b[0m\u001b[1;33m(\u001b[0m\u001b[0mX\u001b[0m\u001b[1;33m)\u001b[0m\u001b[1;33m\u001b[0m\u001b[1;33m\u001b[0m\u001b[0m\n\u001b[0m\u001b[0;32m    239\u001b[0m \u001b[1;33m\u001b[0m\u001b[0m\n\u001b[0;32m    240\u001b[0m     \u001b[0m_preprocess_data\u001b[0m \u001b[1;33m=\u001b[0m \u001b[0mstaticmethod\u001b[0m\u001b[1;33m(\u001b[0m\u001b[0m_preprocess_data\u001b[0m\u001b[1;33m)\u001b[0m\u001b[1;33m\u001b[0m\u001b[1;33m\u001b[0m\u001b[0m\n",
      "\u001b[1;32m~\\anaconda3\\lib\\site-packages\\sklearn\\linear_model\\_base.py\u001b[0m in \u001b[0;36m_decision_function\u001b[1;34m(self, X)\u001b[0m\n\u001b[0;32m    219\u001b[0m \u001b[1;33m\u001b[0m\u001b[0m\n\u001b[0;32m    220\u001b[0m         \u001b[0mX\u001b[0m \u001b[1;33m=\u001b[0m \u001b[0mcheck_array\u001b[0m\u001b[1;33m(\u001b[0m\u001b[0mX\u001b[0m\u001b[1;33m,\u001b[0m \u001b[0maccept_sparse\u001b[0m\u001b[1;33m=\u001b[0m\u001b[1;33m[\u001b[0m\u001b[1;34m'csr'\u001b[0m\u001b[1;33m,\u001b[0m \u001b[1;34m'csc'\u001b[0m\u001b[1;33m,\u001b[0m \u001b[1;34m'coo'\u001b[0m\u001b[1;33m]\u001b[0m\u001b[1;33m)\u001b[0m\u001b[1;33m\u001b[0m\u001b[1;33m\u001b[0m\u001b[0m\n\u001b[1;32m--> 221\u001b[1;33m         return safe_sparse_dot(X, self.coef_.T,\n\u001b[0m\u001b[0;32m    222\u001b[0m                                dense_output=True) + self.intercept_\n\u001b[0;32m    223\u001b[0m \u001b[1;33m\u001b[0m\u001b[0m\n",
      "\u001b[1;32m~\\anaconda3\\lib\\site-packages\\sklearn\\utils\\validation.py\u001b[0m in \u001b[0;36minner_f\u001b[1;34m(*args, **kwargs)\u001b[0m\n\u001b[0;32m     61\u001b[0m             \u001b[0mextra_args\u001b[0m \u001b[1;33m=\u001b[0m \u001b[0mlen\u001b[0m\u001b[1;33m(\u001b[0m\u001b[0margs\u001b[0m\u001b[1;33m)\u001b[0m \u001b[1;33m-\u001b[0m \u001b[0mlen\u001b[0m\u001b[1;33m(\u001b[0m\u001b[0mall_args\u001b[0m\u001b[1;33m)\u001b[0m\u001b[1;33m\u001b[0m\u001b[1;33m\u001b[0m\u001b[0m\n\u001b[0;32m     62\u001b[0m             \u001b[1;32mif\u001b[0m \u001b[0mextra_args\u001b[0m \u001b[1;33m<=\u001b[0m \u001b[1;36m0\u001b[0m\u001b[1;33m:\u001b[0m\u001b[1;33m\u001b[0m\u001b[1;33m\u001b[0m\u001b[0m\n\u001b[1;32m---> 63\u001b[1;33m                 \u001b[1;32mreturn\u001b[0m \u001b[0mf\u001b[0m\u001b[1;33m(\u001b[0m\u001b[1;33m*\u001b[0m\u001b[0margs\u001b[0m\u001b[1;33m,\u001b[0m \u001b[1;33m**\u001b[0m\u001b[0mkwargs\u001b[0m\u001b[1;33m)\u001b[0m\u001b[1;33m\u001b[0m\u001b[1;33m\u001b[0m\u001b[0m\n\u001b[0m\u001b[0;32m     64\u001b[0m \u001b[1;33m\u001b[0m\u001b[0m\n\u001b[0;32m     65\u001b[0m             \u001b[1;31m# extra_args > 0\u001b[0m\u001b[1;33m\u001b[0m\u001b[1;33m\u001b[0m\u001b[1;33m\u001b[0m\u001b[0m\n",
      "\u001b[1;32m~\\anaconda3\\lib\\site-packages\\sklearn\\utils\\extmath.py\u001b[0m in \u001b[0;36msafe_sparse_dot\u001b[1;34m(a, b, dense_output)\u001b[0m\n\u001b[0;32m    150\u001b[0m             \u001b[0mret\u001b[0m \u001b[1;33m=\u001b[0m \u001b[0mnp\u001b[0m\u001b[1;33m.\u001b[0m\u001b[0mdot\u001b[0m\u001b[1;33m(\u001b[0m\u001b[0ma\u001b[0m\u001b[1;33m,\u001b[0m \u001b[0mb\u001b[0m\u001b[1;33m)\u001b[0m\u001b[1;33m\u001b[0m\u001b[1;33m\u001b[0m\u001b[0m\n\u001b[0;32m    151\u001b[0m     \u001b[1;32melse\u001b[0m\u001b[1;33m:\u001b[0m\u001b[1;33m\u001b[0m\u001b[1;33m\u001b[0m\u001b[0m\n\u001b[1;32m--> 152\u001b[1;33m         \u001b[0mret\u001b[0m \u001b[1;33m=\u001b[0m \u001b[0ma\u001b[0m \u001b[1;33m@\u001b[0m \u001b[0mb\u001b[0m\u001b[1;33m\u001b[0m\u001b[1;33m\u001b[0m\u001b[0m\n\u001b[0m\u001b[0;32m    153\u001b[0m \u001b[1;33m\u001b[0m\u001b[0m\n\u001b[0;32m    154\u001b[0m     if (sparse.issparse(a) and sparse.issparse(b)\n",
      "\u001b[1;31mValueError\u001b[0m: matmul: Input operand 1 has a mismatch in its core dimension 0, with gufunc signature (n?,k),(k,m?)->(n?,m?) (size 151 is different from 168)"
     ]
    }
   ],
   "source": [
    "model.predict([[2014,110,1598,175000,0,2,0,1,0,1,0,0,1,0,0,0,0,0,0,0,0,0,0,0,0,0,0,0,0,0,0,0,0,0,0,0,0,0,0,0,0,0,0,0,0,0,0,0,0,0,0,0,0,0,0,0,0,0,0,0,0,0,0,0,0,0,0,0,0,0,0,0,0,0,0,0,0,0,0,0,0,0,0,0,0,0,0,0,0,0,0,0,0,0,0,0,0,0,0,0,0,0,1,0,0,0,0,0,0,0,0,0,0,0,0,0,0,0,0,0,0,0,0,0,0,0,0,0,0,0,0,0,0,0,0,0,0,0,0,0,0,0,0,0,0,0,0,0,0,0,0,0,0,0,0,0,0,0,0,0,0,0,0,0,0,0,0,0]])"
   ]
  },
  {
   "cell_type": "code",
   "execution_count": null,
   "metadata": {},
   "outputs": [],
   "source": []
  }
 ],
 "metadata": {
  "kernelspec": {
   "display_name": "Python 3",
   "language": "python",
   "name": "python3"
  },
  "language_info": {
   "codemirror_mode": {
    "name": "ipython",
    "version": 3
   },
   "file_extension": ".py",
   "mimetype": "text/x-python",
   "name": "python",
   "nbconvert_exporter": "python",
   "pygments_lexer": "ipython3",
   "version": "3.8.3"
  }
 },
 "nbformat": 4,
 "nbformat_minor": 5
}
