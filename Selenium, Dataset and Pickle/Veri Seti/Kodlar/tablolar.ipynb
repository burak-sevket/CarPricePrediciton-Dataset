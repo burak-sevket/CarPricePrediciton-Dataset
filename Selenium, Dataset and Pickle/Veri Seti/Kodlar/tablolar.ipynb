{
 "cells": [
  {
   "cell_type": "code",
   "execution_count": 14,
   "metadata": {},
   "outputs": [],
   "source": [
    "import pandas as pd\n",
    "from matplotlib import pyplot as plt"
   ]
  },
  {
   "cell_type": "code",
   "execution_count": 15,
   "metadata": {},
   "outputs": [],
   "source": [
    "data = pd.read_excel(\"Arabalar.xlsx\")\n",
    "data.drop(\"Unnamed: 0\",axis=1,inplace=True)"
   ]
  },
  {
   "cell_type": "code",
   "execution_count": 3,
   "metadata": {
    "scrolled": true
   },
   "outputs": [
    {
     "data": {
      "text/html": [
       "<div>\n",
       "<style scoped>\n",
       "    .dataframe tbody tr th:only-of-type {\n",
       "        vertical-align: middle;\n",
       "    }\n",
       "\n",
       "    .dataframe tbody tr th {\n",
       "        vertical-align: top;\n",
       "    }\n",
       "\n",
       "    .dataframe thead th {\n",
       "        text-align: right;\n",
       "    }\n",
       "</style>\n",
       "<table border=\"1\" class=\"dataframe\">\n",
       "  <thead>\n",
       "    <tr style=\"text-align: right;\">\n",
       "      <th></th>\n",
       "      <th>Fiyat</th>\n",
       "      <th>Marka</th>\n",
       "      <th>Seri</th>\n",
       "      <th>Model</th>\n",
       "      <th>Yıl</th>\n",
       "      <th>Yakıt Tipi</th>\n",
       "      <th>Vites Tipi</th>\n",
       "      <th>Motor Gücü</th>\n",
       "      <th>Motor Hacmi</th>\n",
       "      <th>Kilometre</th>\n",
       "      <th>Boya</th>\n",
       "      <th>Değişen</th>\n",
       "    </tr>\n",
       "  </thead>\n",
       "  <tbody>\n",
       "    <tr>\n",
       "      <th>0</th>\n",
       "      <td>68000</td>\n",
       "      <td>Alfa Romeo</td>\n",
       "      <td>156</td>\n",
       "      <td>2.0 TS</td>\n",
       "      <td>1998</td>\n",
       "      <td>LPG &amp; Benzin</td>\n",
       "      <td>Düz</td>\n",
       "      <td>155</td>\n",
       "      <td>1970</td>\n",
       "      <td>400000</td>\n",
       "      <td>13</td>\n",
       "      <td>0</td>\n",
       "    </tr>\n",
       "    <tr>\n",
       "      <th>1</th>\n",
       "      <td>423000</td>\n",
       "      <td>Alfa Romeo</td>\n",
       "      <td>Giulietta</td>\n",
       "      <td>1.4 TB MultiAir Super TCT</td>\n",
       "      <td>2017</td>\n",
       "      <td>Benzin</td>\n",
       "      <td>Otomatik</td>\n",
       "      <td>170</td>\n",
       "      <td>1368</td>\n",
       "      <td>63000</td>\n",
       "      <td>0</td>\n",
       "      <td>0</td>\n",
       "    </tr>\n",
       "    <tr>\n",
       "      <th>2</th>\n",
       "      <td>72500</td>\n",
       "      <td>Alfa Romeo</td>\n",
       "      <td>156</td>\n",
       "      <td>2.0 TS</td>\n",
       "      <td>1998</td>\n",
       "      <td>LPG &amp; Benzin</td>\n",
       "      <td>Düz</td>\n",
       "      <td>155</td>\n",
       "      <td>1970</td>\n",
       "      <td>289766</td>\n",
       "      <td>6</td>\n",
       "      <td>0</td>\n",
       "    </tr>\n",
       "    <tr>\n",
       "      <th>3</th>\n",
       "      <td>89000</td>\n",
       "      <td>Alfa Romeo</td>\n",
       "      <td>156</td>\n",
       "      <td>1.6 TS Progression</td>\n",
       "      <td>2004</td>\n",
       "      <td>LPG &amp; Benzin</td>\n",
       "      <td>Düz</td>\n",
       "      <td>120</td>\n",
       "      <td>1598</td>\n",
       "      <td>298000</td>\n",
       "      <td>1</td>\n",
       "      <td>13</td>\n",
       "    </tr>\n",
       "    <tr>\n",
       "      <th>4</th>\n",
       "      <td>160000</td>\n",
       "      <td>Alfa Romeo</td>\n",
       "      <td>156</td>\n",
       "      <td>1.6 TS Distinctive</td>\n",
       "      <td>2005</td>\n",
       "      <td>LPG &amp; Benzin</td>\n",
       "      <td>Düz</td>\n",
       "      <td>120</td>\n",
       "      <td>1598</td>\n",
       "      <td>175000</td>\n",
       "      <td>0</td>\n",
       "      <td>0</td>\n",
       "    </tr>\n",
       "    <tr>\n",
       "      <th>5</th>\n",
       "      <td>175000</td>\n",
       "      <td>Alfa Romeo</td>\n",
       "      <td>156</td>\n",
       "      <td>1.6 TS Distinctive</td>\n",
       "      <td>2006</td>\n",
       "      <td>Benzin</td>\n",
       "      <td>Düz</td>\n",
       "      <td>120</td>\n",
       "      <td>1598</td>\n",
       "      <td>126000</td>\n",
       "      <td>9</td>\n",
       "      <td>0</td>\n",
       "    </tr>\n",
       "    <tr>\n",
       "      <th>6</th>\n",
       "      <td>65000</td>\n",
       "      <td>Alfa Romeo</td>\n",
       "      <td>156</td>\n",
       "      <td>1.6 TS</td>\n",
       "      <td>1998</td>\n",
       "      <td>LPG &amp; Benzin</td>\n",
       "      <td>Düz</td>\n",
       "      <td>120</td>\n",
       "      <td>1598</td>\n",
       "      <td>234000</td>\n",
       "      <td>13</td>\n",
       "      <td>0</td>\n",
       "    </tr>\n",
       "    <tr>\n",
       "      <th>7</th>\n",
       "      <td>95000</td>\n",
       "      <td>Alfa Romeo</td>\n",
       "      <td>156</td>\n",
       "      <td>2.0 TS Executive</td>\n",
       "      <td>1999</td>\n",
       "      <td>LPG &amp; Benzin</td>\n",
       "      <td>Düz</td>\n",
       "      <td>155</td>\n",
       "      <td>1970</td>\n",
       "      <td>283000</td>\n",
       "      <td>0</td>\n",
       "      <td>0</td>\n",
       "    </tr>\n",
       "    <tr>\n",
       "      <th>8</th>\n",
       "      <td>383000</td>\n",
       "      <td>Alfa Romeo</td>\n",
       "      <td>Giulietta</td>\n",
       "      <td>1.6 JTD Super TCT</td>\n",
       "      <td>2017</td>\n",
       "      <td>Dizel</td>\n",
       "      <td>Otomatik</td>\n",
       "      <td>120</td>\n",
       "      <td>1598</td>\n",
       "      <td>76500</td>\n",
       "      <td>0</td>\n",
       "      <td>0</td>\n",
       "    </tr>\n",
       "    <tr>\n",
       "      <th>9</th>\n",
       "      <td>115000</td>\n",
       "      <td>Alfa Romeo</td>\n",
       "      <td>147</td>\n",
       "      <td>1.6 TS Distinctive</td>\n",
       "      <td>2004</td>\n",
       "      <td>Benzin</td>\n",
       "      <td>Düz</td>\n",
       "      <td>120</td>\n",
       "      <td>1598</td>\n",
       "      <td>202000</td>\n",
       "      <td>2</td>\n",
       "      <td>10</td>\n",
       "    </tr>\n",
       "  </tbody>\n",
       "</table>\n",
       "</div>"
      ],
      "text/plain": [
       "    Fiyat       Marka       Seri                      Model   Yıl  \\\n",
       "0   68000  Alfa Romeo        156                     2.0 TS  1998   \n",
       "1  423000  Alfa Romeo  Giulietta  1.4 TB MultiAir Super TCT  2017   \n",
       "2   72500  Alfa Romeo        156                     2.0 TS  1998   \n",
       "3   89000  Alfa Romeo        156         1.6 TS Progression  2004   \n",
       "4  160000  Alfa Romeo        156         1.6 TS Distinctive  2005   \n",
       "5  175000  Alfa Romeo        156         1.6 TS Distinctive  2006   \n",
       "6   65000  Alfa Romeo        156                     1.6 TS  1998   \n",
       "7   95000  Alfa Romeo        156           2.0 TS Executive  1999   \n",
       "8  383000  Alfa Romeo  Giulietta          1.6 JTD Super TCT  2017   \n",
       "9  115000  Alfa Romeo        147         1.6 TS Distinctive  2004   \n",
       "\n",
       "     Yakıt Tipi Vites Tipi  Motor Gücü  Motor Hacmi  Kilometre  Boya  Değişen  \n",
       "0  LPG & Benzin        Düz         155         1970     400000    13        0  \n",
       "1        Benzin   Otomatik         170         1368      63000     0        0  \n",
       "2  LPG & Benzin        Düz         155         1970     289766     6        0  \n",
       "3  LPG & Benzin        Düz         120         1598     298000     1       13  \n",
       "4  LPG & Benzin        Düz         120         1598     175000     0        0  \n",
       "5        Benzin        Düz         120         1598     126000     9        0  \n",
       "6  LPG & Benzin        Düz         120         1598     234000    13        0  \n",
       "7  LPG & Benzin        Düz         155         1970     283000     0        0  \n",
       "8         Dizel   Otomatik         120         1598      76500     0        0  \n",
       "9        Benzin        Düz         120         1598     202000     2       10  "
      ]
     },
     "execution_count": 3,
     "metadata": {},
     "output_type": "execute_result"
    }
   ],
   "source": [
    "data.head(10)"
   ]
  },
  {
   "cell_type": "code",
   "execution_count": 5,
   "metadata": {},
   "outputs": [],
   "source": [
    "import seaborn as sns"
   ]
  },
  {
   "cell_type": "code",
   "execution_count": 8,
   "metadata": {},
   "outputs": [],
   "source": [
    "corr = data.corr()"
   ]
  },
  {
   "cell_type": "code",
   "execution_count": 9,
   "metadata": {},
   "outputs": [
    {
     "data": {
      "text/plain": [
       "<matplotlib.axes._subplots.AxesSubplot at 0x2c239337d60>"
      ]
     },
     "execution_count": 9,
     "metadata": {},
     "output_type": "execute_result"
    },
    {
     "data": {
      "image/png": "[encoded data removed]",
      "text/plain": [
       "<Figure size 432x288 with 2 Axes>"
      ]
     },
     "metadata": {
      "needs_background": "light"
     },
     "output_type": "display_data"
    }
   ],
   "source": [
    "sns.heatmap(corr)"
   ]
  },
  {
   "cell_type": "code",
   "execution_count": 10,
   "metadata": {},
   "outputs": [
    {
     "data": {
      "text/plain": [
       "<matplotlib.axes._subplots.AxesSubplot at 0x2c2394eba60>"
      ]
     },
     "execution_count": 10,
     "metadata": {},
     "output_type": "execute_result"
    },
    {
     "data": {
      "image/png": "[encoded data removed]",
      "text/plain": [
       "<Figure size 432x288 with 1 Axes>"
      ]
     },
     "metadata": {
      "needs_background": "light"
     },
     "output_type": "display_data"
    }
   ],
   "source": [
    "data[\"Vites Tipi\"].value_counts().plot.bar()"
   ]
  },
  {
   "cell_type": "code",
   "execution_count": 20,
   "metadata": {},
   "outputs": [
    {
     "data": {
      "text/plain": [
       "<matplotlib.axes._subplots.AxesSubplot at 0x2cefed5a850>"
      ]
     },
     "execution_count": 20,
     "metadata": {},
     "output_type": "execute_result"
    },
    {
     "data": {
      "image/png": "[encoded data removed]",
      "text/plain": [
       "<Figure size 1080x720 with 1 Axes>"
      ]
     },
     "metadata": {
      "needs_background": "light"
     },
     "output_type": "display_data"
    }
   ],
   "source": [
    "data[\"Yıl\"].value_counts().plot.bar(color=\"red\", figsize=(15,10))"
   ]
  },
  {
   "cell_type": "code",
   "execution_count": 5,
   "metadata": {},
   "outputs": [
    {
     "data": {
      "text/plain": [
       "<matplotlib.axes._subplots.AxesSubplot at 0x2e07c535340>"
      ]
     },
     "execution_count": 5,
     "metadata": {},
     "output_type": "execute_result"
    },
    {
     "data": {
      "image/png": "[encoded data removed]",
      "text/plain": [
       "<Figure size 1080x576 with 1 Axes>"
      ]
     },
     "metadata": {
      "needs_background": "light"
     },
     "output_type": "display_data"
    }
   ],
   "source": [
    "data[\"Marka\"].value_counts().plot.bar(color=\"gray\", figsize=(15,8))"
   ]
  },
  {
   "cell_type": "code",
   "execution_count": 17,
   "metadata": {},
   "outputs": [
    {
     "data": {
      "text/plain": [
       "Text(0.5, 1.0, 'Audi Branded Vehicle-Series Number Before Regulation')"
      ]
     },
     "execution_count": 17,
     "metadata": {},
     "output_type": "execute_result"
    },
    {
     "data": {
      "image/png": "[encoded data removed]",
      "text/plain": [
       "<Figure size 432x288 with 1 Axes>"
      ]
     },
     "metadata": {
      "needs_background": "light"
     },
     "output_type": "display_data"
    }
   ],
   "source": [
    "data[data[\"Marka\"] == \"Audi\"].Seri.value_counts().plot.barh()\n",
    "plt.title(\"Audi Branded Vehicle-Series Number Before Regulation\")"
   ]
  },
  {
   "cell_type": "code",
   "execution_count": null,
   "metadata": {},
   "outputs": [],
   "source": []
  }
 ],
 "metadata": {
  "kernelspec": {
   "display_name": "Python 3",
   "language": "python",
   "name": "python3"
  },
  "language_info": {
   "codemirror_mode": {
    "name": "ipython",
    "version": 3
   },
   "file_extension": ".py",
   "mimetype": "text/x-python",
   "name": "python",
   "nbconvert_exporter": "python",
   "pygments_lexer": "ipython3",
   "version": "3.8.3"
  }
 },
 "nbformat": 4,
 "nbformat_minor": 4
}
